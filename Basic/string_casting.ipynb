{
 "cells": [
  {
   "cell_type": "markdown",
   "id": "3346fb8b",
   "metadata": {},
   "source": [
    "\n",
    "## Basic Calculator"
   ]
  },
  {
   "cell_type": "code",
   "execution_count": 9,
   "id": "4871c93c",
   "metadata": {},
   "outputs": [
    {
     "name": "stdout",
     "output_type": "stream",
     "text": [
      "['ArithmeticError',\n",
      " 'AssertionError',\n",
      " 'AttributeError',\n",
      " 'BaseException',\n",
      " 'BlockingIOError',\n",
      " 'BrokenPipeError',\n",
      " 'BufferError',\n",
      " 'BytesWarning',\n",
      " 'ChildProcessError',\n",
      " 'ConnectionAbortedError',\n",
      " 'ConnectionError',\n",
      " 'ConnectionRefusedError',\n",
      " 'ConnectionResetError',\n",
      " 'DeprecationWarning',\n",
      " 'EOFError',\n",
      " 'Ellipsis',\n",
      " 'EnvironmentError',\n",
      " 'Exception',\n",
      " 'False',\n",
      " 'FileExistsError',\n",
      " 'FileNotFoundError',\n",
      " 'FloatingPointError',\n",
      " 'FutureWarning',\n",
      " 'GeneratorExit',\n",
      " 'IOError',\n",
      " 'ImportError',\n",
      " 'ImportWarning',\n",
      " 'IndentationError',\n",
      " 'IndexError',\n",
      " 'InterruptedError',\n",
      " 'IsADirectoryError',\n",
      " 'KeyError',\n",
      " 'KeyboardInterrupt',\n",
      " 'LookupError',\n",
      " 'MemoryError',\n",
      " 'ModuleNotFoundError',\n",
      " 'NameError',\n",
      " 'None',\n",
      " 'NotADirectoryError',\n",
      " 'NotImplemented',\n",
      " 'NotImplementedError',\n",
      " 'OSError',\n",
      " 'OverflowError',\n",
      " 'PendingDeprecationWarning',\n",
      " 'PermissionError',\n",
      " 'ProcessLookupError',\n",
      " 'RecursionError',\n",
      " 'ReferenceError',\n",
      " 'ResourceWarning',\n",
      " 'RuntimeError',\n",
      " 'RuntimeWarning',\n",
      " 'StopAsyncIteration',\n",
      " 'StopIteration',\n",
      " 'SyntaxError',\n",
      " 'SyntaxWarning',\n",
      " 'SystemError',\n",
      " 'SystemExit',\n",
      " 'TabError',\n",
      " 'TimeoutError',\n",
      " 'True',\n",
      " 'TypeError',\n",
      " 'UnboundLocalError',\n",
      " 'UnicodeDecodeError',\n",
      " 'UnicodeEncodeError',\n",
      " 'UnicodeError',\n",
      " 'UnicodeTranslateError',\n",
      " 'UnicodeWarning',\n",
      " 'UserWarning',\n",
      " 'ValueError',\n",
      " 'Warning',\n",
      " 'ZeroDivisionError',\n",
      " '__IPYTHON__',\n",
      " '__build_class__',\n",
      " '__debug__',\n",
      " '__doc__',\n",
      " '__import__',\n",
      " '__loader__',\n",
      " '__name__',\n",
      " '__package__',\n",
      " '__spec__',\n",
      " 'abs',\n",
      " 'all',\n",
      " 'any',\n",
      " 'ascii',\n",
      " 'bin',\n",
      " 'bool',\n",
      " 'breakpoint',\n",
      " 'bytearray',\n",
      " 'bytes',\n",
      " 'callable',\n",
      " 'chr',\n",
      " 'classmethod',\n",
      " 'compile',\n",
      " 'complex',\n",
      " 'copyright',\n",
      " 'credits',\n",
      " 'delattr',\n",
      " 'dict',\n",
      " 'dir',\n",
      " 'display',\n",
      " 'divmod',\n",
      " 'enumerate',\n",
      " 'eval',\n",
      " 'exec',\n",
      " 'execfile',\n",
      " 'filter',\n",
      " 'float',\n",
      " 'format',\n",
      " 'frozenset',\n",
      " 'get_ipython',\n",
      " 'getattr',\n",
      " 'globals',\n",
      " 'hasattr',\n",
      " 'hash',\n",
      " 'help',\n",
      " 'hex',\n",
      " 'id',\n",
      " 'input',\n",
      " 'int',\n",
      " 'isinstance',\n",
      " 'issubclass',\n",
      " 'iter',\n",
      " 'len',\n",
      " 'license',\n",
      " 'list',\n",
      " 'locals',\n",
      " 'map',\n",
      " 'max',\n",
      " 'memoryview',\n",
      " 'min',\n",
      " 'next',\n",
      " 'object',\n",
      " 'oct',\n",
      " 'open',\n",
      " 'ord',\n",
      " 'pow',\n",
      " 'print',\n",
      " 'property',\n",
      " 'range',\n",
      " 'repr',\n",
      " 'reversed',\n",
      " 'round',\n",
      " 'runfile',\n",
      " 'set',\n",
      " 'setattr',\n",
      " 'slice',\n",
      " 'sorted',\n",
      " 'staticmethod',\n",
      " 'str',\n",
      " 'sum',\n",
      " 'super',\n",
      " 'tuple',\n",
      " 'type',\n",
      " 'vars',\n",
      " 'zip']\n"
     ]
    },
    {
     "data": {
      "text/plain": [
       "3"
      ]
     },
     "execution_count": 9,
     "metadata": {},
     "output_type": "execute_result"
    }
   ],
   "source": [
    "import builtins\n",
    "from pprint import pprint\n",
    "\n",
    "pprint(dir(builtins))\n",
    "1 + 2 "
   ]
  },
  {
   "cell_type": "code",
   "execution_count": 2,
   "id": "95ad5db3",
   "metadata": {},
   "outputs": [
    {
     "ename": "TypeError",
     "evalue": "unsupported operand type(s) for +: 'int' and 'str'",
     "output_type": "error",
     "traceback": [
      "\u001b[0;31m---------------------------------------------------------------------------\u001b[0m",
      "\u001b[0;31mTypeError\u001b[0m                                 Traceback (most recent call last)",
      "Input \u001b[0;32mIn [2]\u001b[0m, in \u001b[0;36m<cell line: 1>\u001b[0;34m()\u001b[0m\n\u001b[0;32m----> 1\u001b[0m \u001b[38;5;241;43m1\u001b[39;49m\u001b[43m \u001b[49m\u001b[38;5;241;43m+\u001b[39;49m\u001b[43m \u001b[49m\u001b[38;5;124;43m\"\u001b[39;49m\u001b[38;5;124;43msyting\u001b[39;49m\u001b[38;5;124;43m\"\u001b[39;49m\n",
      "\u001b[0;31mTypeError\u001b[0m: unsupported operand type(s) for +: 'int' and 'str'"
     ]
    }
   ],
   "source": [
    "1 + \"syting\""
   ]
  },
  {
   "cell_type": "code",
   "execution_count": 11,
   "id": "eb42af14",
   "metadata": {},
   "outputs": [
    {
     "name": "stdout",
     "output_type": "stream",
     "text": [
      "<class 'str'>\n"
     ]
    },
    {
     "ename": "ValueError",
     "evalue": "invalid literal for int() with base 10: 'hello world!'",
     "output_type": "error",
     "traceback": [
      "\u001b[0;31m---------------------------------------------------------------------------\u001b[0m",
      "\u001b[0;31mValueError\u001b[0m                                Traceback (most recent call last)",
      "Input \u001b[0;32mIn [11]\u001b[0m, in \u001b[0;36m<cell line: 3>\u001b[0;34m()\u001b[0m\n\u001b[1;32m      1\u001b[0m hello \u001b[38;5;241m=\u001b[39m \u001b[38;5;124m\"\u001b[39m\u001b[38;5;124mhello world!\u001b[39m\u001b[38;5;124m\"\u001b[39m\n\u001b[1;32m      2\u001b[0m \u001b[38;5;28mprint\u001b[39m(\u001b[38;5;28mtype\u001b[39m(hello))\n\u001b[0;32m----> 3\u001b[0m \u001b[38;5;28mprint\u001b[39m(\u001b[38;5;28;43mint\u001b[39;49m\u001b[43m(\u001b[49m\u001b[43mhello\u001b[49m\u001b[43m)\u001b[49m)\n",
      "\u001b[0;31mValueError\u001b[0m: invalid literal for int() with base 10: 'hello world!'"
     ]
    }
   ],
   "source": [
    "hello = \"hello world!\"\n",
    "print(type(hello))\n",
    "print(int(hello))\n",
    "\n"
   ]
  },
  {
   "cell_type": "code",
   "execution_count": 5,
   "id": "c7b23768",
   "metadata": {},
   "outputs": [
    {
     "ename": "ValueError",
     "evalue": "invalid literal for int() with base 10: 'hello world!'",
     "output_type": "error",
     "traceback": [
      "\u001b[0;31m---------------------------------------------------------------------------\u001b[0m",
      "\u001b[0;31mValueError\u001b[0m                                Traceback (most recent call last)",
      "Input \u001b[0;32mIn [5]\u001b[0m, in \u001b[0;36m<cell line: 1>\u001b[0;34m()\u001b[0m\n\u001b[0;32m----> 1\u001b[0m \u001b[38;5;28;43mint\u001b[39;49m\u001b[43m(\u001b[49m\u001b[43mhello\u001b[49m\u001b[43m)\u001b[49m\n",
      "\u001b[0;31mValueError\u001b[0m: invalid literal for int() with base 10: 'hello world!'"
     ]
    }
   ],
   "source": []
  },
  {
   "cell_type": "markdown",
   "id": "b37c8929",
   "metadata": {},
   "source": [
    "## We can't convert a str to an int"
   ]
  },
  {
   "cell_type": "code",
   "execution_count": 20,
   "id": "cb61eef9",
   "metadata": {},
   "outputs": [
    {
     "name": "stdout",
     "output_type": "stream",
     "text": [
      "45 <class 'str'>\n"
     ]
    }
   ],
   "source": [
    "x = 45\n",
    "\n",
    "y = str(x)\n",
    "print(y, type(y))"
   ]
  },
  {
   "cell_type": "markdown",
   "id": "b3a9689e",
   "metadata": {},
   "source": [
    "## Converted a int to a str"
   ]
  },
  {
   "cell_type": "code",
   "execution_count": 22,
   "id": "fb58e3be",
   "metadata": {},
   "outputs": [
    {
     "name": "stdout",
     "output_type": "stream",
     "text": [
      "<class 'int'>\n"
     ]
    }
   ],
   "source": [
    "num = 24\n",
    "print(type(num))"
   ]
  },
  {
   "cell_type": "code",
   "execution_count": 24,
   "id": "837df2ae",
   "metadata": {},
   "outputs": [
    {
     "name": "stdout",
     "output_type": "stream",
     "text": [
      "<class 'str'>\n"
     ]
    }
   ],
   "source": [
    "convert_to_string = str(num)\n",
    "print(type(convert_to_string))"
   ]
  },
  {
   "cell_type": "markdown",
   "id": "ccd39f56",
   "metadata": {},
   "source": [
    "## We have converted  a float to an int"
   ]
  },
  {
   "cell_type": "code",
   "execution_count": 25,
   "id": "1a2d671a",
   "metadata": {},
   "outputs": [
    {
     "name": "stdout",
     "output_type": "stream",
     "text": [
      "<class 'float'>\n"
     ]
    }
   ],
   "source": [
    "y = 12.2\n",
    "print(type(y))"
   ]
  },
  {
   "cell_type": "code",
   "execution_count": 26,
   "id": "c61d4d2e",
   "metadata": {},
   "outputs": [
    {
     "name": "stdout",
     "output_type": "stream",
     "text": [
      "<class 'int'>\n"
     ]
    }
   ],
   "source": [
    "x = int(y)\n",
    "print(type(x))"
   ]
  },
  {
   "cell_type": "code",
   "execution_count": 29,
   "id": "0e0e031b",
   "metadata": {},
   "outputs": [
    {
     "name": "stdout",
     "output_type": "stream",
     "text": [
      "Please provide your name: 12\n",
      "12\n"
     ]
    }
   ],
   "source": [
    "name = input(\"Please provide your name: \")\n",
    "print(name)\n"
   ]
  },
  {
   "cell_type": "code",
   "execution_count": 34,
   "id": "4a522a68",
   "metadata": {},
   "outputs": [
    {
     "name": "stdout",
     "output_type": "stream",
     "text": [
      "<class 'int'>\n"
     ]
    }
   ],
   "source": [
    "x  = 12\n",
    "print(type(x))\n"
   ]
  },
  {
   "cell_type": "markdown",
   "id": "76fe3109",
   "metadata": {},
   "source": [
    "## We want to convert an inter to a float"
   ]
  },
  {
   "cell_type": "code",
   "execution_count": 37,
   "id": "dc5c7c1a",
   "metadata": {},
   "outputs": [
    {
     "name": "stdout",
     "output_type": "stream",
     "text": [
      "<class 'float'>\n"
     ]
    }
   ],
   "source": [
    "convert_to_float = float(x)\n",
    "print(type(convert_to_float))"
   ]
  },
  {
   "cell_type": "markdown",
   "id": "eb423c79",
   "metadata": {},
   "source": [
    "str, int, float, bool"
   ]
  },
  {
   "cell_type": "markdown",
   "id": "ce4e9e3c",
   "metadata": {},
   "source": [
    "## Convert with bool"
   ]
  },
  {
   "cell_type": "markdown",
   "id": "71cb91dd",
   "metadata": {},
   "source": [
    "## Converting a floating object to bool"
   ]
  },
  {
   "cell_type": "code",
   "execution_count": 40,
   "id": "006c073f",
   "metadata": {},
   "outputs": [
    {
     "name": "stdout",
     "output_type": "stream",
     "text": [
      "0.5 <class 'float'>\n"
     ]
    }
   ],
   "source": [
    "x = 0.5\n",
    "print(x, type(x))"
   ]
  },
  {
   "cell_type": "code",
   "execution_count": 41,
   "id": "5527fde8",
   "metadata": {},
   "outputs": [
    {
     "name": "stdout",
     "output_type": "stream",
     "text": [
      "<class 'bool'> True\n"
     ]
    }
   ],
   "source": [
    "y = bool(x)\n",
    "print(type(y), y)"
   ]
  },
  {
   "cell_type": "code",
   "execution_count": 44,
   "id": "231ebfd7",
   "metadata": {},
   "outputs": [
    {
     "name": "stdout",
     "output_type": "stream",
     "text": [
      "<class 'list'>\n",
      "False\n"
     ]
    }
   ],
   "source": [
    "list_objects = []\n",
    "print(type(list_objects))\n",
    "y = bool(list_objects)\n",
    "print(y)"
   ]
  },
  {
   "cell_type": "code",
   "execution_count": 46,
   "id": "5fee4822",
   "metadata": {},
   "outputs": [
    {
     "data": {
      "text/plain": [
       "False"
      ]
     },
     "execution_count": 46,
     "metadata": {},
     "output_type": "execute_result"
    }
   ],
   "source": [
    "list_objects = []\n",
    "len(list_objects)\n",
    "bool(list_objects)"
   ]
  },
  {
   "cell_type": "code",
   "execution_count": 56,
   "id": "b7793728",
   "metadata": {},
   "outputs": [],
   "source": [
    "list_objects = [\"banna\"]\n",
    "len(list_objects)\n",
    "bool(list_objects)\n",
    "\n",
    "if list_objects == True:\n",
    "    print(\"The list is not empty\")\n"
   ]
  },
  {
   "cell_type": "code",
   "execution_count": 54,
   "id": "405a0307",
   "metadata": {},
   "outputs": [
    {
     "data": {
      "text/plain": [
       "str"
      ]
     },
     "execution_count": 54,
     "metadata": {},
     "output_type": "execute_result"
    }
   ],
   "source": [
    "type(\"False\")\n"
   ]
  },
  {
   "cell_type": "code",
   "execution_count": 55,
   "id": "182862bf",
   "metadata": {},
   "outputs": [
    {
     "data": {
      "text/plain": [
       "bool"
      ]
     },
     "execution_count": 55,
     "metadata": {},
     "output_type": "execute_result"
    }
   ],
   "source": [
    "type(True)"
   ]
  },
  {
   "cell_type": "code",
   "execution_count": 60,
   "id": "b24884d8",
   "metadata": {},
   "outputs": [
    {
     "name": "stdout",
     "output_type": "stream",
     "text": [
      "The list is not empty\n"
     ]
    }
   ],
   "source": [
    "list_objects = [\"\"]\n",
    "if bool(list_objects):\n",
    "    print(\"The list is not empty\")\n",
    "\n",
    "    "
   ]
  },
  {
   "cell_type": "code",
   "execution_count": 61,
   "id": "800768d8",
   "metadata": {},
   "outputs": [
    {
     "data": {
      "text/plain": [
       "False"
      ]
     },
     "execution_count": 61,
     "metadata": {},
     "output_type": "execute_result"
    }
   ],
   "source": [
    "empty = \"\"\n",
    "bool(empty)"
   ]
  },
  {
   "cell_type": "code",
   "execution_count": 62,
   "id": "42121455",
   "metadata": {},
   "outputs": [
    {
     "data": {
      "text/plain": [
       "True"
      ]
     },
     "execution_count": 62,
     "metadata": {},
     "output_type": "execute_result"
    }
   ],
   "source": [
    "empt = \" \"\n",
    "bool(empt)"
   ]
  },
  {
   "cell_type": "code",
   "execution_count": null,
   "id": "0721415f",
   "metadata": {},
   "outputs": [],
   "source": []
  }
 ],
 "metadata": {
  "kernelspec": {
   "display_name": "Python 3 (ipykernel)",
   "language": "python",
   "name": "python3"
  },
  "language_info": {
   "codemirror_mode": {
    "name": "ipython",
    "version": 3
   },
   "file_extension": ".py",
   "mimetype": "text/x-python",
   "name": "python",
   "nbconvert_exporter": "python",
   "pygments_lexer": "ipython3",
   "version": "3.9.12"
  }
 },
 "nbformat": 4,
 "nbformat_minor": 5
}
