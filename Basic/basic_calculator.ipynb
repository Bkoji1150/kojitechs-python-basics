{
 "cells": [
  {
   "cell_type": "markdown",
   "id": "a4f73580",
   "metadata": {},
   "source": [
    "## Built basic calculators\n",
    "\n"
   ]
  },
  {
   "cell_type": "code",
   "execution_count": 2,
   "id": "aab8580f",
   "metadata": {},
   "outputs": [
    {
     "name": "stdout",
     "output_type": "stream",
     "text": [
      "Please enter first number: 2\n",
      "Please enter second number: 2\n",
      "The addition of 2 number and 2: = 22\n",
      "<class 'str'>\n"
     ]
    }
   ],
   "source": [
    "first_num = input(\"Please enter first number: \")\n",
    "sec_number = input(\"Please enter second number: \")\n",
    "result = first_num + sec_number \n",
    "\n",
    "print(f\"The addition of {first_num} number and {sec_number}: = {result}\")\n",
    "print(type(first_num))"
   ]
  },
  {
   "cell_type": "code",
   "execution_count": 3,
   "id": "31d0e965",
   "metadata": {},
   "outputs": [
    {
     "data": {
      "text/plain": [
       "4"
      ]
     },
     "execution_count": 3,
     "metadata": {},
     "output_type": "execute_result"
    }
   ],
   "source": [
    "2 + 2"
   ]
  },
  {
   "cell_type": "code",
   "execution_count": 4,
   "id": "a7373939",
   "metadata": {},
   "outputs": [
    {
     "data": {
      "text/plain": [
       "'22'"
      ]
     },
     "execution_count": 4,
     "metadata": {},
     "output_type": "execute_result"
    }
   ],
   "source": [
    "\"2\"+\"2\""
   ]
  },
  {
   "cell_type": "markdown",
   "id": "0db20eb6",
   "metadata": {},
   "source": [
    "## We have to convert first_num, sec_number to an int"
   ]
  },
  {
   "cell_type": "code",
   "execution_count": 7,
   "id": "ed9527b4",
   "metadata": {},
   "outputs": [
    {
     "name": "stdout",
     "output_type": "stream",
     "text": [
      "Please enter first number: 234455\n",
      "Please enter second number: 23345\n",
      "The addition of 234455 number and 23345: = 257800\n",
      "<class 'int'>\n"
     ]
    }
   ],
   "source": [
    "first_num = int(input(\"Please enter first number: \"))\n",
    "sec_number = int(input(\"Please enter second number: \"))\n",
    "result = first_num + sec_number \n",
    "\n",
    "print(f\"The addition of {first_num} number and {sec_number}: = {result}\")\n",
    "print(type(first_num))"
   ]
  },
  {
   "cell_type": "markdown",
   "id": "0f0f836c",
   "metadata": {},
   "source": [
    "## What if the user provide a float number 12.2"
   ]
  },
  {
   "cell_type": "code",
   "execution_count": 9,
   "id": "9394ecb0",
   "metadata": {},
   "outputs": [
    {
     "name": "stdout",
     "output_type": "stream",
     "text": [
      "Please enter first number: 12.2\n",
      "Please enter second number: 12.2\n",
      "The addition of 12.2 number and 12.2: = 24.4\n",
      "<class 'float'>\n"
     ]
    }
   ],
   "source": [
    "first_num = float(input(\"Please enter first number: \"))\n",
    "sec_number = float(input(\"Please enter second number: \"))\n",
    "result = first_num + sec_number \n",
    "\n",
    "print(f\"The addition of {first_num} number and {sec_number}: = {result}\")\n",
    "print(type(first_num))"
   ]
  },
  {
   "cell_type": "markdown",
   "id": "1af055dd",
   "metadata": {},
   "source": [
    "## To solve this problem, we can use the builtins  method of python eval"
   ]
  },
  {
   "cell_type": "code",
   "execution_count": 11,
   "id": "e032c1d2",
   "metadata": {},
   "outputs": [],
   "source": [
    "import builtins\n",
    "from pprint import pprint"
   ]
  },
  {
   "cell_type": "code",
   "execution_count": 12,
   "id": "6f0b6d72",
   "metadata": {},
   "outputs": [
    {
     "name": "stdout",
     "output_type": "stream",
     "text": [
      "['ArithmeticError',\n",
      " 'AssertionError',\n",
      " 'AttributeError',\n",
      " 'BaseException',\n",
      " 'BlockingIOError',\n",
      " 'BrokenPipeError',\n",
      " 'BufferError',\n",
      " 'BytesWarning',\n",
      " 'ChildProcessError',\n",
      " 'ConnectionAbortedError',\n",
      " 'ConnectionError',\n",
      " 'ConnectionRefusedError',\n",
      " 'ConnectionResetError',\n",
      " 'DeprecationWarning',\n",
      " 'EOFError',\n",
      " 'Ellipsis',\n",
      " 'EnvironmentError',\n",
      " 'Exception',\n",
      " 'False',\n",
      " 'FileExistsError',\n",
      " 'FileNotFoundError',\n",
      " 'FloatingPointError',\n",
      " 'FutureWarning',\n",
      " 'GeneratorExit',\n",
      " 'IOError',\n",
      " 'ImportError',\n",
      " 'ImportWarning',\n",
      " 'IndentationError',\n",
      " 'IndexError',\n",
      " 'InterruptedError',\n",
      " 'IsADirectoryError',\n",
      " 'KeyError',\n",
      " 'KeyboardInterrupt',\n",
      " 'LookupError',\n",
      " 'MemoryError',\n",
      " 'ModuleNotFoundError',\n",
      " 'NameError',\n",
      " 'None',\n",
      " 'NotADirectoryError',\n",
      " 'NotImplemented',\n",
      " 'NotImplementedError',\n",
      " 'OSError',\n",
      " 'OverflowError',\n",
      " 'PendingDeprecationWarning',\n",
      " 'PermissionError',\n",
      " 'ProcessLookupError',\n",
      " 'RecursionError',\n",
      " 'ReferenceError',\n",
      " 'ResourceWarning',\n",
      " 'RuntimeError',\n",
      " 'RuntimeWarning',\n",
      " 'StopAsyncIteration',\n",
      " 'StopIteration',\n",
      " 'SyntaxError',\n",
      " 'SyntaxWarning',\n",
      " 'SystemError',\n",
      " 'SystemExit',\n",
      " 'TabError',\n",
      " 'TimeoutError',\n",
      " 'True',\n",
      " 'TypeError',\n",
      " 'UnboundLocalError',\n",
      " 'UnicodeDecodeError',\n",
      " 'UnicodeEncodeError',\n",
      " 'UnicodeError',\n",
      " 'UnicodeTranslateError',\n",
      " 'UnicodeWarning',\n",
      " 'UserWarning',\n",
      " 'ValueError',\n",
      " 'Warning',\n",
      " 'ZeroDivisionError',\n",
      " '__IPYTHON__',\n",
      " '__build_class__',\n",
      " '__debug__',\n",
      " '__doc__',\n",
      " '__import__',\n",
      " '__loader__',\n",
      " '__name__',\n",
      " '__package__',\n",
      " '__spec__',\n",
      " 'abs',\n",
      " 'all',\n",
      " 'any',\n",
      " 'ascii',\n",
      " 'bin',\n",
      " 'bool',\n",
      " 'breakpoint',\n",
      " 'bytearray',\n",
      " 'bytes',\n",
      " 'callable',\n",
      " 'chr',\n",
      " 'classmethod',\n",
      " 'compile',\n",
      " 'complex',\n",
      " 'copyright',\n",
      " 'credits',\n",
      " 'delattr',\n",
      " 'dict',\n",
      " 'dir',\n",
      " 'display',\n",
      " 'divmod',\n",
      " 'enumerate',\n",
      " 'eval',\n",
      " 'exec',\n",
      " 'execfile',\n",
      " 'filter',\n",
      " 'float',\n",
      " 'format',\n",
      " 'frozenset',\n",
      " 'get_ipython',\n",
      " 'getattr',\n",
      " 'globals',\n",
      " 'hasattr',\n",
      " 'hash',\n",
      " 'help',\n",
      " 'hex',\n",
      " 'id',\n",
      " 'input',\n",
      " 'int',\n",
      " 'isinstance',\n",
      " 'issubclass',\n",
      " 'iter',\n",
      " 'len',\n",
      " 'license',\n",
      " 'list',\n",
      " 'locals',\n",
      " 'map',\n",
      " 'max',\n",
      " 'memoryview',\n",
      " 'min',\n",
      " 'next',\n",
      " 'object',\n",
      " 'oct',\n",
      " 'open',\n",
      " 'ord',\n",
      " 'pow',\n",
      " 'print',\n",
      " 'property',\n",
      " 'range',\n",
      " 'repr',\n",
      " 'reversed',\n",
      " 'round',\n",
      " 'runfile',\n",
      " 'set',\n",
      " 'setattr',\n",
      " 'slice',\n",
      " 'sorted',\n",
      " 'staticmethod',\n",
      " 'str',\n",
      " 'sum',\n",
      " 'super',\n",
      " 'tuple',\n",
      " 'type',\n",
      " 'vars',\n",
      " 'zip']\n"
     ]
    }
   ],
   "source": [
    "pprint(dir(builtins))"
   ]
  },
  {
   "cell_type": "code",
   "execution_count": 14,
   "id": "c22b52bb",
   "metadata": {},
   "outputs": [
    {
     "name": "stdout",
     "output_type": "stream",
     "text": [
      "Please enter first number: 12\n",
      "Please enter second number: 12\n",
      "The addition of 12 and 12: = 24\n",
      "<class 'int'>\n"
     ]
    }
   ],
   "source": [
    "first_num = eval(input(\"Please enter first number: \")) # int or float \n",
    "sec_number = eval(input(\"Please enter second number: \")) # int or float \n",
    "result = first_num + sec_number \n",
    "\n",
    "print(f\"The addition of {first_num} and {sec_number} is: = {result}\")\n",
    "print(type(first_num))"
   ]
  },
  {
   "cell_type": "markdown",
   "id": "2d865092",
   "metadata": {},
   "source": [
    "## Let's now work with float"
   ]
  },
  {
   "cell_type": "code",
   "execution_count": 15,
   "id": "f0a9c046",
   "metadata": {},
   "outputs": [
    {
     "name": "stdout",
     "output_type": "stream",
     "text": [
      "Please enter first number: 12.2\n",
      "Please enter second number: 12.2\n",
      "The addition of 12.2 and 12.2 is: = 24.4\n",
      "<class 'float'>\n"
     ]
    }
   ],
   "source": [
    "first_num = eval(input(\"Please enter first number: \")) # int or float \n",
    "sec_number = eval(input(\"Please enter second number: \")) # int or float \n",
    "result = first_num + sec_number \n",
    "\n",
    "print(f\"The addition of {first_num} and {sec_number} is: = {result}\")\n",
    "print(type(first_num))"
   ]
  },
  {
   "cell_type": "code",
   "execution_count": null,
   "id": "09e3eda8",
   "metadata": {},
   "outputs": [],
   "source": [
    "name = input(\"Enter name!\")\n",
    "print(name)\n"
   ]
  },
  {
   "cell_type": "code",
   "execution_count": null,
   "id": "6d5fe0fc",
   "metadata": {},
   "outputs": [],
   "source": []
  },
  {
   "cell_type": "code",
   "execution_count": null,
   "id": "a2121cb4",
   "metadata": {},
   "outputs": [],
   "source": [
    "name = input(\"Enter name!\")\n",
    "\n"
   ]
  },
  {
   "cell_type": "code",
   "execution_count": null,
   "id": "546d86ad",
   "metadata": {},
   "outputs": [],
   "source": []
  },
  {
   "cell_type": "code",
   "execution_count": null,
   "id": "de0f34d2",
   "metadata": {},
   "outputs": [],
   "source": [
    "print('hello')"
   ]
  },
  {
   "cell_type": "code",
   "execution_count": null,
   "id": "1ad75244",
   "metadata": {},
   "outputs": [],
   "source": []
  }
 ],
 "metadata": {
  "kernelspec": {
   "display_name": "Python 3 (ipykernel)",
   "language": "python",
   "name": "python3"
  },
  "language_info": {
   "codemirror_mode": {
    "name": "ipython",
    "version": 3
   },
   "file_extension": ".py",
   "mimetype": "text/x-python",
   "name": "python",
   "nbconvert_exporter": "python",
   "pygments_lexer": "ipython3",
   "version": "3.9.12"
  }
 },
 "nbformat": 4,
 "nbformat_minor": 5
}
