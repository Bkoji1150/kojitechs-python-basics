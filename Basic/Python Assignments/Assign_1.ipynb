{
 "cells": [
  {
   "cell_type": "code",
   "execution_count": 4,
   "id": "d0fdd29e",
   "metadata": {},
   "outputs": [],
   "source": [
    "import builtins\n",
    "from pprint import pprint\n",
    "items = [\n",
    "   ( \"Product1\", 100),\n",
    "    (\"Product2\", 140),\n",
    "    (\"Product3\", 250),\n",
    "    (\"Product4\", 200)\n",
    "]\n"
   ]
  },
  {
   "cell_type": "markdown",
   "id": "870637ac",
   "metadata": {},
   "source": [
    "## The foor_loop expression "
   ]
  },
  {
   "cell_type": "code",
   "execution_count": 2,
   "id": "33683acb",
   "metadata": {},
   "outputs": [
    {
     "name": "stdout",
     "output_type": "stream",
     "text": [
      "('Product3', 250)\n",
      "('Product4', 200)\n"
     ]
    }
   ],
   "source": [
    "for item in items:\n",
    "    if item[1] >= 200:\n",
    "        print(item)"
   ]
  },
  {
   "cell_type": "markdown",
   "id": "88014709",
   "metadata": {},
   "source": [
    "## filter builtins method"
   ]
  },
  {
   "cell_type": "code",
   "execution_count": 5,
   "id": "53c314b3",
   "metadata": {},
   "outputs": [
    {
     "name": "stdout",
     "output_type": "stream",
     "text": [
      "['ArithmeticError',\n",
      " 'AssertionError',\n",
      " 'AttributeError',\n",
      " 'BaseException',\n",
      " 'BlockingIOError',\n",
      " 'BrokenPipeError',\n",
      " 'BufferError',\n",
      " 'BytesWarning',\n",
      " 'ChildProcessError',\n",
      " 'ConnectionAbortedError',\n",
      " 'ConnectionError',\n",
      " 'ConnectionRefusedError',\n",
      " 'ConnectionResetError',\n",
      " 'DeprecationWarning',\n",
      " 'EOFError',\n",
      " 'Ellipsis',\n",
      " 'EnvironmentError',\n",
      " 'Exception',\n",
      " 'False',\n",
      " 'FileExistsError',\n",
      " 'FileNotFoundError',\n",
      " 'FloatingPointError',\n",
      " 'FutureWarning',\n",
      " 'GeneratorExit',\n",
      " 'IOError',\n",
      " 'ImportError',\n",
      " 'ImportWarning',\n",
      " 'IndentationError',\n",
      " 'IndexError',\n",
      " 'InterruptedError',\n",
      " 'IsADirectoryError',\n",
      " 'KeyError',\n",
      " 'KeyboardInterrupt',\n",
      " 'LookupError',\n",
      " 'MemoryError',\n",
      " 'ModuleNotFoundError',\n",
      " 'NameError',\n",
      " 'None',\n",
      " 'NotADirectoryError',\n",
      " 'NotImplemented',\n",
      " 'NotImplementedError',\n",
      " 'OSError',\n",
      " 'OverflowError',\n",
      " 'PendingDeprecationWarning',\n",
      " 'PermissionError',\n",
      " 'ProcessLookupError',\n",
      " 'RecursionError',\n",
      " 'ReferenceError',\n",
      " 'ResourceWarning',\n",
      " 'RuntimeError',\n",
      " 'RuntimeWarning',\n",
      " 'StopAsyncIteration',\n",
      " 'StopIteration',\n",
      " 'SyntaxError',\n",
      " 'SyntaxWarning',\n",
      " 'SystemError',\n",
      " 'SystemExit',\n",
      " 'TabError',\n",
      " 'TimeoutError',\n",
      " 'True',\n",
      " 'TypeError',\n",
      " 'UnboundLocalError',\n",
      " 'UnicodeDecodeError',\n",
      " 'UnicodeEncodeError',\n",
      " 'UnicodeError',\n",
      " 'UnicodeTranslateError',\n",
      " 'UnicodeWarning',\n",
      " 'UserWarning',\n",
      " 'ValueError',\n",
      " 'Warning',\n",
      " 'ZeroDivisionError',\n",
      " '__IPYTHON__',\n",
      " '__build_class__',\n",
      " '__debug__',\n",
      " '__doc__',\n",
      " '__import__',\n",
      " '__loader__',\n",
      " '__name__',\n",
      " '__package__',\n",
      " '__spec__',\n",
      " 'abs',\n",
      " 'all',\n",
      " 'any',\n",
      " 'ascii',\n",
      " 'bin',\n",
      " 'bool',\n",
      " 'breakpoint',\n",
      " 'bytearray',\n",
      " 'bytes',\n",
      " 'callable',\n",
      " 'chr',\n",
      " 'classmethod',\n",
      " 'compile',\n",
      " 'complex',\n",
      " 'copyright',\n",
      " 'credits',\n",
      " 'delattr',\n",
      " 'dict',\n",
      " 'dir',\n",
      " 'display',\n",
      " 'divmod',\n",
      " 'enumerate',\n",
      " 'eval',\n",
      " 'exec',\n",
      " 'execfile',\n",
      " 'filter',\n",
      " 'float',\n",
      " 'format',\n",
      " 'frozenset',\n",
      " 'get_ipython',\n",
      " 'getattr',\n",
      " 'globals',\n",
      " 'hasattr',\n",
      " 'hash',\n",
      " 'help',\n",
      " 'hex',\n",
      " 'id',\n",
      " 'input',\n",
      " 'int',\n",
      " 'isinstance',\n",
      " 'issubclass',\n",
      " 'iter',\n",
      " 'len',\n",
      " 'license',\n",
      " 'list',\n",
      " 'locals',\n",
      " 'map',\n",
      " 'max',\n",
      " 'memoryview',\n",
      " 'min',\n",
      " 'next',\n",
      " 'object',\n",
      " 'oct',\n",
      " 'open',\n",
      " 'ord',\n",
      " 'pow',\n",
      " 'print',\n",
      " 'property',\n",
      " 'range',\n",
      " 'repr',\n",
      " 'reversed',\n",
      " 'round',\n",
      " 'runfile',\n",
      " 'set',\n",
      " 'setattr',\n",
      " 'slice',\n",
      " 'sorted',\n",
      " 'staticmethod',\n",
      " 'str',\n",
      " 'sum',\n",
      " 'super',\n",
      " 'tuple',\n",
      " 'type',\n",
      " 'vars',\n",
      " 'zip']\n"
     ]
    }
   ],
   "source": [
    "pprint(dir(builtins))"
   ]
  },
  {
   "cell_type": "code",
   "execution_count": 15,
   "id": "c35f3b53",
   "metadata": {},
   "outputs": [
    {
     "name": "stdout",
     "output_type": "stream",
     "text": [
      "[('Product3', 250), ('Product4', 200)]\n"
     ]
    }
   ],
   "source": [
    "   \n",
    "      \n",
    "result = filter(lambda item:item[1] >=200, items)\n",
    "print(list(result))\n"
   ]
  },
  {
   "cell_type": "code",
   "execution_count": null,
   "id": "54f0a52b",
   "metadata": {},
   "outputs": [],
   "source": []
  }
 ],
 "metadata": {
  "kernelspec": {
   "display_name": "Python 3 (ipykernel)",
   "language": "python",
   "name": "python3"
  },
  "language_info": {
   "codemirror_mode": {
    "name": "ipython",
    "version": 3
   },
   "file_extension": ".py",
   "mimetype": "text/x-python",
   "name": "python",
   "nbconvert_exporter": "python",
   "pygments_lexer": "ipython3",
   "version": "3.9.12"
  }
 },
 "nbformat": 4,
 "nbformat_minor": 5
}
