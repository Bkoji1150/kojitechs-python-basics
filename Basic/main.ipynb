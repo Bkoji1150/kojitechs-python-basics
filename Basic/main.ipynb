{
 "cells": [
  {
   "cell_type": "markdown",
   "id": "05a58684",
   "metadata": {},
   "source": [
    "\n",
    "# Why python??\n",
    "\n",
    "\n",
    "\n",
    "\n"
   ]
  },
  {
   "cell_type": "markdown",
   "id": "1ddecebd",
   "metadata": {},
   "source": [
    "### buildins functions in python?"
   ]
  },
  {
   "cell_type": "code",
   "execution_count": 5,
   "id": "03d5bc61",
   "metadata": {},
   "outputs": [
    {
     "name": "stdout",
     "output_type": "stream",
     "text": [
      "['ArithmeticError',\n",
      " 'AssertionError',\n",
      " 'AttributeError',\n",
      " 'BaseException',\n",
      " 'BlockingIOError',\n",
      " 'BrokenPipeError',\n",
      " 'BufferError',\n",
      " 'BytesWarning',\n",
      " 'ChildProcessError',\n",
      " 'ConnectionAbortedError',\n",
      " 'ConnectionError',\n",
      " 'ConnectionRefusedError',\n",
      " 'ConnectionResetError',\n",
      " 'DeprecationWarning',\n",
      " 'EOFError',\n",
      " 'Ellipsis',\n",
      " 'EncodingWarning',\n",
      " 'EnvironmentError',\n",
      " 'Exception',\n",
      " 'False',\n",
      " 'FileExistsError',\n",
      " 'FileNotFoundError',\n",
      " 'FloatingPointError',\n",
      " 'FutureWarning',\n",
      " 'GeneratorExit',\n",
      " 'IOError',\n",
      " 'ImportError',\n",
      " 'ImportWarning',\n",
      " 'IndentationError',\n",
      " 'IndexError',\n",
      " 'InterruptedError',\n",
      " 'IsADirectoryError',\n",
      " 'KeyError',\n",
      " 'KeyboardInterrupt',\n",
      " 'LookupError',\n",
      " 'MemoryError',\n",
      " 'ModuleNotFoundError',\n",
      " 'NameError',\n",
      " 'None',\n",
      " 'NotADirectoryError',\n",
      " 'NotImplemented',\n",
      " 'NotImplementedError',\n",
      " 'OSError',\n",
      " 'OverflowError',\n",
      " 'PendingDeprecationWarning',\n",
      " 'PermissionError',\n",
      " 'ProcessLookupError',\n",
      " 'RecursionError',\n",
      " 'ReferenceError',\n",
      " 'ResourceWarning',\n",
      " 'RuntimeError',\n",
      " 'RuntimeWarning',\n",
      " 'StopAsyncIteration',\n",
      " 'StopIteration',\n",
      " 'SyntaxError',\n",
      " 'SyntaxWarning',\n",
      " 'SystemError',\n",
      " 'SystemExit',\n",
      " 'TabError',\n",
      " 'TimeoutError',\n",
      " 'True',\n",
      " 'TypeError',\n",
      " 'UnboundLocalError',\n",
      " 'UnicodeDecodeError',\n",
      " 'UnicodeEncodeError',\n",
      " 'UnicodeError',\n",
      " 'UnicodeTranslateError',\n",
      " 'UnicodeWarning',\n",
      " 'UserWarning',\n",
      " 'ValueError',\n",
      " 'Warning',\n",
      " 'ZeroDivisionError',\n",
      " '__IPYTHON__',\n",
      " '__build_class__',\n",
      " '__debug__',\n",
      " '__doc__',\n",
      " '__import__',\n",
      " '__loader__',\n",
      " '__name__',\n",
      " '__package__',\n",
      " '__spec__',\n",
      " 'abs',\n",
      " 'aiter',\n",
      " 'all',\n",
      " 'anext',\n",
      " 'any',\n",
      " 'ascii',\n",
      " 'bin',\n",
      " 'bool',\n",
      " 'breakpoint',\n",
      " 'bytearray',\n",
      " 'bytes',\n",
      " 'callable',\n",
      " 'chr',\n",
      " 'classmethod',\n",
      " 'compile',\n",
      " 'complex',\n",
      " 'copyright',\n",
      " 'credits',\n",
      " 'delattr',\n",
      " 'dict',\n",
      " 'dir',\n",
      " 'display',\n",
      " 'divmod',\n",
      " 'enumerate',\n",
      " 'eval',\n",
      " 'exec',\n",
      " 'execfile',\n",
      " 'filter',\n",
      " 'float',\n",
      " 'format',\n",
      " 'frozenset',\n",
      " 'get_ipython',\n",
      " 'getattr',\n",
      " 'globals',\n",
      " 'hasattr',\n",
      " 'hash',\n",
      " 'help',\n",
      " 'hex',\n",
      " 'id',\n",
      " 'input',\n",
      " 'int',\n",
      " 'isinstance',\n",
      " 'issubclass',\n",
      " 'iter',\n",
      " 'len',\n",
      " 'license',\n",
      " 'list',\n",
      " 'locals',\n",
      " 'map',\n",
      " 'max',\n",
      " 'memoryview',\n",
      " 'min',\n",
      " 'next',\n",
      " 'object',\n",
      " 'oct',\n",
      " 'open',\n",
      " 'ord',\n",
      " 'pow',\n",
      " 'print',\n",
      " 'property',\n",
      " 'range',\n",
      " 'repr',\n",
      " 'reversed',\n",
      " 'round',\n",
      " 'runfile',\n",
      " 'set',\n",
      " 'setattr',\n",
      " 'slice',\n",
      " 'sorted',\n",
      " 'staticmethod',\n",
      " 'str',\n",
      " 'sum',\n",
      " 'super',\n",
      " 'tuple',\n",
      " 'type',\n",
      " 'vars',\n",
      " 'zip']\n"
     ]
    }
   ],
   "source": [
    "import builtins\n",
    "from pprint import pprint\n",
    "\n",
    "\n",
    "pprint(dir(builtins))\n"
   ]
  },
  {
   "cell_type": "markdown",
   "id": "26832e28",
   "metadata": {},
   "source": [
    "### All what we see above are python methods/functions"
   ]
  },
  {
   "cell_type": "markdown",
   "id": "50151756",
   "metadata": {},
   "source": [
    "### Let's look at some of the builtins of python."
   ]
  },
  {
   "cell_type": "code",
   "execution_count": 8,
   "id": "afd6aa7e",
   "metadata": {},
   "outputs": [
    {
     "name": "stdout",
     "output_type": "stream",
     "text": [
      "hello koji!\n"
     ]
    }
   ],
   "source": [
    "print(\"hello koji!\")"
   ]
  },
  {
   "cell_type": "code",
   "execution_count": 10,
   "id": "290c44a2",
   "metadata": {},
   "outputs": [
    {
     "name": "stdout",
     "output_type": "stream",
     "text": [
      "11\n"
     ]
    }
   ],
   "source": [
    "print(len(\"hello koji!\"))"
   ]
  },
  {
   "cell_type": "code",
   "execution_count": 15,
   "id": "de16eaea",
   "metadata": {},
   "outputs": [
    {
     "name": "stdout",
     "output_type": "stream",
     "text": [
      "[1, 2, 3, 4, 5, 4]\n"
     ]
    }
   ],
   "source": [
    "print([1,2,3,4,5,4])"
   ]
  },
  {
   "cell_type": "code",
   "execution_count": 14,
   "id": "ba3f4b2e",
   "metadata": {},
   "outputs": [
    {
     "name": "stdout",
     "output_type": "stream",
     "text": [
      "19\n"
     ]
    }
   ],
   "source": [
    "print(sum([1,2,3,4,5,4]))\n"
   ]
  },
  {
   "cell_type": "code",
   "execution_count": 17,
   "id": "d085a2bf",
   "metadata": {},
   "outputs": [
    {
     "name": "stdout",
     "output_type": "stream",
     "text": [
      "<class 'str'>\n"
     ]
    }
   ],
   "source": [
    "print(type(\"hello koji!\"))"
   ]
  },
  {
   "cell_type": "code",
   "execution_count": 19,
   "id": "c680a8ca",
   "metadata": {},
   "outputs": [
    {
     "name": "stdout",
     "output_type": "stream",
     "text": [
      "Please enter user name!koji\n",
      "koji\n"
     ]
    }
   ],
   "source": [
    "print(input(\"Please enter user name!\"))"
   ]
  },
  {
   "cell_type": "markdown",
   "id": "8d584c48",
   "metadata": {},
   "source": [
    "### Python Variables"
   ]
  },
  {
   "cell_type": "code",
   "execution_count": 40,
   "id": "3c7fd573",
   "metadata": {},
   "outputs": [
    {
     "name": "stdout",
     "output_type": "stream",
     "text": [
      "<class 'str'>\n",
      "<class 'str'>\n",
      "my first name is koji and my last name is Bello and i'm 91 years old!\n"
     ]
    }
   ],
   "source": [
    "# first_name = \"koji\"\n",
    "\n",
    "last_name = \"Bello\"\n",
    "age = 91\n",
    "\n",
    "print(type(last_name))\n",
    "print(type(first_name))\n",
    "\n",
    "print(f\"my first name is {first_name} and my last name is {last_name} and i'm {age} years old!\")\n",
    "\n"
   ]
  },
  {
   "cell_type": "markdown",
   "id": "ee5b7b90",
   "metadata": {},
   "source": [
    "### The expected output is \n",
    "my first name is koji and my last name is Bello and i'm 90 years old!"
   ]
  },
  {
   "cell_type": "code",
   "execution_count": 33,
   "id": "eb972ab3",
   "metadata": {},
   "outputs": [
    {
     "name": "stdout",
     "output_type": "stream",
     "text": [
      "my first name is koji and my last name is Bello and i'm 91 years old!\n"
     ]
    }
   ],
   "source": [
    "print(f\"my first name is {first_name} and my last name is {last_name} and i'm {age} years old!\")"
   ]
  },
  {
   "cell_type": "code",
   "execution_count": 34,
   "id": "1f9c51fd",
   "metadata": {},
   "outputs": [],
   "source": [
    "school = \"kojitechs\"\n",
    "class_room = \"Python\"\n"
   ]
  },
  {
   "cell_type": "markdown",
   "id": "b48fbc19",
   "metadata": {},
   "source": [
    "### Write a program that would print\n",
    "\n",
    "my name is koji, and i school in kojitechs, and i learn python!"
   ]
  },
  {
   "cell_type": "code",
   "execution_count": 35,
   "id": "532e1c41",
   "metadata": {},
   "outputs": [
    {
     "name": "stdout",
     "output_type": "stream",
     "text": [
      "my name is koji, and i school in kojitechs, and i learn Python!\n"
     ]
    }
   ],
   "source": [
    "print(f\"my name is koji, and i school in {school}, and i learn {class_room}!\")"
   ]
  },
  {
   "cell_type": "markdown",
   "id": "e2a41750",
   "metadata": {},
   "source": [
    "# How to name your variables\n",
    "avoid using python builtins functions to name your variables"
   ]
  },
  {
   "cell_type": "code",
   "execution_count": 36,
   "id": "7aaea5af",
   "metadata": {},
   "outputs": [
    {
     "data": {
      "text/plain": [
       "False"
      ]
     },
     "execution_count": 36,
     "metadata": {},
     "output_type": "execute_result"
    }
   ],
   "source": [
    "False "
   ]
  },
  {
   "cell_type": "markdown",
   "id": "5ecc49e1",
   "metadata": {},
   "source": [
    "### Variables are case sensitive"
   ]
  },
  {
   "cell_type": "code",
   "execution_count": 41,
   "id": "1c9cd5d8",
   "metadata": {},
   "outputs": [
    {
     "ename": "NameError",
     "evalue": "name 'first_named' is not defined",
     "output_type": "error",
     "traceback": [
      "\u001b[0;31m---------------------------------------------------------------------------\u001b[0m",
      "\u001b[0;31mNameError\u001b[0m                                 Traceback (most recent call last)",
      "Input \u001b[0;32mIn [41]\u001b[0m, in \u001b[0;36m<module>\u001b[0;34m\u001b[0m\n\u001b[1;32m      1\u001b[0m First_NameD \u001b[38;5;241m=\u001b[39m \u001b[38;5;124m\"\u001b[39m\u001b[38;5;124mkoji\u001b[39m\u001b[38;5;124m\"\u001b[39m\n\u001b[0;32m----> 2\u001b[0m \u001b[38;5;28mprint\u001b[39m(\u001b[43mfirst_named\u001b[49m)\n",
      "\u001b[0;31mNameError\u001b[0m: name 'first_named' is not defined"
     ]
    }
   ],
   "source": [
    "First_NameD = \"koji\"\n",
    "print(first_named)"
   ]
  },
  {
   "cell_type": "markdown",
   "id": "b2486d1f",
   "metadata": {},
   "source": [
    "## No space in between , use an underscore"
   ]
  },
  {
   "cell_type": "code",
   "execution_count": 46,
   "id": "f0f06164",
   "metadata": {},
   "outputs": [],
   "source": [
    "fist_name = \"koji\""
   ]
  },
  {
   "cell_type": "markdown",
   "id": "7b33e145",
   "metadata": {},
   "source": [
    "## Built-in Data Types\n",
    "In programming, data type is an important concept.\n",
    "\n",
    "Variables can store data of different types, and different types can do different things.\n",
    "\n",
    "Python has the following data types built-in by default, in these categories:"
   ]
  },
  {
   "cell_type": "markdown",
   "id": "092a40c0",
   "metadata": {},
   "source": [
    "## Some of the python data types we have \n"
   ]
  },
  {
   "cell_type": "code",
   "execution_count": 51,
   "id": "7388c490",
   "metadata": {},
   "outputs": [
    {
     "name": "stdout",
     "output_type": "stream",
     "text": [
      "<class 'int'>\n"
     ]
    },
    {
     "data": {
      "text/plain": [
       "float"
      ]
     },
     "execution_count": 51,
     "metadata": {},
     "output_type": "execute_result"
    }
   ],
   "source": [
    " # text =  str\n",
    "type(\"kojibello\")    \n",
    "# Numeric types: int   \n",
    "   \n",
    "num = 1234\n",
    "\n",
    "print(type(num))\n",
    "\n",
    "# float data type\n",
    "type(12.3)\n"
   ]
  },
  {
   "cell_type": "code",
   "execution_count": 50,
   "id": "71880de0",
   "metadata": {},
   "outputs": [
    {
     "name": "stdout",
     "output_type": "stream",
     "text": [
      "Please provide our age: kojibello\n",
      "kojibello <class 'str'>\n"
     ]
    }
   ],
   "source": [
    "age = input(\"Please provide our age: \")\n",
    "print(age, type(age))"
   ]
  },
  {
   "cell_type": "code",
   "execution_count": 52,
   "id": "845209e9",
   "metadata": {},
   "outputs": [
    {
     "data": {
      "text/plain": [
       "dict"
      ]
     },
     "execution_count": 52,
     "metadata": {},
     "output_type": "execute_result"
    }
   ],
   "source": [
    "# dict {}\n",
    "\n",
    "# mapping. \n",
    "student_info = {\"name\":\"koji bello\", \"age\":24}\n",
    "type(student_info)"
   ]
  },
  {
   "cell_type": "code",
   "execution_count": 53,
   "id": "6decf129",
   "metadata": {},
   "outputs": [
    {
     "data": {
      "text/plain": [
       "set"
      ]
     },
     "execution_count": 53,
     "metadata": {},
     "output_type": "execute_result"
    }
   ],
   "source": [
    "# set {}\n",
    "set_numbers = {1,2,3,4,5,2,4,5}\n",
    "type(set_numbers)"
   ]
  },
  {
   "cell_type": "code",
   "execution_count": 54,
   "id": "f402dbfb",
   "metadata": {},
   "outputs": [
    {
     "data": {
      "text/plain": [
       "set"
      ]
     },
     "execution_count": 54,
     "metadata": {},
     "output_type": "execute_result"
    }
   ],
   "source": [
    "x = {\"apple\", \"banana\", \"cherry\"}\n",
    "type(x)"
   ]
  },
  {
   "cell_type": "code",
   "execution_count": 55,
   "id": "cd536cd0",
   "metadata": {},
   "outputs": [
    {
     "name": "stdout",
     "output_type": "stream",
     "text": [
      "<class 'list'>\n"
     ]
    }
   ],
   "source": [
    "# list []\n",
    "list_of_items = [\"apple\", \"banana\", \"cherry\"]\n",
    "print(type(list_of_items))"
   ]
  },
  {
   "cell_type": "code",
   "execution_count": 57,
   "id": "03982502",
   "metadata": {},
   "outputs": [
    {
     "name": "stdout",
     "output_type": "stream",
     "text": [
      "<class 'bool'>\n"
     ]
    }
   ],
   "source": [
    "# bool \n",
    "# True, true\n",
    "# False false\n",
    "is_approved = True \n",
    "is_hot = False\n",
    "type(is_approved)\n",
    "print(type(is_hot))"
   ]
  },
  {
   "cell_type": "code",
   "execution_count": 58,
   "id": "3239637d",
   "metadata": {},
   "outputs": [
    {
     "name": "stdout",
     "output_type": "stream",
     "text": [
      "<class 'NoneType'>\n"
     ]
    }
   ],
   "source": [
    "y = None \n",
    "print(type(y))"
   ]
  },
  {
   "cell_type": "code",
   "execution_count": 59,
   "id": "0baf867c",
   "metadata": {},
   "outputs": [],
   "source": [
    "b = None "
   ]
  },
  {
   "cell_type": "markdown",
   "id": "886c3be0",
   "metadata": {},
   "source": [
    "## Iteration"
   ]
  },
  {
   "cell_type": "code",
   "execution_count": null,
   "id": "234c092d",
   "metadata": {},
   "outputs": [],
   "source": [
    "key, value = dict\n",
    "\n",
    "product = []"
   ]
  }
 ],
 "metadata": {
  "kernelspec": {
   "display_name": "Python 3 (ipykernel)",
   "language": "python",
   "name": "python3"
  },
  "language_info": {
   "codemirror_mode": {
    "name": "ipython",
    "version": 3
   },
   "file_extension": ".py",
   "mimetype": "text/x-python",
   "name": "python",
   "nbconvert_exporter": "python",
   "pygments_lexer": "ipython3",
   "version": "3.10.0"
  }
 },
 "nbformat": 4,
 "nbformat_minor": 5
}
