{
 "cells": [
  {
   "cell_type": "markdown",
   "id": "653d6f16",
   "metadata": {},
   "source": [
    "## str, int, list , dict, bool, float operations in python"
   ]
  },
  {
   "cell_type": "code",
   "execution_count": 3,
   "id": "f0ef2457",
   "metadata": {},
   "outputs": [
    {
     "name": "stdout",
     "output_type": "stream",
     "text": [
      "H\n"
     ]
    }
   ],
   "source": [
    "from pprint import pprint \n",
    "import os \n",
    "name = \"Hello world!\"\n",
    "print(name[0])"
   ]
  },
  {
   "cell_type": "code",
   "execution_count": 4,
   "id": "8ba0e99e",
   "metadata": {},
   "outputs": [
    {
     "name": "stdout",
     "output_type": "stream",
     "text": [
      "['__add__',\n",
      " '__class__',\n",
      " '__contains__',\n",
      " '__delattr__',\n",
      " '__dir__',\n",
      " '__doc__',\n",
      " '__eq__',\n",
      " '__format__',\n",
      " '__ge__',\n",
      " '__getattribute__',\n",
      " '__getitem__',\n",
      " '__getnewargs__',\n",
      " '__gt__',\n",
      " '__hash__',\n",
      " '__init__',\n",
      " '__init_subclass__',\n",
      " '__iter__',\n",
      " '__le__',\n",
      " '__len__',\n",
      " '__lt__',\n",
      " '__mod__',\n",
      " '__mul__',\n",
      " '__ne__',\n",
      " '__new__',\n",
      " '__reduce__',\n",
      " '__reduce_ex__',\n",
      " '__repr__',\n",
      " '__rmod__',\n",
      " '__rmul__',\n",
      " '__setattr__',\n",
      " '__sizeof__',\n",
      " '__str__',\n",
      " '__subclasshook__',\n",
      " 'capitalize',\n",
      " 'casefold',\n",
      " 'center',\n",
      " 'count',\n",
      " 'encode',\n",
      " 'endswith',\n",
      " 'expandtabs',\n",
      " 'find',\n",
      " 'format',\n",
      " 'format_map',\n",
      " 'index',\n",
      " 'isalnum',\n",
      " 'isalpha',\n",
      " 'isascii',\n",
      " 'isdecimal',\n",
      " 'isdigit',\n",
      " 'isidentifier',\n",
      " 'islower',\n",
      " 'isnumeric',\n",
      " 'isprintable',\n",
      " 'isspace',\n",
      " 'istitle',\n",
      " 'isupper',\n",
      " 'join',\n",
      " 'ljust',\n",
      " 'lower',\n",
      " 'lstrip',\n",
      " 'maketrans',\n",
      " 'partition',\n",
      " 'removeprefix',\n",
      " 'removesuffix',\n",
      " 'replace',\n",
      " 'rfind',\n",
      " 'rindex',\n",
      " 'rjust',\n",
      " 'rpartition',\n",
      " 'rsplit',\n",
      " 'rstrip',\n",
      " 'split',\n",
      " 'splitlines',\n",
      " 'startswith',\n",
      " 'strip',\n",
      " 'swapcase',\n",
      " 'title',\n",
      " 'translate',\n",
      " 'upper',\n",
      " 'zfill']\n"
     ]
    }
   ],
   "source": [
    "pprint(dir(name))"
   ]
  },
  {
   "cell_type": "markdown",
   "id": "8f9a9f8b",
   "metadata": {},
   "source": [
    "### First Operation within str is index"
   ]
  },
  {
   "cell_type": "code",
   "execution_count": 14,
   "id": "38a48f85",
   "metadata": {},
   "outputs": [
    {
     "data": {
      "text/plain": [
       "True"
      ]
     },
     "execution_count": 14,
     "metadata": {},
     "output_type": "execute_result"
    }
   ],
   "source": [
    "name = \"hello world!\"\n",
    "name.index('w')\n",
    "y = \"HELLO\"\n",
    "y.isupper()"
   ]
  },
  {
   "cell_type": "code",
   "execution_count": 8,
   "id": "7dbbeff6",
   "metadata": {},
   "outputs": [
    {
     "data": {
      "text/plain": [
       "0"
      ]
     },
     "execution_count": 8,
     "metadata": {},
     "output_type": "execute_result"
    }
   ],
   "source": [
    "name.index(\"H\")"
   ]
  },
  {
   "cell_type": "code",
   "execution_count": 10,
   "id": "367efe10",
   "metadata": {},
   "outputs": [
    {
     "name": "stdout",
     "output_type": "stream",
     "text": [
      "H\n"
     ]
    }
   ],
   "source": [
    "print(name[0])"
   ]
  },
  {
   "cell_type": "code",
   "execution_count": 11,
   "id": "15022d1a",
   "metadata": {},
   "outputs": [
    {
     "data": {
      "text/plain": [
       "False"
      ]
     },
     "execution_count": 11,
     "metadata": {},
     "output_type": "execute_result"
    }
   ],
   "source": [
    "name.isupper()"
   ]
  },
  {
   "cell_type": "code",
   "execution_count": 15,
   "id": "b2f299d2",
   "metadata": {},
   "outputs": [
    {
     "data": {
      "text/plain": [
       "True"
      ]
     },
     "execution_count": 15,
     "metadata": {},
     "output_type": "execute_result"
    }
   ],
   "source": [
    "name.islower()"
   ]
  },
  {
   "cell_type": "code",
   "execution_count": 16,
   "id": "7db23d9e",
   "metadata": {},
   "outputs": [
    {
     "data": {
      "text/plain": [
       "'HELLO WORLD!'"
      ]
     },
     "execution_count": 16,
     "metadata": {},
     "output_type": "execute_result"
    }
   ],
   "source": [
    "name.upper()"
   ]
  },
  {
   "cell_type": "code",
   "execution_count": 18,
   "id": "0f5146f6",
   "metadata": {},
   "outputs": [
    {
     "name": "stdout",
     "output_type": "stream",
     "text": [
      "Enter name:! HOHEJEJEURYYHR\n",
      "hohejejeuryyhr\n"
     ]
    }
   ],
   "source": [
    "name = input(\"Enter name:! \")\n",
    "print(name.lower())"
   ]
  },
  {
   "cell_type": "code",
   "execution_count": 33,
   "id": "b661e534",
   "metadata": {},
   "outputs": [
    {
     "data": {
      "text/plain": [
       "-1"
      ]
     },
     "execution_count": 33,
     "metadata": {},
     "output_type": "execute_result"
    }
   ],
   "source": [
    "name = \"my name is koji and i love python!\"\n",
    "name.find(\"bello\")"
   ]
  },
  {
   "cell_type": "code",
   "execution_count": 21,
   "id": "4c6403d0",
   "metadata": {},
   "outputs": [
    {
     "name": "stdout",
     "output_type": "stream",
     "text": [
      "My name is koji and i love python!\n"
     ]
    }
   ],
   "source": [
    "print(name)"
   ]
  },
  {
   "cell_type": "code",
   "execution_count": 23,
   "id": "444d3754",
   "metadata": {},
   "outputs": [
    {
     "data": {
      "text/plain": [
       "False"
      ]
     },
     "execution_count": 23,
     "metadata": {},
     "output_type": "execute_result"
    }
   ],
   "source": [
    "name.endswith(\"s\")"
   ]
  },
  {
   "cell_type": "code",
   "execution_count": 32,
   "id": "50f00464",
   "metadata": {},
   "outputs": [
    {
     "data": {
      "text/plain": [
       "'                                            Hello world!                                            '"
      ]
     },
     "execution_count": 32,
     "metadata": {},
     "output_type": "execute_result"
    }
   ],
   "source": [
    "name.center(100)"
   ]
  },
  {
   "cell_type": "code",
   "execution_count": 25,
   "id": "a530d6f2",
   "metadata": {},
   "outputs": [
    {
     "name": "stdout",
     "output_type": "stream",
     "text": [
      "My name is koji and i love python!\n"
     ]
    }
   ],
   "source": [
    "print(name)\n"
   ]
  },
  {
   "cell_type": "code",
   "execution_count": 28,
   "id": "b0de0c37",
   "metadata": {},
   "outputs": [
    {
     "ename": "OSError",
     "evalue": "[Errno 25] Inappropriate ioctl for device",
     "output_type": "error",
     "traceback": [
      "\u001b[0;31m---------------------------------------------------------------------------\u001b[0m",
      "\u001b[0;31mOSError\u001b[0m                                   Traceback (most recent call last)",
      "Input \u001b[0;32mIn [28]\u001b[0m, in \u001b[0;36m<cell line: 1>\u001b[0;34m()\u001b[0m\n\u001b[0;32m----> 1\u001b[0m \u001b[43mos\u001b[49m\u001b[38;5;241;43m.\u001b[39;49m\u001b[43mget_terminal_size\u001b[49m\u001b[43m(\u001b[49m\u001b[43m)\u001b[49m\u001b[38;5;241m.\u001b[39mcolumns\n",
      "\u001b[0;31mOSError\u001b[0m: [Errno 25] Inappropriate ioctl for device"
     ]
    }
   ],
   "source": []
  },
  {
   "cell_type": "code",
   "execution_count": 35,
   "id": "1fb5939c",
   "metadata": {},
   "outputs": [
    {
     "name": "stdout",
     "output_type": "stream",
     "text": [
      "my name is koji and i love python!\n"
     ]
    }
   ],
   "source": [
    "print(name)\n"
   ]
  },
  {
   "cell_type": "code",
   "execution_count": 36,
   "id": "b9b7ac9f",
   "metadata": {},
   "outputs": [
    {
     "data": {
      "text/plain": [
       "'My Name Is Koji And I Love Python!'"
      ]
     },
     "execution_count": 36,
     "metadata": {},
     "output_type": "execute_result"
    }
   ],
   "source": [
    "name.title()"
   ]
  },
  {
   "cell_type": "code",
   "execution_count": 40,
   "id": "32325404",
   "metadata": {},
   "outputs": [
    {
     "name": "stdout",
     "output_type": "stream",
     "text": [
      "['my', 'name', 'is', 'koji', 'and', 'i', 'love', 'python!']\n"
     ]
    }
   ],
   "source": [
    "print(name.split())"
   ]
  },
  {
   "cell_type": "code",
   "execution_count": 44,
   "id": "860f21ea",
   "metadata": {},
   "outputs": [
    {
     "name": "stdout",
     "output_type": "stream",
     "text": [
      "['Hello', 'world!']\n"
     ]
    }
   ],
   "source": [
    "hello = \"Hello world!\"\n",
    "print(hello.split())"
   ]
  },
  {
   "cell_type": "markdown",
   "id": "02184937",
   "metadata": {},
   "source": [
    "## Operations within a list"
   ]
  },
  {
   "cell_type": "code",
   "execution_count": 48,
   "id": "9a398e63",
   "metadata": {},
   "outputs": [
    {
     "data": {
      "text/plain": [
       "['__add__',\n",
       " '__class__',\n",
       " '__class_getitem__',\n",
       " '__contains__',\n",
       " '__delattr__',\n",
       " '__delitem__',\n",
       " '__dir__',\n",
       " '__doc__',\n",
       " '__eq__',\n",
       " '__format__',\n",
       " '__ge__',\n",
       " '__getattribute__',\n",
       " '__getitem__',\n",
       " '__gt__',\n",
       " '__hash__',\n",
       " '__iadd__',\n",
       " '__imul__',\n",
       " '__init__',\n",
       " '__init_subclass__',\n",
       " '__iter__',\n",
       " '__le__',\n",
       " '__len__',\n",
       " '__lt__',\n",
       " '__mul__',\n",
       " '__ne__',\n",
       " '__new__',\n",
       " '__reduce__',\n",
       " '__reduce_ex__',\n",
       " '__repr__',\n",
       " '__reversed__',\n",
       " '__rmul__',\n",
       " '__setattr__',\n",
       " '__setitem__',\n",
       " '__sizeof__',\n",
       " '__str__',\n",
       " '__subclasshook__',\n",
       " 'append',\n",
       " 'clear',\n",
       " 'copy',\n",
       " 'count',\n",
       " 'extend',\n",
       " 'index',\n",
       " 'insert',\n",
       " 'pop',\n",
       " 'remove',\n",
       " 'reverse',\n",
       " 'sort']"
      ]
     },
     "execution_count": 48,
     "metadata": {},
     "output_type": "execute_result"
    }
   ],
   "source": [
    "fruits = [\"apple\", \"banana\", \"cherry\"]\n",
    "dir(fruits)\n"
   ]
  },
  {
   "cell_type": "code",
   "execution_count": 49,
   "id": "98aeac7d",
   "metadata": {},
   "outputs": [
    {
     "name": "stdout",
     "output_type": "stream",
     "text": [
      "['apple', 'banana', 'cherry']\n"
     ]
    }
   ],
   "source": [
    "print(fruits)"
   ]
  },
  {
   "cell_type": "code",
   "execution_count": 54,
   "id": "c31677ec",
   "metadata": {},
   "outputs": [
    {
     "name": "stdout",
     "output_type": "stream",
     "text": [
      "apple\n"
     ]
    }
   ],
   "source": [
    "print(fruits[-3])"
   ]
  },
  {
   "cell_type": "markdown",
   "id": "99cb92fd",
   "metadata": {},
   "source": [
    "## append"
   ]
  },
  {
   "cell_type": "code",
   "execution_count": 60,
   "id": "88a6a47e",
   "metadata": {},
   "outputs": [
    {
     "name": "stdout",
     "output_type": "stream",
     "text": [
      "['apple', 'banana', 'cherry', 'pawpaw']\n"
     ]
    }
   ],
   "source": [
    "list_2 = [\"pawpaw\"]\n",
    "fruits=  [\"apple\", \"banana\", \"cherry\"] \n",
    "\n",
    "fruits.append(\"pawpaw\")\n",
    "print(fruits)"
   ]
  },
  {
   "cell_type": "markdown",
   "id": "f302fc36",
   "metadata": {},
   "source": [
    "## extend"
   ]
  },
  {
   "cell_type": "code",
   "execution_count": 61,
   "id": "acbc5dd1",
   "metadata": {},
   "outputs": [
    {
     "name": "stdout",
     "output_type": "stream",
     "text": [
      "['pawpaw', 'apple', 'banana', 'cherry', 'pawpaw']\n"
     ]
    }
   ],
   "source": [
    "list_2.extend(fruits)\n",
    "print(list_2)"
   ]
  },
  {
   "cell_type": "code",
   "execution_count": 68,
   "id": "ec14f1ca",
   "metadata": {},
   "outputs": [
    {
     "name": "stdout",
     "output_type": "stream",
     "text": [
      "[]\n"
     ]
    }
   ],
   "source": [
    "#fruits.remove(\"cherry\")\n",
    "print(fruits)"
   ]
  },
  {
   "cell_type": "markdown",
   "id": "d123ad75",
   "metadata": {},
   "source": [
    "## remove"
   ]
  },
  {
   "cell_type": "code",
   "execution_count": 91,
   "id": "da12d28b",
   "metadata": {},
   "outputs": [
    {
     "name": "stdout",
     "output_type": "stream",
     "text": [
      "['banana', 'cherry', 'apple']\n"
     ]
    }
   ],
   "source": [
    "fruits =  [\"banana\", \"cherry\", \"apple\"] \n",
    "print(fruits)\n"
   ]
  },
  {
   "cell_type": "code",
   "execution_count": null,
   "id": "c33b8303",
   "metadata": {},
   "outputs": [],
   "source": []
  },
  {
   "cell_type": "code",
   "execution_count": 92,
   "id": "7f7ef402",
   "metadata": {},
   "outputs": [
    {
     "name": "stdout",
     "output_type": "stream",
     "text": [
      "['banana', 'cherry', 'apple']\n",
      "['apple', 'banana', 'cherry']\n"
     ]
    }
   ],
   "source": [
    "print(fruits)\n",
    "fruits.sort()\n",
    "print(fruits)"
   ]
  },
  {
   "cell_type": "code",
   "execution_count": 93,
   "id": "b0eb3ee5",
   "metadata": {},
   "outputs": [
    {
     "name": "stdout",
     "output_type": "stream",
     "text": [
      "['apple', 'banana', 'cherry']\n"
     ]
    }
   ],
   "source": [
    "# fruits.clear()\n",
    "print(fruits)"
   ]
  },
  {
   "cell_type": "code",
   "execution_count": 94,
   "id": "b55d4c0f",
   "metadata": {},
   "outputs": [
    {
     "name": "stdout",
     "output_type": "stream",
     "text": [
      "['apple', 'banana', 'cherry']\n"
     ]
    }
   ],
   "source": [
    "print(fruits)\n",
    "fruits.clear()"
   ]
  },
  {
   "cell_type": "markdown",
   "id": "07e8fcfc",
   "metadata": {},
   "source": [
    "## Assignment "
   ]
  },
  {
   "cell_type": "code",
   "execution_count": 8,
   "id": "fd51ad66",
   "metadata": {},
   "outputs": [
    {
     "name": "stdout",
     "output_type": "stream",
     "text": [
      "{'brand': 'Buic', 'model': 'Mustang', 'year': 1964}\n",
      "5\n"
     ]
    }
   ],
   "source": [
    "thisdict = { \"brand\": \"Ford\", \"model\": \"Mustang\",\"year\": 1964}\n",
    "thisdict[\"brand\"] = \"Buic\"\n",
    "print(thisdict)\n",
    "\n",
    "x = 2\n",
    "y = 4\n",
    "\n",
    "x = 5\n",
    "print(x)\n"
   ]
  },
  {
   "cell_type": "markdown",
   "id": "d356d97f",
   "metadata": {},
   "source": [
    "## What if the key doesn't exist"
   ]
  },
  {
   "cell_type": "code",
   "execution_count": 10,
   "id": "9d1cec36",
   "metadata": {},
   "outputs": [
    {
     "name": "stdout",
     "output_type": "stream",
     "text": [
      "{'brand': 'Ford', 'model': 'Mustang', 'year': 1964, 'country': ['Nigeria', 'Cameroon', 'Ghanna']}\n"
     ]
    }
   ],
   "source": [
    "thisdict = { \"brand\": \"Ford\", \"model\": \"Mustang\",\"year\": 1964}\n",
    "thisdict[\"country\"] = [\"Nigeria\", \"Cameroon\", \"Ghanna\"]\n",
    "\n",
    "print(thisdict)\n"
   ]
  },
  {
   "cell_type": "markdown",
   "id": "449feee2",
   "metadata": {},
   "source": [
    "## Operations with dictionary"
   ]
  },
  {
   "cell_type": "code",
   "execution_count": 12,
   "id": "0690ab3e",
   "metadata": {},
   "outputs": [
    {
     "name": "stdout",
     "output_type": "stream",
     "text": [
      "['__class__',\n",
      " '__class_getitem__',\n",
      " '__contains__',\n",
      " '__delattr__',\n",
      " '__delitem__',\n",
      " '__dir__',\n",
      " '__doc__',\n",
      " '__eq__',\n",
      " '__format__',\n",
      " '__ge__',\n",
      " '__getattribute__',\n",
      " '__getitem__',\n",
      " '__gt__',\n",
      " '__hash__',\n",
      " '__init__',\n",
      " '__init_subclass__',\n",
      " '__ior__',\n",
      " '__iter__',\n",
      " '__le__',\n",
      " '__len__',\n",
      " '__lt__',\n",
      " '__ne__',\n",
      " '__new__',\n",
      " '__or__',\n",
      " '__reduce__',\n",
      " '__reduce_ex__',\n",
      " '__repr__',\n",
      " '__reversed__',\n",
      " '__ror__',\n",
      " '__setattr__',\n",
      " '__setitem__',\n",
      " '__sizeof__',\n",
      " '__str__',\n",
      " '__subclasshook__',\n",
      " 'clear',\n",
      " 'copy',\n",
      " 'fromkeys',\n",
      " 'get',\n",
      " 'items',\n",
      " 'keys',\n",
      " 'pop',\n",
      " 'popitem',\n",
      " 'setdefault',\n",
      " 'update',\n",
      " 'values']\n"
     ]
    }
   ],
   "source": [
    "pprint(dir(thisdict))"
   ]
  },
  {
   "cell_type": "code",
   "execution_count": 14,
   "id": "9f328bc3",
   "metadata": {},
   "outputs": [
    {
     "name": "stdout",
     "output_type": "stream",
     "text": [
      "{'brand': 'Ford', 'model': 'Mustang', 'year': 1964, 'country': ['Nigeria', 'Cameroon', 'Ghanna']}\n"
     ]
    }
   ],
   "source": [
    "print(thisdict)"
   ]
  },
  {
   "cell_type": "code",
   "execution_count": 21,
   "id": "d2e4e510",
   "metadata": {},
   "outputs": [
    {
     "name": "stdout",
     "output_type": "stream",
     "text": [
      "{'u': None, 'i': None, 'e': None, 'a': None, 'o': None}\n"
     ]
    }
   ],
   "source": [
    "keys = {'a','e', 'i', 'o', 'u'}\n",
    "vowels = thisdict.fromkeys(keys)\n",
    "\n",
    "print(vowels)"
   ]
  },
  {
   "cell_type": "code",
   "execution_count": 19,
   "id": "895da526",
   "metadata": {},
   "outputs": [
    {
     "name": "stdout",
     "output_type": "stream",
     "text": [
      "{'u': [1], 'i': [1], 'e': [1], 'a': [1], 'o': [1]}\n"
     ]
    }
   ],
   "source": [
    "keys = {'a','e', 'i', 'o', 'u'}\n",
    "value = [1]\n",
    "vowels = thisdict.fromkeys(keys,value )\n",
    "print(vowels)\n"
   ]
  },
  {
   "cell_type": "markdown",
   "id": "8625bf99",
   "metadata": {},
   "source": [
    "## get() method in dictionary"
   ]
  },
  {
   "cell_type": "code",
   "execution_count": 55,
   "id": "db35dffa",
   "metadata": {},
   "outputs": [
    {
     "name": "stdout",
     "output_type": "stream",
     "text": [
      "{'brand': 'Ford', 'model': 'Mustang', 'year': 1964, 'country': ['Nigeria', 'Cameroon', 'Ghanna']}\n"
     ]
    }
   ],
   "source": [
    "new_dict = {'brand': 'Ford',\n",
    "            'model': 'Mustang', \n",
    "            'year': 1964, \n",
    "            'country': ['Nigeria','Cameroon', 'Ghanna']}\n",
    "\n",
    "\n",
    "print(new_dict)"
   ]
  },
  {
   "cell_type": "code",
   "execution_count": 56,
   "id": "f1beb386",
   "metadata": {},
   "outputs": [
    {
     "name": "stdout",
     "output_type": "stream",
     "text": [
      "['Nigeria', 'Cameroon', 'Ghanna']\n"
     ]
    }
   ],
   "source": [
    "print(new_dict['country'])\n"
   ]
  },
  {
   "cell_type": "markdown",
   "id": "22cdf766",
   "metadata": {},
   "source": [
    "## key() method in dict"
   ]
  },
  {
   "cell_type": "code",
   "execution_count": 57,
   "id": "cb8d18ee",
   "metadata": {},
   "outputs": [
    {
     "name": "stdout",
     "output_type": "stream",
     "text": [
      "dict_keys(['brand', 'model', 'year', 'country'])\n"
     ]
    }
   ],
   "source": [
    "print(new_dict.keys())"
   ]
  },
  {
   "cell_type": "code",
   "execution_count": 58,
   "id": "2dee5ca3",
   "metadata": {},
   "outputs": [
    {
     "name": "stdout",
     "output_type": "stream",
     "text": [
      "{'brand': 'Ford', 'model': 'Mustang', 'year': 1964, 'country': ['Nigeria', 'Cameroon', 'Ghanna']}\n"
     ]
    }
   ],
   "source": [
    "print(new_dict)"
   ]
  },
  {
   "cell_type": "markdown",
   "id": "b6ee4a02",
   "metadata": {},
   "source": [
    "## pop() method in dictionary"
   ]
  },
  {
   "cell_type": "code",
   "execution_count": 59,
   "id": "5eb33c9e",
   "metadata": {},
   "outputs": [
    {
     "name": "stdout",
     "output_type": "stream",
     "text": [
      "{'brand': 'Ford', 'model': 'Mustang', 'year': 1964, 'country': ['Nigeria', 'Cameroon', 'Ghanna']}\n"
     ]
    }
   ],
   "source": [
    "print(new_dict)"
   ]
  },
  {
   "cell_type": "code",
   "execution_count": 60,
   "id": "dfb64e54",
   "metadata": {},
   "outputs": [
    {
     "name": "stdout",
     "output_type": "stream",
     "text": [
      "['Nigeria', 'Cameroon', 'Ghanna']\n"
     ]
    }
   ],
   "source": [
    "print(new_dict.pop('country'))\n"
   ]
  },
  {
   "cell_type": "code",
   "execution_count": 34,
   "id": "dfbf2701",
   "metadata": {},
   "outputs": [
    {
     "name": "stdout",
     "output_type": "stream",
     "text": [
      "{'brand': 'Ford', 'model': 'Mustang', 'year': 1964}\n"
     ]
    }
   ],
   "source": [
    "print(new_dict)\n"
   ]
  },
  {
   "cell_type": "code",
   "execution_count": 45,
   "id": "6161fdd9",
   "metadata": {},
   "outputs": [
    {
     "name": "stdout",
     "output_type": "stream",
     "text": [
      "('year', 1964)\n"
     ]
    }
   ],
   "source": [
    "print(new_dict.popitem())"
   ]
  },
  {
   "cell_type": "markdown",
   "id": "f07a1889",
   "metadata": {},
   "source": [
    "## setdefault() method in dict"
   ]
  },
  {
   "cell_type": "code",
   "execution_count": 68,
   "id": "33abc5de",
   "metadata": {},
   "outputs": [
    {
     "name": "stdout",
     "output_type": "stream",
     "text": [
      "None\n"
     ]
    }
   ],
   "source": [
    "dictionary1 = { 'A': 'Geeks', 'B': 'For', 'C': 'Geeks'}\n",
    "def_def  = dictionary1.setdefault('D', \"Free\") \n",
    "\n",
    "print(dictionary1.get('F'))\n"
   ]
  },
  {
   "cell_type": "markdown",
   "id": "9530e651",
   "metadata": {},
   "source": [
    "## values() method in dict"
   ]
  },
  {
   "cell_type": "code",
   "execution_count": 71,
   "id": "4c91f770",
   "metadata": {},
   "outputs": [
    {
     "name": "stdout",
     "output_type": "stream",
     "text": [
      "dict_values(['Geeks', 'For', 'Geeks'])\n"
     ]
    }
   ],
   "source": [
    "dictionary1 = { 'A': 'Geeks', 'B': 'For', 'C': 'Geeks'}\n",
    "print(dictionary1.values())"
   ]
  },
  {
   "cell_type": "markdown",
   "id": "69c0427a",
   "metadata": {},
   "source": [
    "## Nested dictionary"
   ]
  },
  {
   "cell_type": "code",
   "execution_count": 79,
   "id": "29be12ea",
   "metadata": {},
   "outputs": [
    {
     "name": "stdout",
     "output_type": "stream",
     "text": [
      "{1: {'name': 'John', 'age': '27', 'sex': 'Male'}, 2: {'name': 'Marie', 'age': '22', 'sex': 'Female'}, 3: {'name': 'Luna', 'age': '24', 'sex': 'Female', 'married': 'No'}}\n"
     ]
    },
    {
     "data": {
      "text/plain": [
       "{'name': 'John', 'age': '27', 'sex': 'Male'}"
      ]
     },
     "execution_count": 79,
     "metadata": {},
     "output_type": "execute_result"
    }
   ],
   "source": [
    "people = {1: {'name': 'John', 'age': '27', 'sex': 'Male'}, \n",
    "          2: {'name': 'Marie', 'age': '22', 'sex': 'Female'},\n",
    "          3: {'name': 'Luna', 'age': '24', 'sex': 'Female', 'married': 'No'}}\n",
    "print(people)\n",
    "people.get(1)\n"
   ]
  },
  {
   "cell_type": "code",
   "execution_count": 82,
   "id": "fd8d1261",
   "metadata": {},
   "outputs": [
    {
     "name": "stdout",
     "output_type": "stream",
     "text": [
      "['_PY_TO_OP_NAME',\n",
      " '__class__',\n",
      " '__delattr__',\n",
      " '__dict__',\n",
      " '__dir__',\n",
      " '__doc__',\n",
      " '__eq__',\n",
      " '__format__',\n",
      " '__ge__',\n",
      " '__getattr__',\n",
      " '__getattribute__',\n",
      " '__gt__',\n",
      " '__hash__',\n",
      " '__init__',\n",
      " '__init_subclass__',\n",
      " '__le__',\n",
      " '__lt__',\n",
      " '__module__',\n",
      " '__ne__',\n",
      " '__new__',\n",
      " '__reduce__',\n",
      " '__reduce_ex__',\n",
      " '__repr__',\n",
      " '__setattr__',\n",
      " '__sizeof__',\n",
      " '__str__',\n",
      " '__subclasshook__',\n",
      " '__weakref__',\n",
      " '_cache',\n",
      " '_client_config',\n",
      " '_convert_to_request_dict',\n",
      " '_emit_api_params',\n",
      " '_endpoint',\n",
      " '_exceptions',\n",
      " '_exceptions_factory',\n",
      " '_get_waiter_config',\n",
      " '_load_exceptions',\n",
      " '_loader',\n",
      " '_make_api_call',\n",
      " '_make_request',\n",
      " '_register_handlers',\n",
      " '_request_signer',\n",
      " '_response_parser',\n",
      " '_serializer',\n",
      " '_service_model',\n",
      " 'add_client_id_to_open_id_connect_provider',\n",
      " 'add_role_to_instance_profile',\n",
      " 'add_user_to_group',\n",
      " 'attach_group_policy',\n",
      " 'attach_role_policy',\n",
      " 'attach_user_policy',\n",
      " 'can_paginate',\n",
      " 'change_password',\n",
      " 'create_access_key',\n",
      " 'create_account_alias',\n",
      " 'create_group',\n",
      " 'create_instance_profile',\n",
      " 'create_login_profile',\n",
      " 'create_open_id_connect_provider',\n",
      " 'create_policy',\n",
      " 'create_policy_version',\n",
      " 'create_role',\n",
      " 'create_saml_provider',\n",
      " 'create_service_linked_role',\n",
      " 'create_service_specific_credential',\n",
      " 'create_user',\n",
      " 'create_virtual_mfa_device',\n",
      " 'deactivate_mfa_device',\n",
      " 'delete_access_key',\n",
      " 'delete_account_alias',\n",
      " 'delete_account_password_policy',\n",
      " 'delete_group',\n",
      " 'delete_group_policy',\n",
      " 'delete_instance_profile',\n",
      " 'delete_login_profile',\n",
      " 'delete_open_id_connect_provider',\n",
      " 'delete_policy',\n",
      " 'delete_policy_version',\n",
      " 'delete_role',\n",
      " 'delete_role_permissions_boundary',\n",
      " 'delete_role_policy',\n",
      " 'delete_saml_provider',\n",
      " 'delete_server_certificate',\n",
      " 'delete_service_linked_role',\n",
      " 'delete_service_specific_credential',\n",
      " 'delete_signing_certificate',\n",
      " 'delete_ssh_public_key',\n",
      " 'delete_user',\n",
      " 'delete_user_permissions_boundary',\n",
      " 'delete_user_policy',\n",
      " 'delete_virtual_mfa_device',\n",
      " 'detach_group_policy',\n",
      " 'detach_role_policy',\n",
      " 'detach_user_policy',\n",
      " 'enable_mfa_device',\n",
      " 'exceptions',\n",
      " 'generate_credential_report',\n",
      " 'generate_organizations_access_report',\n",
      " 'generate_presigned_url',\n",
      " 'generate_service_last_accessed_details',\n",
      " 'get_access_key_last_used',\n",
      " 'get_account_authorization_details',\n",
      " 'get_account_password_policy',\n",
      " 'get_account_summary',\n",
      " 'get_context_keys_for_custom_policy',\n",
      " 'get_context_keys_for_principal_policy',\n",
      " 'get_credential_report',\n",
      " 'get_group',\n",
      " 'get_group_policy',\n",
      " 'get_instance_profile',\n",
      " 'get_login_profile',\n",
      " 'get_open_id_connect_provider',\n",
      " 'get_organizations_access_report',\n",
      " 'get_paginator',\n",
      " 'get_policy',\n",
      " 'get_policy_version',\n",
      " 'get_role',\n",
      " 'get_role_policy',\n",
      " 'get_saml_provider',\n",
      " 'get_server_certificate',\n",
      " 'get_service_last_accessed_details',\n",
      " 'get_service_last_accessed_details_with_entities',\n",
      " 'get_service_linked_role_deletion_status',\n",
      " 'get_ssh_public_key',\n",
      " 'get_user',\n",
      " 'get_user_policy',\n",
      " 'get_waiter',\n",
      " 'list_access_keys',\n",
      " 'list_account_aliases',\n",
      " 'list_attached_group_policies',\n",
      " 'list_attached_role_policies',\n",
      " 'list_attached_user_policies',\n",
      " 'list_entities_for_policy',\n",
      " 'list_group_policies',\n",
      " 'list_groups',\n",
      " 'list_groups_for_user',\n",
      " 'list_instance_profile_tags',\n",
      " 'list_instance_profiles',\n",
      " 'list_instance_profiles_for_role',\n",
      " 'list_mfa_device_tags',\n",
      " 'list_mfa_devices',\n",
      " 'list_open_id_connect_provider_tags',\n",
      " 'list_open_id_connect_providers',\n",
      " 'list_policies',\n",
      " 'list_policies_granting_service_access',\n",
      " 'list_policy_tags',\n",
      " 'list_policy_versions',\n",
      " 'list_role_policies',\n",
      " 'list_role_tags',\n",
      " 'list_roles',\n",
      " 'list_saml_provider_tags',\n",
      " 'list_saml_providers',\n",
      " 'list_server_certificate_tags',\n",
      " 'list_server_certificates',\n",
      " 'list_service_specific_credentials',\n",
      " 'list_signing_certificates',\n",
      " 'list_ssh_public_keys',\n",
      " 'list_user_policies',\n",
      " 'list_user_tags',\n",
      " 'list_users',\n",
      " 'list_virtual_mfa_devices',\n",
      " 'meta',\n",
      " 'put_group_policy',\n",
      " 'put_role_permissions_boundary',\n",
      " 'put_role_policy',\n",
      " 'put_user_permissions_boundary',\n",
      " 'put_user_policy',\n",
      " 'remove_client_id_from_open_id_connect_provider',\n",
      " 'remove_role_from_instance_profile',\n",
      " 'remove_user_from_group',\n",
      " 'reset_service_specific_credential',\n",
      " 'resync_mfa_device',\n",
      " 'set_default_policy_version',\n",
      " 'set_security_token_service_preferences',\n",
      " 'simulate_custom_policy',\n",
      " 'simulate_principal_policy',\n",
      " 'tag_instance_profile',\n",
      " 'tag_mfa_device',\n",
      " 'tag_open_id_connect_provider',\n",
      " 'tag_policy',\n",
      " 'tag_role',\n",
      " 'tag_saml_provider',\n",
      " 'tag_server_certificate',\n",
      " 'tag_user',\n",
      " 'untag_instance_profile',\n",
      " 'untag_mfa_device',\n",
      " 'untag_open_id_connect_provider',\n",
      " 'untag_policy',\n",
      " 'untag_role',\n",
      " 'untag_saml_provider',\n",
      " 'untag_server_certificate',\n",
      " 'untag_user',\n",
      " 'update_access_key',\n",
      " 'update_account_password_policy',\n",
      " 'update_assume_role_policy',\n",
      " 'update_group',\n",
      " 'update_login_profile',\n",
      " 'update_open_id_connect_provider_thumbprint',\n",
      " 'update_role',\n",
      " 'update_role_description',\n",
      " 'update_saml_provider',\n",
      " 'update_server_certificate',\n",
      " 'update_service_specific_credential',\n",
      " 'update_signing_certificate',\n",
      " 'update_ssh_public_key',\n",
      " 'update_user',\n",
      " 'upload_server_certificate',\n",
      " 'upload_signing_certificate',\n",
      " 'upload_ssh_public_key',\n",
      " 'waiter_names']\n"
     ]
    }
   ],
   "source": [
    "import boto3 \n",
    "session = boto3.session.Session()\n",
    "client = session.client('iam')\n",
    "pprint(dir(client))"
   ]
  },
  {
   "cell_type": "code",
   "execution_count": 88,
   "id": "e840aaa1",
   "metadata": {},
   "outputs": [
    {
     "name": "stdout",
     "output_type": "stream",
     "text": [
      "['_PY_TO_OP_NAME',\n",
      " '__class__',\n",
      " '__delattr__',\n",
      " '__dict__',\n",
      " '__dir__',\n",
      " '__doc__',\n",
      " '__eq__',\n",
      " '__format__',\n",
      " '__ge__',\n",
      " '__getattr__',\n",
      " '__getattribute__',\n",
      " '__gt__',\n",
      " '__hash__',\n",
      " '__init__',\n",
      " '__init_subclass__',\n",
      " '__le__',\n",
      " '__lt__',\n",
      " '__module__',\n",
      " '__ne__',\n",
      " '__new__',\n",
      " '__reduce__',\n",
      " '__reduce_ex__',\n",
      " '__repr__',\n",
      " '__setattr__',\n",
      " '__sizeof__',\n",
      " '__str__',\n",
      " '__subclasshook__',\n",
      " '__weakref__',\n",
      " '_cache',\n",
      " '_client_config',\n",
      " '_convert_to_request_dict',\n",
      " '_emit_api_params',\n",
      " '_endpoint',\n",
      " '_exceptions',\n",
      " '_exceptions_factory',\n",
      " '_get_waiter_config',\n",
      " '_load_exceptions',\n",
      " '_loader',\n",
      " '_make_api_call',\n",
      " '_make_request',\n",
      " '_register_handlers',\n",
      " '_request_signer',\n",
      " '_response_parser',\n",
      " '_serializer',\n",
      " '_service_model',\n",
      " 'add_client_id_to_open_id_connect_provider',\n",
      " 'add_role_to_instance_profile',\n",
      " 'add_user_to_group',\n",
      " 'attach_group_policy',\n",
      " 'attach_role_policy',\n",
      " 'attach_user_policy',\n",
      " 'can_paginate',\n",
      " 'change_password',\n",
      " 'create_access_key',\n",
      " 'create_account_alias',\n",
      " 'create_group',\n",
      " 'create_instance_profile',\n",
      " 'create_login_profile',\n",
      " 'create_open_id_connect_provider',\n",
      " 'create_policy',\n",
      " 'create_policy_version',\n",
      " 'create_role',\n",
      " 'create_saml_provider',\n",
      " 'create_service_linked_role',\n",
      " 'create_service_specific_credential',\n",
      " 'create_user',\n",
      " 'create_virtual_mfa_device',\n",
      " 'deactivate_mfa_device',\n",
      " 'delete_access_key',\n",
      " 'delete_account_alias',\n",
      " 'delete_account_password_policy',\n",
      " 'delete_group',\n",
      " 'delete_group_policy',\n",
      " 'delete_instance_profile',\n",
      " 'delete_login_profile',\n",
      " 'delete_open_id_connect_provider',\n",
      " 'delete_policy',\n",
      " 'delete_policy_version',\n",
      " 'delete_role',\n",
      " 'delete_role_permissions_boundary',\n",
      " 'delete_role_policy',\n",
      " 'delete_saml_provider',\n",
      " 'delete_server_certificate',\n",
      " 'delete_service_linked_role',\n",
      " 'delete_service_specific_credential',\n",
      " 'delete_signing_certificate',\n",
      " 'delete_ssh_public_key',\n",
      " 'delete_user',\n",
      " 'delete_user_permissions_boundary',\n",
      " 'delete_user_policy',\n",
      " 'delete_virtual_mfa_device',\n",
      " 'detach_group_policy',\n",
      " 'detach_role_policy',\n",
      " 'detach_user_policy',\n",
      " 'enable_mfa_device',\n",
      " 'exceptions',\n",
      " 'generate_credential_report',\n",
      " 'generate_organizations_access_report',\n",
      " 'generate_presigned_url',\n",
      " 'generate_service_last_accessed_details',\n",
      " 'get_access_key_last_used',\n",
      " 'get_account_authorization_details',\n",
      " 'get_account_password_policy',\n",
      " 'get_account_summary',\n",
      " 'get_context_keys_for_custom_policy',\n",
      " 'get_context_keys_for_principal_policy',\n",
      " 'get_credential_report',\n",
      " 'get_group',\n",
      " 'get_group_policy',\n",
      " 'get_instance_profile',\n",
      " 'get_login_profile',\n",
      " 'get_open_id_connect_provider',\n",
      " 'get_organizations_access_report',\n",
      " 'get_paginator',\n",
      " 'get_policy',\n",
      " 'get_policy_version',\n",
      " 'get_role',\n",
      " 'get_role_policy',\n",
      " 'get_saml_provider',\n",
      " 'get_server_certificate',\n",
      " 'get_service_last_accessed_details',\n",
      " 'get_service_last_accessed_details_with_entities',\n",
      " 'get_service_linked_role_deletion_status',\n",
      " 'get_ssh_public_key',\n",
      " 'get_user',\n",
      " 'get_user_policy',\n",
      " 'get_waiter',\n",
      " 'list_access_keys',\n",
      " 'list_account_aliases',\n",
      " 'list_attached_group_policies',\n",
      " 'list_attached_role_policies',\n",
      " 'list_attached_user_policies',\n",
      " 'list_entities_for_policy',\n",
      " 'list_group_policies',\n",
      " 'list_groups',\n",
      " 'list_groups_for_user',\n",
      " 'list_instance_profile_tags',\n",
      " 'list_instance_profiles',\n",
      " 'list_instance_profiles_for_role',\n",
      " 'list_mfa_device_tags',\n",
      " 'list_mfa_devices',\n",
      " 'list_open_id_connect_provider_tags',\n",
      " 'list_open_id_connect_providers',\n",
      " 'list_policies',\n",
      " 'list_policies_granting_service_access',\n",
      " 'list_policy_tags',\n",
      " 'list_policy_versions',\n",
      " 'list_role_policies',\n",
      " 'list_role_tags',\n",
      " 'list_roles',\n",
      " 'list_saml_provider_tags',\n",
      " 'list_saml_providers',\n",
      " 'list_server_certificate_tags',\n",
      " 'list_server_certificates',\n",
      " 'list_service_specific_credentials',\n",
      " 'list_signing_certificates',\n",
      " 'list_ssh_public_keys',\n",
      " 'list_user_policies',\n",
      " 'list_user_tags',\n",
      " 'list_users',\n",
      " 'list_virtual_mfa_devices',\n",
      " 'meta',\n",
      " 'put_group_policy',\n",
      " 'put_role_permissions_boundary',\n",
      " 'put_role_policy',\n",
      " 'put_user_permissions_boundary',\n",
      " 'put_user_policy',\n",
      " 'remove_client_id_from_open_id_connect_provider',\n",
      " 'remove_role_from_instance_profile',\n",
      " 'remove_user_from_group',\n",
      " 'reset_service_specific_credential',\n",
      " 'resync_mfa_device',\n",
      " 'set_default_policy_version',\n",
      " 'set_security_token_service_preferences',\n",
      " 'simulate_custom_policy',\n",
      " 'simulate_principal_policy',\n",
      " 'tag_instance_profile',\n",
      " 'tag_mfa_device',\n",
      " 'tag_open_id_connect_provider',\n",
      " 'tag_policy',\n",
      " 'tag_role',\n",
      " 'tag_saml_provider',\n",
      " 'tag_server_certificate',\n",
      " 'tag_user',\n",
      " 'untag_instance_profile',\n",
      " 'untag_mfa_device',\n",
      " 'untag_open_id_connect_provider',\n",
      " 'untag_policy',\n",
      " 'untag_role',\n",
      " 'untag_saml_provider',\n",
      " 'untag_server_certificate',\n",
      " 'untag_user',\n",
      " 'update_access_key',\n",
      " 'update_account_password_policy',\n",
      " 'update_assume_role_policy',\n",
      " 'update_group',\n",
      " 'update_login_profile',\n",
      " 'update_open_id_connect_provider_thumbprint',\n",
      " 'update_role',\n",
      " 'update_role_description',\n",
      " 'update_saml_provider',\n",
      " 'update_server_certificate',\n",
      " 'update_service_specific_credential',\n",
      " 'update_signing_certificate',\n",
      " 'update_ssh_public_key',\n",
      " 'update_user',\n",
      " 'upload_server_certificate',\n",
      " 'upload_signing_certificate',\n",
      " 'upload_ssh_public_key',\n",
      " 'waiter_names']\n"
     ]
    }
   ],
   "source": [
    "import boto3 \n",
    "session = boto3.session.Session()\n",
    "client = session.client(service_name='iam')\n",
    "pprint(dir(client))"
   ]
  },
  {
   "cell_type": "code",
   "execution_count": null,
   "id": "6ae90978",
   "metadata": {},
   "outputs": [],
   "source": [
    "people = {1: {'name': 'John', 'age': '27', 'sex': 'Male'},\n",
    "          2: {'name': 'Marie', 'age': '22', 'sex': 'Female'},\n",
    "          3: {'name': 'Luna', 'age': '24', 'sex': 'Female'},\n",
    "          4: {'name': 'Peter', 'age': '29', 'sex': 'Male'}}\n",
    "\n"
   ]
  }
 ],
 "metadata": {
  "kernelspec": {
   "display_name": "Python 3 (ipykernel)",
   "language": "python",
   "name": "python3"
  },
  "language_info": {
   "codemirror_mode": {
    "name": "ipython",
    "version": 3
   },
   "file_extension": ".py",
   "mimetype": "text/x-python",
   "name": "python",
   "nbconvert_exporter": "python",
   "pygments_lexer": "ipython3",
   "version": "3.9.12"
  }
 },
 "nbformat": 4,
 "nbformat_minor": 5
}
