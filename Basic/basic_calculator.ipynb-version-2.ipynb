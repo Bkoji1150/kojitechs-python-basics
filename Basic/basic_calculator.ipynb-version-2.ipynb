{
 "cells": [
  {
   "cell_type": "code",
   "execution_count": 2,
   "id": "d8f20ae8",
   "metadata": {},
   "outputs": [
    {
     "name": "stdout",
     "output_type": "stream",
     "text": [
      "Enter name:koji\n",
      "koji\n"
     ]
    }
   ],
   "source": [
    "name = input(\"Enter name:\")\n",
    "print(name)"
   ]
  },
  {
   "cell_type": "code",
   "execution_count": 3,
   "id": "724d8926",
   "metadata": {},
   "outputs": [
    {
     "name": "stdout",
     "output_type": "stream",
     "text": [
      "Enter name:12344\n",
      "12344\n"
     ]
    }
   ],
   "source": [
    "name = input(\"Enter name:\")\n",
    "print(name)"
   ]
  },
  {
   "cell_type": "code",
   "execution_count": 6,
   "id": "0e506abf",
   "metadata": {},
   "outputs": [
    {
     "name": "stdout",
     "output_type": "stream",
     "text": [
      "Enter name:kojibello\n",
      "<class 'str'>\n"
     ]
    }
   ],
   "source": [
    "name = str(input(\"Enter name:\"))\n",
    "print(type(name))\n"
   ]
  },
  {
   "cell_type": "code",
   "execution_count": null,
   "id": "083406fa",
   "metadata": {},
   "outputs": [],
   "source": [
    "if type(str(input(\"Enter name:\"))) == 'str':\n",
    "    print()\n",
    "else:\n",
    "    print(\"provide a valid name\")"
   ]
  }
 ],
 "metadata": {
  "kernelspec": {
   "display_name": "Python 3 (ipykernel)",
   "language": "python",
   "name": "python3"
  },
  "language_info": {
   "codemirror_mode": {
    "name": "ipython",
    "version": 3
   },
   "file_extension": ".py",
   "mimetype": "text/x-python",
   "name": "python",
   "nbconvert_exporter": "python",
   "pygments_lexer": "ipython3",
   "version": "3.9.12"
  }
 },
 "nbformat": 4,
 "nbformat_minor": 5
}
