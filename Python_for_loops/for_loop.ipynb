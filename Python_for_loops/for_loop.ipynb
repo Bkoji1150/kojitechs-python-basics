{
 "cells": [
  {
   "cell_type": "markdown",
   "id": "3dd591fc",
   "metadata": {},
   "source": [
    "## For_loop\n"
   ]
  },
  {
   "cell_type": "markdown",
   "id": "8f89396f",
   "metadata": {},
   "source": [
    "for loop means iterating.\n"
   ]
  },
  {
   "cell_type": "code",
   "execution_count": 9,
   "id": "d15c441c",
   "metadata": {},
   "outputs": [],
   "source": [
    "fruits = [\"apple\", \"pawpaw\", \"orange\", \"pear\", \"mango\"] # list(elements)\n",
    "\n",
    "user_data = {\n",
    "  \"name\": \"John\",\n",
    "  \"age\": 30,\n",
    "  \"married\": True,\n",
    "  \"divorced\": False,\n",
    "  \"children\": (\"Ann\",\"Billy\"), \n",
    "  \"pets\": None,\n",
    "  \"cars\": [ {\"model\": \"BMW 230\", \"mpg\": 27.5}, {\"model\": \"Ford Edge\", \"mpg\": 24.1} ]\n",
    "}\n",
    "\n",
    "maginumber = [(1,2),(23,4),(23,8)]\n",
    "hello = \"My name if koji Bello and i'm the lead Devops Engineer at plastig\""
   ]
  },
  {
   "cell_type": "code",
   "execution_count": 5,
   "id": "eb735435",
   "metadata": {},
   "outputs": [
    {
     "name": "stdout",
     "output_type": "stream",
     "text": [
      "apple\n",
      "pawpaw\n",
      "orange\n",
      "pear\n",
      "mango\n"
     ]
    }
   ],
   "source": [
    "for fruit in fruits:\n",
    "    print(fruit)\n",
    "    \n",
    "    "
   ]
  },
  {
   "cell_type": "markdown",
   "id": "8298b7bd",
   "metadata": {},
   "source": [
    "## List comprehension"
   ]
  },
  {
   "cell_type": "code",
   "execution_count": 7,
   "id": "7f2f054c",
   "metadata": {},
   "outputs": [
    {
     "name": "stdout",
     "output_type": "stream",
     "text": [
      "['apple', 'pawpaw', 'orange', 'pear', 'mango']\n"
     ]
    }
   ],
   "source": [
    "fruit = [fruit for fruit in fruits]\n",
    "print(fruit)"
   ]
  },
  {
   "cell_type": "code",
   "execution_count": 12,
   "id": "4940fb9d",
   "metadata": {},
   "outputs": [
    {
     "name": "stdout",
     "output_type": "stream",
     "text": [
      "name\n",
      "age\n",
      "married\n",
      "divorced\n",
      "children\n",
      "pets\n",
      "cars\n"
     ]
    }
   ],
   "source": [
    "for user in user_data:\n",
    "    print(user)"
   ]
  },
  {
   "cell_type": "code",
   "execution_count": 27,
   "id": "8a466f5e",
   "metadata": {},
   "outputs": [
    {
     "name": "stdout",
     "output_type": "stream",
     "text": [
      "('name', 'John')\n",
      "('age', 30)\n",
      "('married', True)\n",
      "('divorced', False)\n",
      "('children', ('Ann', 'Billy'))\n",
      "('pets', None)\n",
      "('cars', [{'model': 'BMW 230', 'mpg': 27.5}, {'model': 'Ford Edge', 'mpg': 24.1}])\n"
     ]
    }
   ],
   "source": [
    "for user in user_data.items():\n",
    "    print(user)\n"
   ]
  },
  {
   "cell_type": "markdown",
   "id": "725c3ebf",
   "metadata": {},
   "source": [
    "###  unpacking inside for loop"
   ]
  },
  {
   "cell_type": "code",
   "execution_count": 23,
   "id": "41ec1f3f",
   "metadata": {},
   "outputs": [
    {
     "name": "stdout",
     "output_type": "stream",
     "text": [
      "John\n",
      "30\n",
      "True\n",
      "False\n",
      "('Ann', 'Billy')\n",
      "None\n",
      "[{'model': 'BMW 230', 'mpg': 27.5}, {'model': 'Ford Edge', 'mpg': 24.1}]\n"
     ]
    }
   ],
   "source": [
    "for key, value in user_data.items():\n",
    "    print(value)\n",
    "    "
   ]
  },
  {
   "cell_type": "code",
   "execution_count": 29,
   "id": "18f3e675",
   "metadata": {},
   "outputs": [
    {
     "name": "stdout",
     "output_type": "stream",
     "text": [
      "(1, 2)\n",
      "(23, 4)\n",
      "(23, 8)\n"
     ]
    }
   ],
   "source": [
    "for number in maginumber:\n",
    "    print(number)"
   ]
  },
  {
   "cell_type": "code",
   "execution_count": 32,
   "id": "0d7aef5f",
   "metadata": {},
   "outputs": [],
   "source": [
    "for x in hello:\n",
    "    pass"
   ]
  },
  {
   "cell_type": "markdown",
   "id": "4c88aed3",
   "metadata": {},
   "source": [
    "## nested loop"
   ]
  },
  {
   "cell_type": "code",
   "execution_count": 41,
   "id": "d562a327",
   "metadata": {},
   "outputs": [
    {
     "name": "stdout",
     "output_type": "stream",
     "text": [
      "1234567891024681012141618203691215182124273048121620242832364051015202530354045506121824303642485460714212835424956637081624324048566472809182736455463728190102030405060708090100"
     ]
    }
   ],
   "source": [
    "for i in range(1,11):\n",
    "    for j in range(1,11):\n",
    "        print(i*j, end=\"\") # body of inner loop"
   ]
  },
  {
   "cell_type": "code",
   "execution_count": 45,
   "id": "63c86cdb",
   "metadata": {},
   "outputs": [
    {
     "name": "stdout",
     "output_type": "stream",
     "text": [
      "Kelly\n",
      "Kelly\n",
      "Kelly\n",
      "Kelly\n",
      "Kelly\n",
      "Jessa\n",
      "Jessa\n",
      "Jessa\n",
      "Jessa\n",
      "Jessa\n",
      "Emma\n",
      "Emma\n",
      "Emma\n",
      "Emma\n",
      "Emma\n"
     ]
    }
   ],
   "source": [
    "names = ['Kelly', 'Jessa', 'Emma']\n",
    "\n",
    "# outer loop\n",
    "for name in names:\n",
    "    \n",
    "    # inner loop\n",
    "    for i in range(1,6):\n",
    "        print(name)"
   ]
  },
  {
   "cell_type": "code",
   "execution_count": 47,
   "id": "a74d1a8c",
   "metadata": {},
   "outputs": [
    {
     "name": "stdout",
     "output_type": "stream",
     "text": [
      "the squre of 1 is 1\n",
      "the squre of 2 is 4\n",
      "the squre of 3 is 9\n",
      "the squre of 4 is 16\n",
      "the squre of 5 is 25\n"
     ]
    }
   ],
   "source": [
    "number = [1,2,3,4,5]\n",
    "for i in number:\n",
    "    square = i**2\n",
    "    print(f\"the squre of {i} is {square}\")"
   ]
  },
  {
   "cell_type": "code",
   "execution_count": 49,
   "id": "3f5ce04b",
   "metadata": {},
   "outputs": [
    {
     "name": "stdout",
     "output_type": "stream",
     "text": [
      "1 in an Odd number\n",
      "2 is an Enven Number\n",
      "3 in an Odd number\n",
      "4 is an Enven Number\n",
      "5 in an Odd number\n",
      "6 is an Enven Number\n",
      "7 in an Odd number\n",
      "8 is an Enven Number\n",
      "9 in an Odd number\n",
      "10 is an Enven Number\n",
      "11 in an Odd number\n",
      "12 is an Enven Number\n",
      "13 in an Odd number\n",
      "14 is an Enven Number\n",
      "15 in an Odd number\n",
      "16 is an Enven Number\n",
      "17 in an Odd number\n",
      "18 is an Enven Number\n",
      "19 in an Odd number\n",
      "20 is an Enven Number\n",
      "21 in an Odd number\n",
      "22 is an Enven Number\n",
      "23 in an Odd number\n",
      "24 is an Enven Number\n",
      "25 in an Odd number\n",
      "26 is an Enven Number\n",
      "27 in an Odd number\n",
      "28 is an Enven Number\n",
      "29 in an Odd number\n",
      "30 is an Enven Number\n",
      "31 in an Odd number\n",
      "32 is an Enven Number\n",
      "33 in an Odd number\n",
      "34 is an Enven Number\n",
      "35 in an Odd number\n",
      "36 is an Enven Number\n",
      "37 in an Odd number\n",
      "38 is an Enven Number\n",
      "39 in an Odd number\n",
      "40 is an Enven Number\n",
      "41 in an Odd number\n",
      "42 is an Enven Number\n",
      "43 in an Odd number\n",
      "44 is an Enven Number\n",
      "45 in an Odd number\n",
      "46 is an Enven Number\n",
      "47 in an Odd number\n",
      "48 is an Enven Number\n",
      "49 in an Odd number\n",
      "50 is an Enven Number\n",
      "51 in an Odd number\n",
      "52 is an Enven Number\n",
      "53 in an Odd number\n",
      "54 is an Enven Number\n",
      "55 in an Odd number\n",
      "56 is an Enven Number\n",
      "57 in an Odd number\n",
      "58 is an Enven Number\n",
      "59 in an Odd number\n",
      "60 is an Enven Number\n",
      "61 in an Odd number\n",
      "62 is an Enven Number\n",
      "63 in an Odd number\n",
      "64 is an Enven Number\n",
      "65 in an Odd number\n",
      "66 is an Enven Number\n",
      "67 in an Odd number\n",
      "68 is an Enven Number\n",
      "69 in an Odd number\n",
      "70 is an Enven Number\n",
      "71 in an Odd number\n",
      "72 is an Enven Number\n",
      "73 in an Odd number\n",
      "74 is an Enven Number\n",
      "75 in an Odd number\n",
      "76 is an Enven Number\n",
      "77 in an Odd number\n",
      "78 is an Enven Number\n",
      "79 in an Odd number\n",
      "80 is an Enven Number\n",
      "81 in an Odd number\n",
      "82 is an Enven Number\n",
      "83 in an Odd number\n",
      "84 is an Enven Number\n",
      "85 in an Odd number\n",
      "86 is an Enven Number\n",
      "87 in an Odd number\n",
      "88 is an Enven Number\n",
      "89 in an Odd number\n",
      "90 is an Enven Number\n",
      "91 in an Odd number\n",
      "92 is an Enven Number\n",
      "93 in an Odd number\n",
      "94 is an Enven Number\n",
      "95 in an Odd number\n",
      "96 is an Enven Number\n",
      "97 in an Odd number\n",
      "98 is an Enven Number\n",
      "99 in an Odd number\n"
     ]
    }
   ],
   "source": [
    "for i in range(1,100):\n",
    "    # in loop(condition)\n",
    "    if i % 2 == 0:\n",
    "        print(f\"{i} is an Enven Number\")\n",
    "    else:\n",
    "        print(f\"{i} in an Odd number\")\n",
    "        "
   ]
  },
  {
   "cell_type": "code",
   "execution_count": 50,
   "id": "9ec8cac7",
   "metadata": {},
   "outputs": [
    {
     "name": "stdout",
     "output_type": "stream",
     "text": [
      "1\n",
      "4\n",
      "7\n",
      "8\n",
      "15\n"
     ]
    }
   ],
   "source": [
    "number = [1, 4, 7, 8, 15, 20, 35, 45, 55]\n",
    "\n",
    "for i in number:\n",
    "    # inner loop\n",
    "    if i > 15:\n",
    "        # exit break\n",
    "        break\n",
    "    else:\n",
    "        print(i)"
   ]
  },
  {
   "cell_type": "code",
   "execution_count": 67,
   "id": "b94652d0",
   "metadata": {},
   "outputs": [
    {
     "name": "stdout",
     "output_type": "stream",
     "text": [
      "The amount of time m occured is: 5\n"
     ]
    }
   ],
   "source": [
    "name = \"mariya mennmbellm men\"\n",
    "\n",
    "count = 0\n",
    "\n",
    "for m in name:\n",
    "    if m != 'm':\n",
    "        continue\n",
    "    else:\n",
    "        count =  count + 1    \n",
    "print(\"The amount of time m occured is:\", count)        \n",
    "        \n",
    "        "
   ]
  },
  {
   "cell_type": "code",
   "execution_count": 68,
   "id": "4103cae6",
   "metadata": {},
   "outputs": [],
   "source": [
    "num = [1,2,3,4,5,6,7]\n",
    "for i in num:\n",
    "    pass"
   ]
  },
  {
   "cell_type": "code",
   "execution_count": 76,
   "id": "149c96b5",
   "metadata": {},
   "outputs": [
    {
     "name": "stdout",
     "output_type": "stream",
     "text": [
      "index: 0, value is 1 \n",
      "index: 1, value is 2 \n",
      "index: 2, value is 3 \n",
      "index: 3, value is 4 \n",
      "index: 4, value is 5 \n",
      "index: 5, value is 6 \n",
      "index: 6, value is 7 \n"
     ]
    }
   ],
   "source": [
    "number = [1,2,3,4,5,6,7]\n",
    "\n",
    "\n",
    "for i in enumerate(number):\n",
    "    print(f\"index: {i[0]}, value is {i[1]} \")"
   ]
  },
  {
   "cell_type": "code",
   "execution_count": null,
   "id": "20765e67",
   "metadata": {},
   "outputs": [],
   "source": []
  }
 ],
 "metadata": {
  "kernelspec": {
   "display_name": "Python 3 (ipykernel)",
   "language": "python",
   "name": "python3"
  },
  "language_info": {
   "codemirror_mode": {
    "name": "ipython",
    "version": 3
   },
   "file_extension": ".py",
   "mimetype": "text/x-python",
   "name": "python",
   "nbconvert_exporter": "python",
   "pygments_lexer": "ipython3",
   "version": "3.9.12"
  }
 },
 "nbformat": 4,
 "nbformat_minor": 5
}
