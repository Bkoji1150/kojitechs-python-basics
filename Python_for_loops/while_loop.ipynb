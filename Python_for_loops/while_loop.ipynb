{
 "cells": [
  {
   "cell_type": "markdown",
   "id": "51048e99",
   "metadata": {},
   "source": [
    "## while loop means iterate until the condition is false"
   ]
  },
  {
   "cell_type": "code",
   "execution_count": 2,
   "id": "373812e6",
   "metadata": {},
   "outputs": [
    {
     "name": "stdout",
     "output_type": "stream",
     "text": [
      "1\n",
      "2\n"
     ]
    }
   ],
   "source": [
    "import getpass\n",
    "\n",
    "count = 1\n",
    "\n",
    "while count < 3:\n",
    "    print(count) # statement(body withing the while loop) \n",
    "    count +=1\n",
    "    \n",
    "    "
   ]
  },
  {
   "cell_type": "code",
   "execution_count": 2,
   "id": "3e3c0550",
   "metadata": {},
   "outputs": [
    {
     "name": "stdout",
     "output_type": "stream",
     "text": [
      "0 is not greater than 15\n"
     ]
    }
   ],
   "source": [
    "count = 0\n",
    "\n",
    "while count > 15:\n",
    "    print(count)\n",
    "    count +=1\n",
    "else:\n",
    "    print(f\"{count} is not greater than 15\")\n"
   ]
  },
  {
   "cell_type": "code",
   "execution_count": 3,
   "id": "facb95f7",
   "metadata": {},
   "outputs": [
    {
     "name": "stdout",
     "output_type": "stream",
     "text": [
      "0\n",
      "1\n",
      "2\n",
      "3\n",
      "4\n",
      "5\n",
      "6\n",
      "7\n",
      "8\n",
      "9\n",
      "10\n",
      "11\n",
      "12\n",
      "13\n",
      "14\n",
      "15 is not greater than 15\n"
     ]
    }
   ],
   "source": [
    "count = 0\n",
    "\n",
    "while count < 15:\n",
    "    print(count)\n",
    "    count +=1\n",
    "else:\n",
    "    print(f\"{count} is not greater than 15\")"
   ]
  },
  {
   "cell_type": "code",
   "execution_count": 1,
   "id": "aea64b3b",
   "metadata": {},
   "outputs": [
    {
     "ename": "NameError",
     "evalue": "name 'pprint' is not defined",
     "output_type": "error",
     "traceback": [
      "\u001b[0;31m---------------------------------------------------------------------------\u001b[0m",
      "\u001b[0;31mNameError\u001b[0m                                 Traceback (most recent call last)",
      "Input \u001b[0;32mIn [1]\u001b[0m, in \u001b[0;36m<cell line: 2>\u001b[0;34m()\u001b[0m\n\u001b[1;32m      1\u001b[0m \u001b[38;5;28;01mwhile\u001b[39;00m \u001b[38;5;28;01mTrue\u001b[39;00m:\n\u001b[0;32m----> 2\u001b[0m     \u001b[43mpprint\u001b[49m(\u001b[38;5;124m\"\u001b[39m\u001b[38;5;124mhello\u001b[39m\u001b[38;5;124m\"\u001b[39m)\n\u001b[1;32m      4\u001b[0m \u001b[38;5;28;01mwhile\u001b[39;00m \u001b[38;5;28;01mFalse\u001b[39;00m:\n\u001b[1;32m      5\u001b[0m     \u001b[38;5;28mprint\u001b[39m(\u001b[38;5;124m'\u001b[39m\u001b[38;5;124mNothing\u001b[39m\u001b[38;5;124m'\u001b[39m)\n",
      "\u001b[0;31mNameError\u001b[0m: name 'pprint' is not defined"
     ]
    }
   ],
   "source": [
    "\n",
    "while True:\n",
    "    pprint(\"hello\")\n",
    "    \n",
    "while False:\n",
    "    print('Nothing')"
   ]
  },
  {
   "cell_type": "code",
   "execution_count": null,
   "id": "59300f6c",
   "metadata": {},
   "outputs": [],
   "source": [
    "password = \"kojitechs\"\n",
    "\n"
   ]
  },
  {
   "cell_type": "code",
   "execution_count": null,
   "id": "2b84e909",
   "metadata": {},
   "outputs": [],
   "source": []
  }
 ],
 "metadata": {
  "kernelspec": {
   "display_name": "Python 3 (ipykernel)",
   "language": "python",
   "name": "python3"
  },
  "language_info": {
   "codemirror_mode": {
    "name": "ipython",
    "version": 3
   },
   "file_extension": ".py",
   "mimetype": "text/x-python",
   "name": "python",
   "nbconvert_exporter": "python",
   "pygments_lexer": "ipython3",
   "version": "3.9.12"
  }
 },
 "nbformat": 4,
 "nbformat_minor": 5
}
