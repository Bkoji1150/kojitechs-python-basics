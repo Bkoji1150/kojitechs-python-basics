{
 "cells": [
  {
   "cell_type": "code",
   "execution_count": 2,
   "id": "5bbc34f3",
   "metadata": {},
   "outputs": [
    {
     "name": "stdout",
     "output_type": "stream",
     "text": [
      "Enter password: ········\n",
      "You have 2 attempt left\n",
      "Enter password: ········\n",
      "You have 1 attempt left\n",
      "Enter password: ········\n",
      "Sorry you have exhausted the limit of 3\n",
      "You have 0 attempt left\n"
     ]
    }
   ],
   "source": [
    "\n",
    "import getpass\n",
    "\n",
    "password = \"kojitechs123\"\n",
    "user_guess = \"\"\n",
    "user_atempt = 3 \n",
    "\n",
    "# first condition \"if user_atempt not == 0\", user_guess!=password\n",
    "\n",
    "while user_guess != password and user_atempt !=0:\n",
    "    user_guess = getpass.getpass(\"Enter password: \")\n",
    "    user_atempt -=1\n",
    "    if user_atempt==0: \n",
    "        print(\"Sorry you have exhausted the limit of 3\")  \n",
    "        \n",
    "    if user_guess == password:\n",
    "        print(\"Login succesful!\")\n",
    "        \n",
    "    else:\n",
    "        print(f\"You have {user_atempt} attempt left\")\n",
    "    \n"
   ]
  },
  {
   "cell_type": "raw",
   "id": "865c676c",
   "metadata": {},
   "source": [
    "    while cou\n",
    "    "
   ]
  },
  {
   "cell_type": "code",
   "execution_count": 8,
   "id": "b6fa9ee7",
   "metadata": {},
   "outputs": [
    {
     "name": "stdout",
     "output_type": "stream",
     "text": [
      "0\n",
      "1\n",
      "2\n"
     ]
    }
   ],
   "source": [
    "count = 0\n",
    "while count < 3:\n",
    "    print(count)\n",
    "    count += 1\n"
   ]
  },
  {
   "cell_type": "code",
   "execution_count": 1,
   "id": "eb9d0e37",
   "metadata": {},
   "outputs": [
    {
     "name": "stdout",
     "output_type": "stream",
     "text": [
      "1 in an Odd number\n",
      "2 is an Enven Number\n",
      "3 in an Odd number\n",
      "4 is an Enven Number\n",
      "5 in an Odd number\n",
      "6 is an Enven Number\n",
      "7 in an Odd number\n",
      "8 is an Enven Number\n",
      "9 in an Odd number\n",
      "10 is an Enven Number\n",
      "11 in an Odd number\n",
      "12 is an Enven Number\n",
      "13 in an Odd number\n",
      "14 is an Enven Number\n",
      "15 in an Odd number\n",
      "16 is an Enven Number\n",
      "17 in an Odd number\n",
      "18 is an Enven Number\n",
      "19 in an Odd number\n",
      "20 is an Enven Number\n",
      "21 in an Odd number\n",
      "22 is an Enven Number\n",
      "23 in an Odd number\n",
      "24 is an Enven Number\n",
      "25 in an Odd number\n",
      "26 is an Enven Number\n",
      "27 in an Odd number\n",
      "28 is an Enven Number\n",
      "29 in an Odd number\n",
      "30 is an Enven Number\n",
      "31 in an Odd number\n",
      "32 is an Enven Number\n",
      "33 in an Odd number\n",
      "34 is an Enven Number\n",
      "35 in an Odd number\n",
      "36 is an Enven Number\n",
      "37 in an Odd number\n",
      "38 is an Enven Number\n",
      "39 in an Odd number\n",
      "40 is an Enven Number\n",
      "41 in an Odd number\n",
      "42 is an Enven Number\n",
      "43 in an Odd number\n",
      "44 is an Enven Number\n",
      "45 in an Odd number\n",
      "46 is an Enven Number\n",
      "47 in an Odd number\n",
      "48 is an Enven Number\n",
      "49 in an Odd number\n",
      "50 is an Enven Number\n",
      "51 in an Odd number\n",
      "52 is an Enven Number\n",
      "53 in an Odd number\n",
      "54 is an Enven Number\n",
      "55 in an Odd number\n",
      "56 is an Enven Number\n",
      "57 in an Odd number\n",
      "58 is an Enven Number\n",
      "59 in an Odd number\n",
      "60 is an Enven Number\n",
      "61 in an Odd number\n",
      "62 is an Enven Number\n",
      "63 in an Odd number\n",
      "64 is an Enven Number\n",
      "65 in an Odd number\n",
      "66 is an Enven Number\n",
      "67 in an Odd number\n",
      "68 is an Enven Number\n",
      "69 in an Odd number\n",
      "70 is an Enven Number\n",
      "71 in an Odd number\n",
      "72 is an Enven Number\n",
      "73 in an Odd number\n",
      "74 is an Enven Number\n",
      "75 in an Odd number\n",
      "76 is an Enven Number\n",
      "77 in an Odd number\n",
      "78 is an Enven Number\n",
      "79 in an Odd number\n",
      "80 is an Enven Number\n",
      "81 in an Odd number\n",
      "82 is an Enven Number\n",
      "83 in an Odd number\n",
      "84 is an Enven Number\n",
      "85 in an Odd number\n",
      "86 is an Enven Number\n",
      "87 in an Odd number\n",
      "88 is an Enven Number\n",
      "89 in an Odd number\n",
      "90 is an Enven Number\n",
      "91 in an Odd number\n",
      "92 is an Enven Number\n",
      "93 in an Odd number\n",
      "94 is an Enven Number\n",
      "95 in an Odd number\n",
      "96 is an Enven Number\n",
      "97 in an Odd number\n",
      "98 is an Enven Number\n",
      "99 in an Odd number\n"
     ]
    }
   ],
   "source": [
    "for i in range(1,100):\n",
    "    # in loop(condition)\n",
    "    if i % 2 == 0:\n",
    "        print(f\"{i} is an Enven Number\")\n",
    "    else:\n",
    "        print(f\"{i} in an Odd number\")"
   ]
  },
  {
   "cell_type": "code",
   "execution_count": null,
   "id": "a225f1c2",
   "metadata": {},
   "outputs": [],
   "source": []
  }
 ],
 "metadata": {
  "kernelspec": {
   "display_name": "Python 3 (ipykernel)",
   "language": "python",
   "name": "python3"
  },
  "language_info": {
   "codemirror_mode": {
    "name": "ipython",
    "version": 3
   },
   "file_extension": ".py",
   "mimetype": "text/x-python",
   "name": "python",
   "nbconvert_exporter": "python",
   "pygments_lexer": "ipython3",
   "version": "3.10.0"
  }
 },
 "nbformat": 4,
 "nbformat_minor": 5
}
