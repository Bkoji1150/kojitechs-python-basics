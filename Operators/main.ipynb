{
 "cells": [
  {
   "cell_type": "markdown",
   "id": "4c7eb255",
   "metadata": {},
   "source": [
    "## Operators\n",
    "\n",
    "> Operators are the pillars for any language \n",
    "> operators can be defined as a symbol which is responsible for a particular operation between two operands\n",
    "> Example '+' is an operators, perform addition operators on operands\n",
    "> operands may be values or variables or combination of both\n",
    "> python provides a variaty of operators described as follows"
   ]
  },
  {
   "cell_type": "code",
   "execution_count": 3,
   "id": "431d1180",
   "metadata": {},
   "outputs": [
    {
     "data": {
      "text/plain": [
       "445"
      ]
     },
     "execution_count": 3,
     "metadata": {},
     "output_type": "execute_result"
    }
   ],
   "source": [
    "100 + 345"
   ]
  },
  {
   "cell_type": "markdown",
   "id": "01736452",
   "metadata": {},
   "source": [
    "## Types of operators "
   ]
  },
  {
   "cell_type": "markdown",
   "id": "9f513903",
   "metadata": {},
   "source": [
    "## Arithmetic Operators"
   ]
  },
  {
   "cell_type": "code",
   "execution_count": 5,
   "id": "6b48476b",
   "metadata": {},
   "outputs": [
    {
     "name": "stdout",
     "output_type": "stream",
     "text": [
      "Enter first number: 23\n",
      "Enter second number: 23\n",
      "The result of of 23 and 23: 46\n"
     ]
    }
   ],
   "source": [
    "x = eval(input(\"Enter first number: \"))\n",
    "y = eval(input(\"Enter second number: \"))\n",
    "c = x + y\n",
    "print(f\"The result of of {x} and {y}: {c}\")"
   ]
  },
  {
   "cell_type": "code",
   "execution_count": 6,
   "id": "0f9faf58",
   "metadata": {},
   "outputs": [
    {
     "data": {
      "text/plain": [
       "'\\nAddition +\\nSubtraction - \\nMultiplication *\\nDivision /\\nModule %\\nFloor division //\\nExponential **\\n'"
      ]
     },
     "execution_count": 6,
     "metadata": {},
     "output_type": "execute_result"
    }
   ],
   "source": [
    "\"\"\"\n",
    "Addition +\n",
    "Subtraction - \n",
    "Multiplication *\n",
    "Division /\n",
    "Modulo %\n",
    "Floor division //\n",
    "Exponential **\n",
    "\"\"\"\n"
   ]
  },
  {
   "cell_type": "code",
   "execution_count": 7,
   "id": "37c3ac73",
   "metadata": {},
   "outputs": [
    {
     "data": {
      "text/plain": [
       "2"
      ]
     },
     "execution_count": 7,
     "metadata": {},
     "output_type": "execute_result"
    }
   ],
   "source": [
    "4 - 2"
   ]
  },
  {
   "cell_type": "code",
   "execution_count": 8,
   "id": "73bbf19e",
   "metadata": {},
   "outputs": [
    {
     "data": {
      "text/plain": [
       "16"
      ]
     },
     "execution_count": 8,
     "metadata": {},
     "output_type": "execute_result"
    }
   ],
   "source": [
    "4*4"
   ]
  },
  {
   "cell_type": "code",
   "execution_count": 37,
   "id": "21bea84b",
   "metadata": {},
   "outputs": [
    {
     "data": {
      "text/plain": [
       "4.0"
      ]
     },
     "execution_count": 37,
     "metadata": {},
     "output_type": "execute_result"
    }
   ],
   "source": [
    "16/4\n"
   ]
  },
  {
   "cell_type": "code",
   "execution_count": 11,
   "id": "9b27dc71",
   "metadata": {},
   "outputs": [
    {
     "data": {
      "text/plain": [
       "5.0"
      ]
     },
     "execution_count": 11,
     "metadata": {},
     "output_type": "execute_result"
    }
   ],
   "source": [
    "25/5"
   ]
  },
  {
   "cell_type": "markdown",
   "id": "f829e9c6",
   "metadata": {},
   "source": [
    "## Modulo"
   ]
  },
  {
   "cell_type": "code",
   "execution_count": 39,
   "id": "dfc9738b",
   "metadata": {},
   "outputs": [
    {
     "data": {
      "text/plain": [
       "1"
      ]
     },
     "execution_count": 39,
     "metadata": {},
     "output_type": "execute_result"
    }
   ],
   "source": [
    "4%2\n",
    "5%2"
   ]
  },
  {
   "cell_type": "code",
   "execution_count": 15,
   "id": "3ca7f938",
   "metadata": {},
   "outputs": [
    {
     "data": {
      "text/plain": [
       "1"
      ]
     },
     "execution_count": 15,
     "metadata": {},
     "output_type": "execute_result"
    }
   ],
   "source": [
    "9%2"
   ]
  },
  {
   "cell_type": "markdown",
   "id": "9cfcc63a",
   "metadata": {},
   "source": [
    "## Floor division //\n"
   ]
  },
  {
   "cell_type": "code",
   "execution_count": 17,
   "id": "50ee935c",
   "metadata": {},
   "outputs": [
    {
     "data": {
      "text/plain": [
       "5"
      ]
     },
     "execution_count": 17,
     "metadata": {},
     "output_type": "execute_result"
    }
   ],
   "source": [
    "25//5"
   ]
  },
  {
   "cell_type": "markdown",
   "id": "2a22108c",
   "metadata": {},
   "source": [
    "## Exponential"
   ]
  },
  {
   "cell_type": "code",
   "execution_count": 19,
   "id": "cfd1cb6b",
   "metadata": {},
   "outputs": [
    {
     "data": {
      "text/plain": [
       "9"
      ]
     },
     "execution_count": 19,
     "metadata": {},
     "output_type": "execute_result"
    }
   ],
   "source": [
    "3**2\n",
    "3*3"
   ]
  },
  {
   "cell_type": "code",
   "execution_count": 22,
   "id": "5f91d3f8",
   "metadata": {},
   "outputs": [
    {
     "data": {
      "text/plain": [
       "256"
      ]
     },
     "execution_count": 22,
     "metadata": {},
     "output_type": "execute_result"
    }
   ],
   "source": [
    "# 4**4\n",
    "4*4*4*4\n",
    "4**4"
   ]
  },
  {
   "cell_type": "code",
   "execution_count": 27,
   "id": "f0ea5ce0",
   "metadata": {},
   "outputs": [
    {
     "name": "stdout",
     "output_type": "stream",
     "text": [
      "1\n",
      "2\n",
      "3\n",
      "4\n",
      "5\n",
      "6\n",
      "7\n",
      "8\n",
      "9\n"
     ]
    }
   ],
   "source": [
    "for i in range(1, 10):\n",
    "    print(i)\n"
   ]
  },
  {
   "cell_type": "code",
   "execution_count": 40,
   "id": "ac6d434a",
   "metadata": {},
   "outputs": [
    {
     "name": "stdout",
     "output_type": "stream",
     "text": [
      "2\n",
      "4\n",
      "6\n",
      "8\n",
      "10\n",
      "12\n",
      "14\n",
      "16\n",
      "18\n",
      "20\n",
      "22\n",
      "24\n",
      "26\n",
      "28\n",
      "30\n",
      "32\n",
      "34\n",
      "36\n",
      "38\n",
      "40\n",
      "42\n",
      "44\n",
      "46\n",
      "48\n",
      "50\n",
      "52\n",
      "54\n",
      "56\n",
      "58\n",
      "60\n",
      "62\n",
      "64\n",
      "66\n",
      "68\n",
      "70\n",
      "72\n",
      "74\n",
      "76\n",
      "78\n",
      "80\n",
      "82\n",
      "84\n",
      "86\n",
      "88\n",
      "90\n",
      "92\n",
      "94\n",
      "96\n",
      "98\n",
      "100\n"
     ]
    }
   ],
   "source": [
    "range(2)\n",
    "#[0,1]\n",
    "\n",
    "range(1, 5)\n",
    "# [1,2,3,4]\n",
    "\n",
    "range(100)\n",
    "# [0... 99]\n",
    "\n",
    "hundreds= list(range(1,101))\n",
    "# list are iterable\n",
    "'''\n",
    "for i in hundreds:\n",
    "    if i%2==0:\n",
    "        print(i)\n",
    "'''\n",
    "\n"
   ]
  },
  {
   "cell_type": "code",
   "execution_count": 44,
   "id": "4546291f",
   "metadata": {},
   "outputs": [
    {
     "name": "stdout",
     "output_type": "stream",
     "text": [
      "Odds:1\n",
      "Even: 2\n",
      "Odds:3\n",
      "Even: 4\n",
      "Odds:5\n",
      "Even: 6\n",
      "Odds:7\n",
      "Even: 8\n",
      "Odds:9\n",
      "Even: 10\n",
      "Odds:11\n",
      "Even: 12\n",
      "Odds:13\n",
      "Even: 14\n",
      "Odds:15\n",
      "Even: 16\n",
      "Odds:17\n",
      "Even: 18\n",
      "Odds:19\n",
      "Even: 20\n",
      "Odds:21\n",
      "Even: 22\n",
      "Odds:23\n",
      "Even: 24\n",
      "Odds:25\n",
      "Even: 26\n",
      "Odds:27\n",
      "Even: 28\n",
      "Odds:29\n",
      "Even: 30\n",
      "Odds:31\n",
      "Even: 32\n",
      "Odds:33\n",
      "Even: 34\n",
      "Odds:35\n",
      "Even: 36\n",
      "Odds:37\n",
      "Even: 38\n",
      "Odds:39\n",
      "Even: 40\n",
      "Odds:41\n",
      "Even: 42\n",
      "Odds:43\n",
      "Even: 44\n",
      "Odds:45\n",
      "Even: 46\n",
      "Odds:47\n",
      "Even: 48\n",
      "Odds:49\n",
      "Even: 50\n",
      "Odds:51\n",
      "Even: 52\n",
      "Odds:53\n",
      "Even: 54\n",
      "Odds:55\n",
      "Even: 56\n",
      "Odds:57\n",
      "Even: 58\n",
      "Odds:59\n",
      "Even: 60\n",
      "Odds:61\n",
      "Even: 62\n",
      "Odds:63\n",
      "Even: 64\n",
      "Odds:65\n",
      "Even: 66\n",
      "Odds:67\n",
      "Even: 68\n",
      "Odds:69\n",
      "Even: 70\n",
      "Odds:71\n",
      "Even: 72\n",
      "Odds:73\n",
      "Even: 74\n",
      "Odds:75\n",
      "Even: 76\n",
      "Odds:77\n",
      "Even: 78\n",
      "Odds:79\n",
      "Even: 80\n",
      "Odds:81\n",
      "Even: 82\n",
      "Odds:83\n",
      "Even: 84\n",
      "Odds:85\n",
      "Even: 86\n",
      "Odds:87\n",
      "Even: 88\n",
      "Odds:89\n",
      "Even: 90\n",
      "Odds:91\n",
      "Even: 92\n",
      "Odds:93\n",
      "Even: 94\n",
      "Odds:95\n",
      "Even: 96\n",
      "Odds:97\n",
      "Even: 98\n",
      "Odds:99\n",
      "Even: 100\n"
     ]
    }
   ],
   "source": [
    "for i in hundreds:\n",
    "    if i%2==0:\n",
    "\n",
    "        print(f\"Even: {i}\")\n",
    "    else:\n",
    "\n",
    "        print(f\"Odds:{i}\")"
   ]
  },
  {
   "cell_type": "markdown",
   "id": "26673d89",
   "metadata": {},
   "source": [
    "## Comparison Operators\n"
   ]
  },
  {
   "cell_type": "markdown",
   "id": "69bf9b05",
   "metadata": {},
   "source": [
    "### Takes values as inputs , performs some operations print True or False"
   ]
  },
  {
   "cell_type": "code",
   "execution_count": 46,
   "id": "1c49ebbe",
   "metadata": {},
   "outputs": [
    {
     "data": {
      "text/plain": [
       "False"
      ]
     },
     "execution_count": 46,
     "metadata": {},
     "output_type": "execute_result"
    }
   ],
   "source": [
    "2==4"
   ]
  },
  {
   "cell_type": "code",
   "execution_count": 47,
   "id": "42b19730",
   "metadata": {},
   "outputs": [
    {
     "data": {
      "text/plain": [
       "False"
      ]
     },
     "execution_count": 47,
     "metadata": {},
     "output_type": "execute_result"
    }
   ],
   "source": [
    "2> 4"
   ]
  },
  {
   "cell_type": "code",
   "execution_count": 48,
   "id": "e678e9f3",
   "metadata": {},
   "outputs": [
    {
     "ename": "SyntaxError",
     "evalue": "invalid syntax (208824973.py, line 2)",
     "output_type": "error",
     "traceback": [
      "\u001b[0;36m  Input \u001b[0;32mIn [48]\u001b[0;36m\u001b[0m\n\u001b[0;31m    Equal to ( == )\u001b[0m\n\u001b[0m          ^\u001b[0m\n\u001b[0;31mSyntaxError\u001b[0m\u001b[0;31m:\u001b[0m invalid syntax\n"
     ]
    }
   ],
   "source": [
    "y = 4 (=) assignment operator\n",
    "Equal to ( == )\n",
    "Not equal to ( != )\n",
    "Greater than ( > )\n",
    "Less than ( < )\n",
    "Greater than or equal to ( >= )\n"
   ]
  },
  {
   "cell_type": "code",
   "execution_count": 51,
   "id": "0acb8fec",
   "metadata": {},
   "outputs": [
    {
     "data": {
      "text/plain": [
       "True"
      ]
     },
     "execution_count": 51,
     "metadata": {},
     "output_type": "execute_result"
    }
   ],
   "source": [
    "34 > 34\n",
    "34 >=34"
   ]
  },
  {
   "cell_type": "code",
   "execution_count": 53,
   "id": "760faeaa",
   "metadata": {},
   "outputs": [
    {
     "data": {
      "text/plain": [
       "True"
      ]
     },
     "execution_count": 53,
     "metadata": {},
     "output_type": "execute_result"
    }
   ],
   "source": [
    "2<2\n",
    "2<=2"
   ]
  },
  {
   "cell_type": "markdown",
   "id": "e2ee1d0d",
   "metadata": {},
   "source": []
  },
  {
   "cell_type": "code",
   "execution_count": null,
   "id": "31e7e473",
   "metadata": {},
   "outputs": [],
   "source": [
    "temperature = eval(input(\"What is the Temp outside: \"))\n",
    "if temperature > 30:\n",
    "    print(\"It's hot outside.\\nplease drink water!\")\n",
    "else:\n",
    "    print(\"It's cold.\\nGet a pullover\")\n",
    "    "
   ]
  },
  {
   "cell_type": "code",
   "execution_count": null,
   "id": "be63ae86",
   "metadata": {},
   "outputs": [],
   "source": []
  }
 ],
 "metadata": {
  "kernelspec": {
   "display_name": "Python 3 (ipykernel)",
   "language": "python",
   "name": "python3"
  },
  "language_info": {
   "codemirror_mode": {
    "name": "ipython",
    "version": 3
   },
   "file_extension": ".py",
   "mimetype": "text/x-python",
   "name": "python",
   "nbconvert_exporter": "python",
   "pygments_lexer": "ipython3",
   "version": "3.9.12"
  }
 },
 "nbformat": 4,
 "nbformat_minor": 5
}
