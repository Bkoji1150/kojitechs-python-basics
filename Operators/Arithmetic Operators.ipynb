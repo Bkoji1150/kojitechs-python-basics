{
 "cells": [
  {
   "cell_type": "markdown",
   "id": "c24c31cc",
   "metadata": {},
   "source": [
    "# Arithmetic Operators"
   ]
  },
  {
   "cell_type": "code",
   "execution_count": 2,
   "id": "04bfb166",
   "metadata": {},
   "outputs": [
    {
     "data": {
      "text/plain": [
       "5"
      ]
     },
     "execution_count": 2,
     "metadata": {},
     "output_type": "execute_result"
    }
   ],
   "source": [
    "2 + 3"
   ]
  },
  {
   "cell_type": "markdown",
   "id": "e5b1f63e",
   "metadata": {},
   "source": [
    "## Assignment Operators"
   ]
  },
  {
   "cell_type": "code",
   "execution_count": 12,
   "id": "5b0a172a",
   "metadata": {},
   "outputs": [
    {
     "ename": "SyntaxError",
     "evalue": "invalid syntax (126783242.py, line 1)",
     "output_type": "error",
     "traceback": [
      "\u001b[0;36m  Input \u001b[0;32mIn [12]\u001b[0;36m\u001b[0m\n\u001b[0;31m    operator         Example       Same_as\u001b[0m\n\u001b[0m                     ^\u001b[0m\n\u001b[0;31mSyntaxError\u001b[0m\u001b[0;31m:\u001b[0m invalid syntax\n"
     ]
    }
   ],
   "source": [
    "operator         Example       Same_as\n",
    "\n",
    "=                  a = b        a = b\n",
    "+=                 a += b       a = a+ b\n",
    "-=                 a -=b        a = a - b\n",
    "*=                 a *=b        a = a*b\n",
    "/=.                a /= b.      a = a/b\n",
    "\n"
   ]
  },
  {
   "cell_type": "markdown",
   "id": "cdc6e9a2",
   "metadata": {},
   "source": [
    "## Comparison operators of python "
   ]
  },
  {
   "cell_type": "code",
   "execution_count": 4,
   "id": "57f0aeef",
   "metadata": {},
   "outputs": [
    {
     "data": {
      "text/plain": [
       "False"
      ]
     },
     "execution_count": 4,
     "metadata": {},
     "output_type": "execute_result"
    }
   ],
   "source": [
    "3 > 4"
   ]
  },
  {
   "cell_type": "code",
   "execution_count": 5,
   "id": "359d7081",
   "metadata": {},
   "outputs": [
    {
     "ename": "SyntaxError",
     "evalue": "invalid syntax (1916238867.py, line 1)",
     "output_type": "error",
     "traceback": [
      "\u001b[0;36m  Input \u001b[0;32mIn [5]\u001b[0;36m\u001b[0m\n\u001b[0;31m    >\u001b[0m\n\u001b[0m    ^\u001b[0m\n\u001b[0;31mSyntaxError\u001b[0m\u001b[0;31m:\u001b[0m invalid syntax\n"
     ]
    }
   ],
   "source": [
    "> \n",
    "< \n",
    "== \n",
    "!=\n",
    ">=\n",
    "<=\n",
    "\n",
    "Less than ( < )\n",
    "Less than or equal to ( <= )\n",
    "Greater than ( > )\n",
    "Greater than or equal to ( >= )\n",
    "Equal to ( == )\n",
    "Not equal to ( != )"
   ]
  },
  {
   "cell_type": "code",
   "execution_count": null,
   "id": "af6c2606",
   "metadata": {},
   "outputs": [],
   "source": [
    "temperature = 15\n",
    "if temperature > 30:\n",
    "    print(\"Temperature is warm!\")\n",
    "    print(\"Please drink water\")\n",
    "elif temperature > 20:\n",
    "    print(\"Its nice\")    \n",
    "print(\"Done\") "
   ]
  },
  {
   "cell_type": "markdown",
   "id": "683b0b7c",
   "metadata": {},
   "source": [
    "## compare string \n",
    "ord(4)"
   ]
  },
  {
   "cell_type": "code",
   "execution_count": 9,
   "id": "ed775424",
   "metadata": {},
   "outputs": [
    {
     "data": {
      "text/plain": [
       "97"
      ]
     },
     "execution_count": 9,
     "metadata": {},
     "output_type": "execute_result"
    }
   ],
   "source": [
    "ord('b')\n",
    "ord('a')"
   ]
  },
  {
   "cell_type": "markdown",
   "id": "71c85b6e",
   "metadata": {},
   "source": [
    "## Identity and membership operators"
   ]
  },
  {
   "cell_type": "markdown",
   "id": "19ece88d",
   "metadata": {},
   "source": [
    "### Identity operators are used to find the type: class/type/object \n",
    "### The are two types of identity operators \n",
    "## is \n",
    "## is not"
   ]
  },
  {
   "cell_type": "markdown",
   "id": "3e5e738b",
   "metadata": {},
   "source": [
    "### membership "
   ]
  },
  {
   "cell_type": "code",
   "execution_count": 11,
   "id": "2a3d1b92",
   "metadata": {},
   "outputs": [
    {
     "data": {
      "text/plain": [
       "True"
      ]
     },
     "execution_count": 11,
     "metadata": {},
     "output_type": "execute_result"
    }
   ],
   "source": [
    "x = [4,5,6,7,8]\n",
    "6 in x\n"
   ]
  },
  {
   "cell_type": "markdown",
   "id": "50b71bee",
   "metadata": {},
   "source": [
    "## Logical Operators:"
   ]
  },
  {
   "cell_type": "markdown",
   "id": "34395396",
   "metadata": {},
   "source": [
    "### Logical operators are useful to combin multiple conditions."
   ]
  },
  {
   "cell_type": "code",
   "execution_count": 14,
   "id": "6eec8600",
   "metadata": {},
   "outputs": [
    {
     "name": "stdout",
     "output_type": "stream",
     "text": [
      "x: hdhf\n"
     ]
    },
    {
     "ename": "ValueError",
     "evalue": "invalid literal for int() with base 10: 'hdhf'",
     "output_type": "error",
     "traceback": [
      "\u001b[0;31m---------------------------------------------------------------------------\u001b[0m",
      "\u001b[0;31mValueError\u001b[0m                                Traceback (most recent call last)",
      "Input \u001b[0;32mIn [14]\u001b[0m, in \u001b[0;36m<cell line: 3>\u001b[0;34m()\u001b[0m\n\u001b[1;32m      1\u001b[0m \u001b[38;5;66;03m# changin comparison operator \u001b[39;00m\n\u001b[1;32m      2\u001b[0m \u001b[38;5;66;03m# age should be between 18 and 65 \u001b[39;00m\n\u001b[0;32m----> 3\u001b[0m age \u001b[38;5;241m=\u001b[39m \u001b[38;5;28;43mint\u001b[39;49m\u001b[43m(\u001b[49m\u001b[38;5;28;43minput\u001b[39;49m\u001b[43m(\u001b[49m\u001b[38;5;124;43m\"\u001b[39;49m\u001b[38;5;124;43mx: \u001b[39;49m\u001b[38;5;124;43m\"\u001b[39;49m\u001b[43m)\u001b[49m\u001b[43m)\u001b[49m\n\u001b[1;32m      4\u001b[0m \u001b[38;5;124;03m'''\u001b[39;00m\n\u001b[1;32m      5\u001b[0m \u001b[38;5;124;03mif age >= 18 and  age < 65:\u001b[39;00m\n\u001b[1;32m      6\u001b[0m \u001b[38;5;124;03m    print(\"age is between 18 and 65 \")\u001b[39;00m\n\u001b[1;32m      7\u001b[0m \u001b[38;5;124;03melse:\u001b[39;00m\n\u001b[1;32m      8\u001b[0m \u001b[38;5;124;03m    print(\"age is not between 18 and 65\")    \u001b[39;00m\n\u001b[1;32m      9\u001b[0m \u001b[38;5;124;03m'''\u001b[39;00m\n\u001b[1;32m     11\u001b[0m \u001b[38;5;28;01mif\u001b[39;00m \u001b[38;5;241m18\u001b[39m \u001b[38;5;241m<\u001b[39m\u001b[38;5;241m=\u001b[39m age \u001b[38;5;241m<\u001b[39m \u001b[38;5;241m65\u001b[39m:\n",
      "\u001b[0;31mValueError\u001b[0m: invalid literal for int() with base 10: 'hdhf'"
     ]
    }
   ],
   "source": [
    "\n",
    "# changin comparison operator \n",
    "# age should be between 18 and 65 \n",
    "age = int(input(\"x: \"))\n",
    "'''\n",
    "if age >= 18 and  age < 65:\n",
    "    print(\"age is between 18 and 65 \")\n",
    "else:\n",
    "    print(\"age is not between 18 and 65\")    \n",
    "'''\n",
    "\n",
    "if 18 <= age < 65:\n",
    "    print(\"age is between 18 and 65 \")\n",
    "else:\n",
    "    print(\"age is not between 18 and 65\")   "
   ]
  },
  {
   "cell_type": "code",
   "execution_count": null,
   "id": "916581eb",
   "metadata": {},
   "outputs": [],
   "source": [
    "# and \n",
    "# or \n",
    "# not \n",
    "\n",
    "high_income = True\n",
    "good_credit = True\n",
    "student = True\n",
    "\n",
    "if (high_income or good_credit) and not student:\n",
    "    print(\"Eligible\")\n",
    "else:\n",
    "    print(\"Not Eligible\")    \n"
   ]
  }
 ],
 "metadata": {
  "kernelspec": {
   "display_name": "Python 3 (ipykernel)",
   "language": "python",
   "name": "python3"
  },
  "language_info": {
   "codemirror_mode": {
    "name": "ipython",
    "version": 3
   },
   "file_extension": ".py",
   "mimetype": "text/x-python",
   "name": "python",
   "nbconvert_exporter": "python",
   "pygments_lexer": "ipython3",
   "version": "3.9.12"
  }
 },
 "nbformat": 4,
 "nbformat_minor": 5
}
