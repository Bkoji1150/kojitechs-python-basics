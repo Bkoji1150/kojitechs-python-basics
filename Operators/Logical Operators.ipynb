{
 "cells": [
  {
   "cell_type": "markdown",
   "id": "1fb8efdc",
   "metadata": {},
   "source": [
    "## Logical Operators"
   ]
  },
  {
   "cell_type": "markdown",
   "id": "25f56f69",
   "metadata": {},
   "source": [
    "## logical operators are used to combin multiple conditions"
   ]
  },
  {
   "cell_type": "code",
   "execution_count": 3,
   "id": "7cfc890c",
   "metadata": {},
   "outputs": [
    {
     "data": {
      "text/plain": [
       "False"
      ]
     },
     "execution_count": 3,
     "metadata": {},
     "output_type": "execute_result"
    }
   ],
   "source": [
    "y = 2\n",
    "x = 1\n",
    "y == x # Arithmatic operator"
   ]
  },
  {
   "cell_type": "code",
   "execution_count": 4,
   "id": "5f7c8f36",
   "metadata": {},
   "outputs": [
    {
     "name": "stdout",
     "output_type": "stream",
     "text": [
      "What is your name?: hdhd\n",
      "what is your age?: hdhhfd\n",
      "What is your sex?: hsdhd\n"
     ]
    }
   ],
   "source": [
    "name = input(\"What is your name?: \")\n",
    "age = input('what is your age?: ')\n",
    "sex = input(\"What is your sex?: \")\n",
    "\n",
    "## Male Toilet\n"
   ]
  },
  {
   "cell_type": "code",
   "execution_count": 12,
   "id": "215b1f4a",
   "metadata": {},
   "outputs": [
    {
     "data": {
      "text/plain": [
       "True"
      ]
     },
     "execution_count": 12,
     "metadata": {},
     "output_type": "execute_result"
    }
   ],
   "source": [
    "x = 2\n",
    "y = 3\n",
    "z = 8\n",
    "(x < z and x < y)"
   ]
  },
  {
   "cell_type": "code",
   "execution_count": 14,
   "id": "7258799a",
   "metadata": {},
   "outputs": [
    {
     "data": {
      "text/plain": [
       "True"
      ]
     },
     "execution_count": 14,
     "metadata": {},
     "output_type": "execute_result"
    }
   ],
   "source": [
    "(x > z or x < y) and not x >= 5"
   ]
  },
  {
   "cell_type": "code",
   "execution_count": 19,
   "id": "2987d41a",
   "metadata": {},
   "outputs": [
    {
     "ename": "SyntaxError",
     "evalue": "invalid syntax (2630025112.py, line 1)",
     "output_type": "error",
     "traceback": [
      "\u001b[0;36m  Input \u001b[0;32mIn [19]\u001b[0;36m\u001b[0m\n\u001b[0;31m    and (all the conditions must be True)\u001b[0m\n\u001b[0m    ^\u001b[0m\n\u001b[0;31mSyntaxError\u001b[0m\u001b[0;31m:\u001b[0m invalid syntax\n"
     ]
    }
   ],
   "source": [
    "and (all the conditions must be True)\n",
    "or (either condition must be true)\n"
   ]
  },
  {
   "cell_type": "code",
   "execution_count": 22,
   "id": "38bfc6e8",
   "metadata": {},
   "outputs": [
    {
     "name": "stdout",
     "output_type": "stream",
     "text": [
      "what is your age?: 45\n",
      "What is your sex?: female\n",
      "Please use the next toilet\n"
     ]
    }
   ],
   "source": [
    "age = eval(input('what is your age?: '))\n",
    "sex = input(\"What is your sex?: \")\n",
    "\n",
    "## Male Toilet age must be above 18 and sex Male\n",
    "\n",
    "if (age > 18 and sex =='male'):\n",
    "    print(\"You can use the toilet\")\n",
    "else: \n",
    "    print(\"Please use the next toilet\")\n",
    "    "
   ]
  },
  {
   "cell_type": "code",
   "execution_count": 24,
   "id": "69ffdcd7",
   "metadata": {},
   "outputs": [
    {
     "name": "stdout",
     "output_type": "stream",
     "text": [
      "what is your age?: 20\n",
      "Eligible\n"
     ]
    }
   ],
   "source": [
    "age = eval(input('what is your age?: '))\n",
    "\n",
    "if (age >= 18 and age <= 65):\n",
    "    print(\"Eligible\")\n",
    "else:\n",
    "    print(\"Opps sorry!!\")"
   ]
  },
  {
   "cell_type": "code",
   "execution_count": 27,
   "id": "ef75e773",
   "metadata": {},
   "outputs": [
    {
     "name": "stdout",
     "output_type": "stream",
     "text": [
      "what is your age?: 12\n",
      "Opps sorry!!\n"
     ]
    }
   ],
   "source": [
    "age = eval(input('what is your age?: '))\n",
    "if (18 <= age <= 65):\n",
    "    print(\"Eligible\")\n",
    "else:\n",
    "    print(\"Opps sorry!!\")    "
   ]
  },
  {
   "cell_type": "code",
   "execution_count": null,
   "id": "da13d2ae",
   "metadata": {},
   "outputs": [],
   "source": [
    "if \n",
    "else\n",
    "elif \n"
   ]
  }
 ],
 "metadata": {
  "kernelspec": {
   "display_name": "Python 3 (ipykernel)",
   "language": "python",
   "name": "python3"
  },
  "language_info": {
   "codemirror_mode": {
    "name": "ipython",
    "version": 3
   },
   "file_extension": ".py",
   "mimetype": "text/x-python",
   "name": "python",
   "nbconvert_exporter": "python",
   "pygments_lexer": "ipython3",
   "version": "3.9.12"
  }
 },
 "nbformat": 4,
 "nbformat_minor": 5
}
