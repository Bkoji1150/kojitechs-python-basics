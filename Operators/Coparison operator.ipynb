{
 "cells": [
  {
   "cell_type": "code",
   "execution_count": 1,
   "id": "40163856",
   "metadata": {},
   "outputs": [
    {
     "name": "stdout",
     "output_type": "stream",
     "text": [
      "What is the Temp outside: 20\n",
      "It's cold.\n",
      "Get a pullover\n"
     ]
    }
   ],
   "source": [
    "temperature = eval(input(\"What is the Temp outside: \"))\n",
    "if temperature > 30:\n",
    "    print(\"It's hot outside.\\nplease drink water!\")\n",
    "else:\n",
    "    print(\"It's cold.\\nGet a pullover\")"
   ]
  },
  {
   "cell_type": "code",
   "execution_count": null,
   "id": "821ebbe4",
   "metadata": {},
   "outputs": [],
   "source": [
    "## This credit card company \n",
    "policy applicant must be obove 18 years\n",
    "the applicant must not be a student!\n",
    "print(\"Congrants Mr Koji\\nLoan Granted\")\n",
    "\n",
    "\n",
    "Ooooopsss\n",
    "print(\"Sorry you were not approve😔\")"
   ]
  }
 ],
 "metadata": {
  "kernelspec": {
   "display_name": "Python 3 (ipykernel)",
   "language": "python",
   "name": "python3"
  },
  "language_info": {
   "codemirror_mode": {
    "name": "ipython",
    "version": 3
   },
   "file_extension": ".py",
   "mimetype": "text/x-python",
   "name": "python",
   "nbconvert_exporter": "python",
   "pygments_lexer": "ipython3",
   "version": "3.9.12"
  }
 },
 "nbformat": 4,
 "nbformat_minor": 5
}
