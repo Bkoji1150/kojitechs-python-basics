{
 "cells": [
  {
   "cell_type": "markdown",
   "id": "22d1e060",
   "metadata": {},
   "source": [
    "## Membership Operator\n",
    "python would take input and check if in in a given list result is True or False"
   ]
  },
  {
   "cell_type": "code",
   "execution_count": 2,
   "id": "d81242f5",
   "metadata": {},
   "outputs": [
    {
     "ename": "SyntaxError",
     "evalue": "invalid syntax (3088438327.py, line 1)",
     "output_type": "error",
     "traceback": [
      "\u001b[0;36m  Input \u001b[0;32mIn [2]\u001b[0;36m\u001b[0m\n\u001b[0;31m    > is\u001b[0m\n\u001b[0m    ^\u001b[0m\n\u001b[0;31mSyntaxError\u001b[0m\u001b[0;31m:\u001b[0m invalid syntax\n"
     ]
    }
   ],
   "source": [
    "> in\n",
    "> not in\n",
    "\n",
    "\n",
    "fruits = [\"apple\", \"pawpaw\", \"arange\"]\n"
   ]
  },
  {
   "cell_type": "code",
   "execution_count": 9,
   "id": "70f78661",
   "metadata": {},
   "outputs": [
    {
     "data": {
      "text/plain": [
       "['apple', 'pawpaw', 'arange']"
      ]
     },
     "execution_count": 9,
     "metadata": {},
     "output_type": "execute_result"
    }
   ],
   "source": [
    "fruits"
   ]
  },
  {
   "cell_type": "code",
   "execution_count": null,
   "id": "db15eb7d",
   "metadata": {},
   "outputs": [],
   "source": [
    "\n"
   ]
  },
  {
   "cell_type": "code",
   "execution_count": 10,
   "id": "f9a39341",
   "metadata": {},
   "outputs": [
    {
     "name": "stderr",
     "output_type": "stream",
     "text": [
      "<>:1: SyntaxWarning: \"is not\" with a literal. Did you mean \"!=\"?\n",
      "<>:1: SyntaxWarning: \"is not\" with a literal. Did you mean \"!=\"?\n",
      "/var/folders/6b/gvsv6dln0036ddlbxn6hhfw40000gp/T/ipykernel_58671/1029033079.py:1: SyntaxWarning: \"is not\" with a literal. Did you mean \"!=\"?\n",
      "  \"arange\" is  not fruits\n"
     ]
    },
    {
     "data": {
      "text/plain": [
       "True"
      ]
     },
     "execution_count": 10,
     "metadata": {},
     "output_type": "execute_result"
    }
   ],
   "source": [
    "\"arange\" is  not fruits"
   ]
  },
  {
   "cell_type": "code",
   "execution_count": 11,
   "id": "9fa7b5c8",
   "metadata": {},
   "outputs": [
    {
     "data": {
      "text/plain": [
       "['apple', 'pawpaw', 'arange']"
      ]
     },
     "execution_count": 11,
     "metadata": {},
     "output_type": "execute_result"
    }
   ],
   "source": [
    "fruits"
   ]
  },
  {
   "cell_type": "code",
   "execution_count": 15,
   "id": "982494ad",
   "metadata": {},
   "outputs": [
    {
     "data": {
      "text/plain": [
       "['apple', 'pawpaw', 'arange']"
      ]
     },
     "execution_count": 15,
     "metadata": {},
     "output_type": "execute_result"
    }
   ],
   "source": [
    "fruits"
   ]
  },
  {
   "cell_type": "code",
   "execution_count": 16,
   "id": "1e94ce3f",
   "metadata": {},
   "outputs": [
    {
     "data": {
      "text/plain": [
       "True"
      ]
     },
     "execution_count": 16,
     "metadata": {},
     "output_type": "execute_result"
    }
   ],
   "source": [
    "'apple' in fruits"
   ]
  },
  {
   "cell_type": "code",
   "execution_count": null,
   "id": "6545ecfd",
   "metadata": {},
   "outputs": [],
   "source": [
    "names = [\"Philo\", \"Koji\", \"Bello\"]\n",
    "\n",
    "y = input(\"Who is this?: \")\n",
    "y in names\n",
    "\n"
   ]
  },
  {
   "cell_type": "code",
   "execution_count": null,
   "id": "8732b346",
   "metadata": {},
   "outputs": [],
   "source": [
    "names = [\"Philo\", \"Koji\", \"Bello\"]\n",
    "y = input(\"Who is this?: \")\n",
    "y not in names"
   ]
  },
  {
   "cell_type": "code",
   "execution_count": null,
   "id": "05ff1e9d",
   "metadata": {},
   "outputs": [],
   "source": [
    "names = [\"Philo\", \"Koji\", \"Bello\"]\n",
    "y = input(\"Who is this?: \")\n",
    "y not in names"
   ]
  },
  {
   "cell_type": "code",
   "execution_count": null,
   "id": "2b69802e",
   "metadata": {},
   "outputs": [],
   "source": []
  }
 ],
 "metadata": {
  "kernelspec": {
   "display_name": "Python 3 (ipykernel)",
   "language": "python",
   "name": "python3"
  },
  "language_info": {
   "codemirror_mode": {
    "name": "ipython",
    "version": 3
   },
   "file_extension": ".py",
   "mimetype": "text/x-python",
   "name": "python",
   "nbconvert_exporter": "python",
   "pygments_lexer": "ipython3",
   "version": "3.9.12"
  }
 },
 "nbformat": 4,
 "nbformat_minor": 5
}
