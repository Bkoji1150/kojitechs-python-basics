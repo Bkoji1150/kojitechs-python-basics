{
 "cells": [
  {
   "cell_type": "code",
   "execution_count": 28,
   "id": "bc02222c",
   "metadata": {},
   "outputs": [
    {
     "name": "stdout",
     "output_type": "stream",
     "text": [
      "Please enter number: 23\n",
      "23\n"
     ]
    }
   ],
   "source": [
    "# FIZZBUZZ theory in python!!\n",
    "# user_input = eval(input(\"Please enter number!\"))\n",
    "# check if user_input is a multiple of 3 print \"FIZZ\"\n",
    "# if user_input is a multiple of 5 print \"BUZZ\"\n",
    "# if user_input is both the multiple of 3 and 5 then print FIZZBUZZ \n",
    "# otherwise print the number \n",
    "from pprint import pprint\n",
    "\n",
    "user_input = eval(input(\"Please enter number: \"))\n",
    "\n",
    "if (user_input%3==0 and user_input%5==0):\n",
    "    print(\"FIZZBUZZ\", user_input)\n",
    "elif (user_input%3==0):\n",
    "    print(\"FIZZ\", user_input)\n",
    "elif (user_input%5==0):\n",
    "    print(\"BUZZ\", user_input)\n",
    "else:\n",
    "    print(user_input)\n",
    "    \n"
   ]
  },
  {
   "cell_type": "code",
   "execution_count": 10,
   "id": "d0d6f861",
   "metadata": {},
   "outputs": [
    {
     "data": {
      "text/plain": [
       "8.0"
      ]
     },
     "execution_count": 10,
     "metadata": {},
     "output_type": "execute_result"
    }
   ],
   "source": [
    "40/5\n"
   ]
  },
  {
   "cell_type": "code",
   "execution_count": 14,
   "id": "a63046a2",
   "metadata": {},
   "outputs": [
    {
     "name": "stdout",
     "output_type": "stream",
     "text": [
      "my name is koji bello and i love python and i teach python\n"
     ]
    }
   ],
   "source": [
    "# \n",
    "hello = \"my name is koji bello and i love python and i teach python!\"\n",
    "\n",
    "# Maximum frequency charater in this string\n",
    "# for hello print the most occuring character\n"
   ]
  },
  {
   "cell_type": "code",
   "execution_count": 23,
   "id": "88bcfbb1",
   "metadata": {},
   "outputs": [
    {
     "name": "stdout",
     "output_type": "stream",
     "text": [
      " \n"
     ]
    }
   ],
   "source": [
    "all_freq = {}\n",
    "for each_char in hello:\n",
    "    if each_char in all_freq:\n",
    "        all_freq[each_char] += 1\n",
    "    else:\n",
    "        all_freq[each_char] = 1\n",
    "res = max(all_freq, key = all_freq.get)  \n",
    "print(res)\n",
    "        \n",
    "        \n",
    "    \n"
   ]
  },
  {
   "cell_type": "code",
   "execution_count": 29,
   "id": "8927a62f",
   "metadata": {},
   "outputs": [
    {
     "name": "stdout",
     "output_type": "stream",
     "text": [
      "{' ': 12,\n",
      " '!': 1,\n",
      " 'a': 4,\n",
      " 'b': 1,\n",
      " 'c': 1,\n",
      " 'd': 2,\n",
      " 'e': 4,\n",
      " 'h': 3,\n",
      " 'i': 4,\n",
      " 'j': 1,\n",
      " 'k': 1,\n",
      " 'l': 3,\n",
      " 'm': 2,\n",
      " 'n': 5,\n",
      " 'o': 5,\n",
      " 'p': 2,\n",
      " 's': 1,\n",
      " 't': 3,\n",
      " 'v': 1,\n",
      " 'y': 3}\n"
     ]
    }
   ],
   "source": [
    "hello = \"my name is koji bello and i love python and i teach python!\"\n",
    "all_freq = {}\n",
    "for each_char in hello:\n",
    "    if each_char in all_freq:\n",
    "        all_freq[each_char] += 1\n",
    "    else:\n",
    "        all_freq[each_char] = 1 \n",
    "pprint(all_freq)\n",
    "        "
   ]
  },
  {
   "cell_type": "code",
   "execution_count": null,
   "id": "a1273582",
   "metadata": {},
   "outputs": [],
   "source": []
  }
 ],
 "metadata": {
  "kernelspec": {
   "display_name": "Python 3 (ipykernel)",
   "language": "python",
   "name": "python3"
  },
  "language_info": {
   "codemirror_mode": {
    "name": "ipython",
    "version": 3
   },
   "file_extension": ".py",
   "mimetype": "text/x-python",
   "name": "python",
   "nbconvert_exporter": "python",
   "pygments_lexer": "ipython3",
   "version": "3.9.12"
  }
 },
 "nbformat": 4,
 "nbformat_minor": 5
}
