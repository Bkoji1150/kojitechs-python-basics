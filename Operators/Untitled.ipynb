{
 "cells": [
  {
   "cell_type": "markdown",
   "id": "228800f5",
   "metadata": {},
   "source": [
    "## Operators\n",
    "    > Operators are the pillars for any language \n",
    "    > operators can be defined as a symbol which is responsible for a particular operation between two operands\n",
    "    > Example '+' is an operators, perform addition operators on operands\n",
    "    > operands may be values or variables or combination of both\n",
    "    > python provides a variaty of operators described as follows"
   ]
  },
  {
   "cell_type": "markdown",
   "id": "048abc14",
   "metadata": {},
   "source": [
    "## Arithmetic Operators\n",
    "### Takes values as inputs, performs its operation on input values and gives values as outputs.\n",
    "\n"
   ]
  },
  {
   "cell_type": "code",
   "execution_count": 14,
   "id": "5e4cae5f",
   "metadata": {},
   "outputs": [
    {
     "data": {
      "text/plain": [
       "'\\n> Addition +\\n> Subtraction -\\n> Division /\\n> Modulo %\\n> Floor division //\\n> Exponential ** \\n'"
      ]
     },
     "execution_count": 14,
     "metadata": {},
     "output_type": "execute_result"
    }
   ],
   "source": [
    "\"\"\"\n",
    "> Addition +\n",
    "> Subtraction -\n",
    "> Multiplication *\n",
    "> Division /\n",
    "> Modulo %\n",
    "> Floor division //\n",
    "> Exponential ** \n",
    "\"\"\"\n"
   ]
  },
  {
   "cell_type": "code",
   "execution_count": 16,
   "id": "00436eb2",
   "metadata": {},
   "outputs": [
    {
     "data": {
      "text/plain": [
       "4"
      ]
     },
     "execution_count": 16,
     "metadata": {},
     "output_type": "execute_result"
    }
   ],
   "source": [
    "2 + 2"
   ]
  },
  {
   "cell_type": "markdown",
   "id": "935bfb8c",
   "metadata": {},
   "source": [
    "## Assignment Oerators\n",
    "### Takes values as inputs, performs its operation on input values and gives values as outputs."
   ]
  },
  {
   "cell_type": "code",
   "execution_count": 4,
   "id": "78d1a4aa",
   "metadata": {},
   "outputs": [],
   "source": [
    "asign =  ''"
   ]
  },
  {
   "cell_type": "markdown",
   "id": "a7eae890",
   "metadata": {},
   "source": [
    "\n",
    "# Comparison Operators\n",
    "\n",
    "### Takes values as inputs, performs its operation on input values and gives values as True or False."
   ]
  },
  {
   "cell_type": "code",
   "execution_count": 5,
   "id": "5ecbc3eb",
   "metadata": {},
   "outputs": [],
   "source": [
    "com = \"\""
   ]
  },
  {
   "cell_type": "markdown",
   "id": "1d0bb973",
   "metadata": {},
   "source": [
    "## Identity Operators\n",
    "### Takes values as inputs, performs its operation on input values and gives values as True or False."
   ]
  },
  {
   "cell_type": "code",
   "execution_count": null,
   "id": "b7d6c2c2",
   "metadata": {},
   "outputs": [],
   "source": []
  },
  {
   "cell_type": "code",
   "execution_count": 6,
   "id": "efc9b54a",
   "metadata": {},
   "outputs": [],
   "source": [
    "ident = 3"
   ]
  },
  {
   "cell_type": "markdown",
   "id": "ef351653",
   "metadata": {},
   "source": [
    "\n",
    "# Membership Operator\n",
    "### Takes values as inputs, performs its operation on input values and gives values as True or False."
   ]
  },
  {
   "cell_type": "code",
   "execution_count": 8,
   "id": "302351cf",
   "metadata": {},
   "outputs": [],
   "source": [
    "meb = \"\""
   ]
  },
  {
   "cell_type": "markdown",
   "id": "d80cc166",
   "metadata": {},
   "source": [
    "## Logical Operators\n",
    "### Takes True or False as inputs performs operation on this inputs and give output as either True or False"
   ]
  },
  {
   "cell_type": "code",
   "execution_count": 13,
   "id": "b22f5073",
   "metadata": {},
   "outputs": [],
   "source": [
    "bd = \"\"\n"
   ]
  },
  {
   "cell_type": "markdown",
   "id": "49574d47",
   "metadata": {},
   "source": [
    "## Bitwise Operators "
   ]
  },
  {
   "cell_type": "code",
   "execution_count": null,
   "id": "069a4a2b",
   "metadata": {},
   "outputs": [],
   "source": []
  }
 ],
 "metadata": {
  "kernelspec": {
   "display_name": "Python 3 (ipykernel)",
   "language": "python",
   "name": "python3"
  },
  "language_info": {
   "codemirror_mode": {
    "name": "ipython",
    "version": 3
   },
   "file_extension": ".py",
   "mimetype": "text/x-python",
   "name": "python",
   "nbconvert_exporter": "python",
   "pygments_lexer": "ipython3",
   "version": "3.9.12"
  }
 },
 "nbformat": 4,
 "nbformat_minor": 5
}
