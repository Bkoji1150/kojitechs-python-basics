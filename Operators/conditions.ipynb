{
 "cells": [
  {
   "cell_type": "markdown",
   "id": "2c08734f",
   "metadata": {},
   "source": [
    "# Condition in python"
   ]
  },
  {
   "cell_type": "code",
   "execution_count": 1,
   "id": "a18f9c7a",
   "metadata": {},
   "outputs": [
    {
     "name": "stdout",
     "output_type": "stream",
     "text": [
      "4 is greater than 2\n"
     ]
    }
   ],
   "source": [
    "'''\n",
    "if => True:\n",
    "    Do something!\n",
    "else:\n",
    "    Do Nothing!\n",
    "'''\n",
    "\n",
    "x = 4\n",
    "y = 2\n",
    "\n",
    "if (x > y):\n",
    "   print(f\"{x} is greater than {y}\")       \n",
    "\n",
    "\n"
   ]
  },
  {
   "cell_type": "markdown",
   "id": "2b5c1463",
   "metadata": {},
   "source": [
    "## What if we don't know the value of x or y??"
   ]
  },
  {
   "cell_type": "code",
   "execution_count": 7,
   "id": "24c2f026",
   "metadata": {},
   "outputs": [
    {
     "name": "stdout",
     "output_type": "stream",
     "text": [
      "Enter number: 2\n",
      "Enter number: 3\n",
      "2 is not greater than 3\n"
     ]
    }
   ],
   "source": [
    "# [\"file1\", \"fil2\", \"file3\"] =====> iterate: for_loop\n",
    "# {\"name\": \"koji\", \"age\": 24, \"country\": \"Cameroon\"} =====> \n",
    "\n",
    "x = eval(input(\"Enter number: \"))\n",
    "y= eval(input(\"Enter number: \"))\n",
    "\n",
    "if (x > y):\n",
    "   print(f\"{x} is greater than {y}\")       \n",
    "else:\n",
    "    print(f\"{x} is not greater than {y}\")"
   ]
  },
  {
   "cell_type": "code",
   "execution_count": 9,
   "id": "95e56e4f",
   "metadata": {},
   "outputs": [
    {
     "name": "stdout",
     "output_type": "stream",
     "text": [
      "[1, 2, 3, 4, 5, 6, 7, 8, 9, 10]\n"
     ]
    }
   ],
   "source": [
    "print(list(range(1,11)))\n"
   ]
  },
  {
   "cell_type": "markdown",
   "id": "0fd690f8",
   "metadata": {},
   "source": [
    "## For loop with if"
   ]
  },
  {
   "cell_type": "code",
   "execution_count": 14,
   "id": "3a2adf8e",
   "metadata": {},
   "outputs": [
    {
     "name": "stdout",
     "output_type": "stream",
     "text": [
      "one\n",
      "Two\n",
      "Three\n",
      "four\n",
      "five\n",
      "six\n",
      "seven\n",
      "eight\n",
      "nine\n",
      "ten\n"
     ]
    }
   ],
   "source": [
    "numbers = list(range(1,11))\n",
    " \n",
    "for num in numbers:\n",
    "    if num==1:\n",
    "        print(\"one\")\n",
    "    elif num==2:\n",
    "        print(\"Two\")\n",
    "    elif num==3:\n",
    "        print(\"Three\")\n",
    "    elif num==4:\n",
    "        print(\"four\")\n",
    "    elif num==5:\n",
    "        print(\"five\")\n",
    "    elif num==6:\n",
    "        print(\"six\")\n",
    "    elif num==7:\n",
    "        print(\"seven\")\n",
    "    elif num==8:\n",
    "        print(\"eight\")\n",
    "    elif num==9:\n",
    "        print(\"nine\")\n",
    "    elif num==10:\n",
    "        print(\"ten\")\n",
    "    else:\n",
    "        print(f\"{num} is out of range, please select between 1-10\")\n",
    "        "
   ]
  },
  {
   "cell_type": "code",
   "execution_count": 18,
   "id": "55f1258f",
   "metadata": {},
   "outputs": [
    {
     "name": "stdout",
     "output_type": "stream",
     "text": [
      "Please enter number: 200\n",
      "200 is out of range 1-10\n"
     ]
    }
   ],
   "source": [
    "user_input = eval(input(\"Please enter number: \"))\n",
    "if user_input==1:\n",
    "    print(\"One\")\n",
    "elif user_input==2:\n",
    "    print(\"Two\")\n",
    "elif user_input==3:\n",
    "    print(\"Three\")\n",
    "elif user_input==4:\n",
    "    print(\"four\")\n",
    "elif user_input==5:\n",
    "    print(\"five\")\n",
    "elif user_input==6:\n",
    "    print(\"six\")\n",
    "elif user_input==7:\n",
    "    print(\"seven\")\n",
    "elif user_input==8:\n",
    "    print(\"eight\")\n",
    "elif user_input==9:\n",
    "    print(\"nine\")\n",
    "elif user_input==10:\n",
    "    print(\"ten\") \n",
    "else:\n",
    "    print(f\"{user_input} is out of range 1-10\")\n",
    "    "
   ]
  },
  {
   "cell_type": "code",
   "execution_count": null,
   "id": "996031b1",
   "metadata": {},
   "outputs": [],
   "source": []
  }
 ],
 "metadata": {
  "kernelspec": {
   "display_name": "Python 3 (ipykernel)",
   "language": "python",
   "name": "python3"
  },
  "language_info": {
   "codemirror_mode": {
    "name": "ipython",
    "version": 3
   },
   "file_extension": ".py",
   "mimetype": "text/x-python",
   "name": "python",
   "nbconvert_exporter": "python",
   "pygments_lexer": "ipython3",
   "version": "3.9.12"
  }
 },
 "nbformat": 4,
 "nbformat_minor": 5
}
