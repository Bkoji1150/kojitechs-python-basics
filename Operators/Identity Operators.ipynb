{
 "cells": [
  {
   "cell_type": "markdown",
   "id": "a96f1e03",
   "metadata": {},
   "source": [
    "# Arithmitic operators\n",
    "This take input (x,y) perform some logic(+,-, *,%) and then it would print the result\n",
    "# Comparison Operators \n",
    "This take input (x,y) perform some logic(>,<, ==, !=, <=, >=) and then it would print the True or False\n",
    "# identity operators\n",
    "Takes values as inputs, performs its operation( )on input values and gives values as True or False."
   ]
  },
  {
   "cell_type": "code",
   "execution_count": 17,
   "id": "9c53f39a",
   "metadata": {},
   "outputs": [
    {
     "data": {
      "text/plain": [
       "False"
      ]
     },
     "execution_count": 17,
     "metadata": {},
     "output_type": "execute_result"
    }
   ],
   "source": [
    "import getpass\n",
    "y = 3\n",
    "x = 2\n",
    "y == x"
   ]
  },
  {
   "cell_type": "code",
   "execution_count": 2,
   "id": "3f78cc5d",
   "metadata": {},
   "outputs": [
    {
     "data": {
      "text/plain": [
       "False"
      ]
     },
     "execution_count": 2,
     "metadata": {},
     "output_type": "execute_result"
    }
   ],
   "source": [
    "name = \"koji\"\n",
    "second_name = \"Bello\"\n",
    "name == second_name"
   ]
  },
  {
   "cell_type": "code",
   "execution_count": 3,
   "id": "d7cfc288",
   "metadata": {},
   "outputs": [
    {
     "data": {
      "text/plain": [
       "False"
      ]
     },
     "execution_count": 3,
     "metadata": {},
     "output_type": "execute_result"
    }
   ],
   "source": [
    "x = 'a'\n",
    "y = 'b'\n",
    "x == y"
   ]
  },
  {
   "cell_type": "code",
   "execution_count": 8,
   "id": "48a8ba11",
   "metadata": {},
   "outputs": [
    {
     "data": {
      "text/plain": [
       "115"
      ]
     },
     "execution_count": 8,
     "metadata": {},
     "output_type": "execute_result"
    }
   ],
   "source": [
    "ord('s')\n"
   ]
  },
  {
   "cell_type": "code",
   "execution_count": 6,
   "id": "c4b327c1",
   "metadata": {},
   "outputs": [
    {
     "data": {
      "text/plain": [
       "98"
      ]
     },
     "execution_count": 6,
     "metadata": {},
     "output_type": "execute_result"
    }
   ],
   "source": [
    "ord('b')"
   ]
  },
  {
   "cell_type": "code",
   "execution_count": 10,
   "id": "08c7b3e8",
   "metadata": {},
   "outputs": [
    {
     "data": {
      "text/plain": [
       "True"
      ]
     },
     "execution_count": 10,
     "metadata": {},
     "output_type": "execute_result"
    }
   ],
   "source": [
    "'a'=='a'"
   ]
  },
  {
   "cell_type": "code",
   "execution_count": 18,
   "id": "4efdac8a",
   "metadata": {},
   "outputs": [
    {
     "name": "stdout",
     "output_type": "stream",
     "text": [
      "What is your password?········\n",
      "Login unsuccessful\n"
     ]
    }
   ],
   "source": [
    "passwd = 'kdjdhfhjrkoji'\n",
    "\n",
    "user_passwd = getpass.getpass(\"What is your password?\")\n",
    "\n",
    "if user_passwd == passwd:\n",
    "    print(\"Login successful\")\n",
    "else:\n",
    "    print(\"Login unsuccessful\")\n",
    "    "
   ]
  },
  {
   "cell_type": "code",
   "execution_count": 19,
   "id": "a636771b",
   "metadata": {},
   "outputs": [
    {
     "data": {
      "text/plain": [
       "'ab'"
      ]
     },
     "execution_count": 19,
     "metadata": {},
     "output_type": "execute_result"
    }
   ],
   "source": [
    "'a' + 'b'"
   ]
  },
  {
   "cell_type": "code",
   "execution_count": null,
   "id": "1e1bbb3f",
   "metadata": {},
   "outputs": [],
   "source": []
  }
 ],
 "metadata": {
  "kernelspec": {
   "display_name": "Python 3 (ipykernel)",
   "language": "python",
   "name": "python3"
  },
  "language_info": {
   "codemirror_mode": {
    "name": "ipython",
    "version": 3
   },
   "file_extension": ".py",
   "mimetype": "text/x-python",
   "name": "python",
   "nbconvert_exporter": "python",
   "pygments_lexer": "ipython3",
   "version": "3.9.12"
  }
 },
 "nbformat": 4,
 "nbformat_minor": 5
}
