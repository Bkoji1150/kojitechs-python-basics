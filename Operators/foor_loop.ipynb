{
 "cells": [
  {
   "cell_type": "markdown",
   "id": "075635e6",
   "metadata": {},
   "source": [
    "# What is for_loops\n",
    "\n",
    "\n"
   ]
  },
  {
   "cell_type": "code",
   "execution_count": 3,
   "id": "31a32070",
   "metadata": {},
   "outputs": [
    {
     "name": "stdout",
     "output_type": "stream",
     "text": [
      "['apple', 'orange', 'pawpaw', 'pear']\n"
     ]
    }
   ],
   "source": [
    "list_1 = [\"apple\", \"orange\", \"pawpaw\", \"pear\"]\n",
    "'''\n",
    "for each_item in list_1:\n",
    "    print(each_item)\n",
    "'''\n",
    "\n",
    "\n",
    "item = [item for item in list_1]\n",
    "print(item)"
   ]
  },
  {
   "cell_type": "code",
   "execution_count": 4,
   "id": "d4dc7c06",
   "metadata": {},
   "outputs": [
    {
     "name": "stdout",
     "output_type": "stream",
     "text": [
      "a\n",
      "p\n",
      "p\n",
      "l\n",
      "e\n"
     ]
    }
   ],
   "source": [
    "list_2 = \"apple\"\n",
    "for each_item in list_2:\n",
    "    print(each_item)"
   ]
  },
  {
   "cell_type": "code",
   "execution_count": 7,
   "id": "f7b3829d",
   "metadata": {},
   "outputs": [
    {
     "name": "stdout",
     "output_type": "stream",
     "text": [
      "apple\n",
      "orange\n",
      "pawpaw\n"
     ]
    }
   ],
   "source": [
    "items = [\"apple\", \"orange\", \"pawpaw\", \"pear\"]\n",
    "\n",
    "for item in items:\n",
    "    print(item)\n",
    "    if item =='pawpaw':\n",
    "        break"
   ]
  },
  {
   "cell_type": "code",
   "execution_count": 11,
   "id": "5e47c4dc",
   "metadata": {},
   "outputs": [
    {
     "name": "stdout",
     "output_type": "stream",
     "text": [
      "1\n",
      "2\n",
      "3\n",
      "4\n",
      "5\n",
      "6\n"
     ]
    }
   ],
   "source": [
    "numbers = range(1,10)\n",
    "\n",
    "for number in numbers:\n",
    "    print(number)\n",
    "    if number == 6:\n",
    "        break"
   ]
  },
  {
   "cell_type": "code",
   "execution_count": 12,
   "id": "5dc3cecc",
   "metadata": {},
   "outputs": [
    {
     "name": "stdout",
     "output_type": "stream",
     "text": [
      "6\n"
     ]
    }
   ],
   "source": [
    "numbers = range(1,10)\n",
    "\n",
    "for number in numbers:\n",
    "    if number == 6:\n",
    "        print(number)\n",
    "        break\n",
    "        "
   ]
  },
  {
   "cell_type": "code",
   "execution_count": 26,
   "id": "4bb88b7e",
   "metadata": {},
   "outputs": [
    {
     "name": "stdout",
     "output_type": "stream",
     "text": [
      "apple\n",
      "banana\n"
     ]
    }
   ],
   "source": [
    "items = [\"apple\", \"banana\", \"cherry\"]\n",
    "for item in items:\n",
    "#     print('apple')\n",
    "#     print(\"banana\")\n",
    "    \n",
    "    print(item)\n",
    "    if item == 'banana':\n",
    "        break\n",
    "  \n",
    "\n",
    "        \n",
    "        "
   ]
  },
  {
   "cell_type": "code",
   "execution_count": null,
   "id": "861727a5",
   "metadata": {},
   "outputs": [],
   "source": [
    "\n"
   ]
  }
 ],
 "metadata": {
  "kernelspec": {
   "display_name": "Python 3 (ipykernel)",
   "language": "python",
   "name": "python3"
  },
  "language_info": {
   "codemirror_mode": {
    "name": "ipython",
    "version": 3
   },
   "file_extension": ".py",
   "mimetype": "text/x-python",
   "name": "python",
   "nbconvert_exporter": "python",
   "pygments_lexer": "ipython3",
   "version": "3.9.12"
  }
 },
 "nbformat": 4,
 "nbformat_minor": 5
}
