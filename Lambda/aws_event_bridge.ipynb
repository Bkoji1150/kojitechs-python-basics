{
 "cells": [
  {
   "cell_type": "code",
   "execution_count": 59,
   "id": "addc5697",
   "metadata": {},
   "outputs": [],
   "source": [
    "import boto3\n",
    "from pprint import pprint\n",
    "resource = boto3.session.Session(profile_name=\"shared\").resource(service_name='ec2', region_name='us-east-1')\n",
    "client = boto3.session.Session(profile_name=\"shared\").client(service_name='ec2', region_name='us-east-1')"
   ]
  },
  {
   "cell_type": "code",
   "execution_count": 135,
   "id": "f683e500",
   "metadata": {},
   "outputs": [],
   "source": [
    "# import boto3\n",
    "# from pprint import pprint\n",
    "# resource = boto3.resource(service_name='ec2', region_name='us-east-1')\n",
    "# client = boto3.client(service_name='ec2', region_name='us-east-1')\n",
    "\n",
    "def lambda_handler(event, context):\n",
    "    # calling all our functions\n",
    "    eventbrigde_instances()\n",
    "    #start_instances()\n",
    "\n",
    "\n",
    "# uses resource object to list all instances...\n",
    "def list_instances():\n",
    "    response = client.describe_instances()['Reservations']\n",
    "    count = 1\n",
    "    instance_id = []\n",
    "    for each_instance in response:\n",
    "        for i in each_instance.get('Instances'):\n",
    "            instance_id.append(i.get('InstanceId'))\n",
    "        return instance_id\n",
    "    return instance_ids\n",
    "            \n",
    "    \n",
    "def eventbrigde_instances():\n",
    "    # creating waiter for stopping instances\n",
    "    wait_for_stop = client.get_waiter('instance_stopped')\n",
    "    \n",
    "    # creating waiter for starting instances...\n",
    "    wait_for_start = client.get_waiter('instance_running')\n",
    "    \n",
    "    # calling instance id\n",
    "    instance_id = list_instances()\n",
    "    \n",
    "    response = client.describe_instances()['Reservations']\n",
    "    for each_instance in response:\n",
    "        for i in each_instance.get('Instances'):\n",
    "            if i.get('State').get('Name') == 'running':\n",
    "                print(\"stopping instances ....\")\n",
    "                client.stop_instances(InstanceIds= instance_id)\n",
    "                # Calling waiter \n",
    "                wait_for_stop.wait(InstanceIds= instance_id)\n",
    "                # check... for break #Philo   \n",
    "            if i.get('State').get('Name') == 'stopped':\n",
    "                print(\"starting instances ....\")\n",
    "                client.start_instances(InstanceIds= instance_id)\n",
    "                # Calling waiter \n",
    "                wait_for_start.wait(InstanceIds= instance_id)\n",
    "            else:\n",
    "                print(\"instances is in an invalid state\")  \n",
    "        print(\"Done!.....\")\n",
    "        "
   ]
  },
  {
   "cell_type": "code",
   "execution_count": 136,
   "id": "12b3757d",
   "metadata": {},
   "outputs": [
    {
     "name": "stdout",
     "output_type": "stream",
     "text": [
      "stopping instances ....\n",
      "starting instances ....\n",
      "starting instances ....\n",
      "starting instances ....\n",
      "starting instances ....\n",
      "Done!.....\n"
     ]
    }
   ],
   "source": [
    "lambda_handler(event='', context='')"
   ]
  },
  {
   "cell_type": "code",
   "execution_count": 126,
   "id": "ad897baf",
   "metadata": {},
   "outputs": [],
   "source": [
    "# At what time do we what to STOP all instances....( 8:00pm EST) (STOPPED!)\n",
    "# At what time do we what to START all instances....( 6:00am EST) (RUNNING!)\n"
   ]
  },
  {
   "cell_type": "code",
   "execution_count": null,
   "id": "1f1aa032",
   "metadata": {},
   "outputs": [],
   "source": []
  },
  {
   "cell_type": "code",
   "execution_count": 128,
   "id": "1545dd55",
   "metadata": {},
   "outputs": [
    {
     "name": "stdout",
     "output_type": "stream",
     "text": [
      "yes\n"
     ]
    }
   ],
   "source": [
    "name = \"koji\"\n",
    "\n",
    "if name == \"koji\":\n",
    "    print(\"yes\")\n",
    "elif name == \"rolland\":\n",
    "    print(\"no\")\n",
    "    "
   ]
  },
  {
   "cell_type": "code",
   "execution_count": null,
   "id": "e6f3e50b",
   "metadata": {},
   "outputs": [],
   "source": [
    "def lander_handler(event, context):\n",
    "    # calling functions \n",
    "    start_instance()\n",
    "    stop_instance()\n",
    "    pass \n",
    "\n",
    "\n",
    "\n",
    "def start_instance():\n",
    "    # using filter to get only stopped. [instance ids that are in stop state]\n",
    "    client = client.start()\n",
    "    waiter.stop(\"waiting instance to start\")\n",
    "    print(\"instances started\")\n",
    "    \n",
    "    \n",
    "def stop_instance():\n",
    "    # using filter to get only running instances ['''''']\n",
    "    client = client.stop()\n",
    "    waiter.wait('waiting until stopped')\n",
    "    "
   ]
  }
 ],
 "metadata": {
  "kernelspec": {
   "display_name": "Python 3 (ipykernel)",
   "language": "python",
   "name": "python3"
  },
  "language_info": {
   "codemirror_mode": {
    "name": "ipython",
    "version": 3
   },
   "file_extension": ".py",
   "mimetype": "text/x-python",
   "name": "python",
   "nbconvert_exporter": "python",
   "pygments_lexer": "ipython3",
   "version": "3.9.12"
  }
 },
 "nbformat": 4,
 "nbformat_minor": 5
}
