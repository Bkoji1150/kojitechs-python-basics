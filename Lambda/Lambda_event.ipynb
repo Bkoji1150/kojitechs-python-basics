{
 "cells": [
  {
   "cell_type": "code",
   "execution_count": 7,
   "id": "590bca05",
   "metadata": {},
   "outputs": [],
   "source": [
    "import logging\n",
    "from pprint import pprint"
   ]
  },
  {
   "cell_type": "markdown",
   "id": "7c87e102",
   "metadata": {},
   "source": [
    "## Lambda event"
   ]
  },
  {
   "cell_type": "code",
   "execution_count": 1,
   "id": "19513d67",
   "metadata": {},
   "outputs": [
    {
     "ename": "SyntaxError",
     "evalue": "invalid syntax (409324458.py, line 5)",
     "output_type": "error",
     "traceback": [
      "\u001b[0;36m  Input \u001b[0;32mIn [1]\u001b[0;36m\u001b[0m\n\u001b[0;31m    Trigger =====> Lambda\u001b[0m\n\u001b[0m              ^\u001b[0m\n\u001b[0;31mSyntaxError\u001b[0m\u001b[0;31m:\u001b[0m invalid syntax\n"
     ]
    }
   ],
   "source": [
    "what are event?\n",
    "Any action that ocours?\n",
    "occurance?\n",
    "\n",
    "Trigger =====> Lambda\n",
    "event bridge \n",
    "s3(event{    =====> \n",
    "   putObject,\n",
    "   getObject,\n",
    "   FectObject,\n",
    "   Delete\n",
    "})\n",
    "bucket_name= \"kojitech.click\" ========> trigger lambda(event,):\n",
    "                                              print(event)      \n",
    "putObject =\n",
    "sequentail job():\n",
    "    4 lambda(\n",
    "    lamdba_1 = \"fect a result from aws sqs\", \n",
    "        call_funct = \"valide message u,\n",
    "        calling = process res = \"\n",
    "    )"
   ]
  },
  {
   "cell_type": "code",
   "execution_count": 2,
   "id": "c2704873",
   "metadata": {},
   "outputs": [
    {
     "ename": "SyntaxError",
     "evalue": "invalid syntax (3209752590.py, line 2)",
     "output_type": "error",
     "traceback": [
      "\u001b[0;36m  Input \u001b[0;32mIn [2]\u001b[0;36m\u001b[0m\n\u001b[0;31m    what is lambda doing? (list priviledge(role))\u001b[0m\n\u001b[0m            ^\u001b[0m\n\u001b[0;31mSyntaxError\u001b[0m\u001b[0;31m:\u001b[0m invalid syntax\n"
     ]
    }
   ],
   "source": [
    "# Create a lambda function\n",
    "what is lambda doing? (list priviledge(role))\n",
    "instance ==> Dynamodb, postgres, redshift(network, sg()) ===> ()\n",
    "how long is it suppose to run(defualt 15m) 2hours\n",
    "### \n",
    "create s3, "
   ]
  },
  {
   "cell_type": "markdown",
   "id": "3ace4264",
   "metadata": {},
   "source": [
    "## Logging"
   ]
  },
  {
   "cell_type": "code",
   "execution_count": 11,
   "id": "16b52889",
   "metadata": {},
   "outputs": [
    {
     "name": "stdout",
     "output_type": "stream",
     "text": [
      "['__class__', '__delattr__', '__dict__', '__dir__', '__doc__', '__eq__', '__format__', '__ge__', '__getattribute__', '__gt__', '__hash__', '__init__', '__init_subclass__', '__le__', '__lt__', '__module__', '__ne__', '__new__', '__reduce__', '__reduce_ex__', '__repr__', '__setattr__', '__sizeof__', '__str__', '__subclasshook__', '__weakref__', '_cache', '_log', 'addFilter', 'addHandler', 'callHandlers', 'critical', 'debug', 'disabled', 'error', 'exception', 'fatal', 'filter', 'filters', 'findCaller', 'getChild', 'getEffectiveLevel', 'handle', 'handlers', 'hasHandlers', 'info', 'isEnabledFor', 'level', 'log', 'makeRecord', 'manager', 'name', 'parent', 'propagate', 'removeFilter', 'removeHandler', 'root', 'setLevel', 'warn', 'warning']\n"
     ]
    }
   ],
   "source": [
    "# logging is module \n",
    "logger = logging.getLogger()\n",
    "\n",
    "print(dir(logger))"
   ]
  },
  {
   "cell_type": "code",
   "execution_count": 17,
   "id": "609fe942",
   "metadata": {},
   "outputs": [
    {
     "name": "stderr",
     "output_type": "stream",
     "text": [
      "Oppsss\n"
     ]
    }
   ],
   "source": [
    "First_Name = \"Koji\"\n",
    "Last_Name= \"Bello\"\n",
    "\n",
    "if First_Name == \"kojii\":\n",
    "    logger.info(\"The Teacher first name is koji\")\n",
    "else:\n",
    "    logger.error(\"Oppsss\")"
   ]
  },
  {
   "cell_type": "code",
   "execution_count": 19,
   "id": "b869df41",
   "metadata": {},
   "outputs": [
    {
     "name": "stderr",
     "output_type": "stream",
     "text": [
      "name 'jdjdkdld' is not defined\n",
      "Traceback (most recent call last):\n",
      "  File \"/var/folders/6b/gvsv6dln0036ddlbxn6hhfw40000gp/T/ipykernel_96872/1388031526.py\", line 2, in <cell line: 1>\n",
      "    print(jdjdkdld)\n",
      "NameError: name 'jdjdkdld' is not defined\n"
     ]
    }
   ],
   "source": [
    "try:\n",
    "    print(jdjdkdld)\n",
    "except Exception as e:\n",
    "    logger.exception(e)"
   ]
  },
  {
   "cell_type": "code",
   "execution_count": null,
   "id": "0b7bd383",
   "metadata": {},
   "outputs": [],
   "source": [
    "import logging\n",
    "logger = logging.getLogger()\n",
    "logger.setLevel(logging.INFO)\n",
    "\n",
    "def lambda_handler(event, context):\n",
    "    # TODO implement\n",
    "    logger.info(event)\n",
    "\n",
    "    "
   ]
  },
  {
   "cell_type": "code",
   "execution_count": 32,
   "id": "c96ddbb8",
   "metadata": {},
   "outputs": [
    {
     "name": "stdout",
     "output_type": "stream",
     "text": [
      "{'Records': [{'awsRegion': 'us-east-1',\n",
      "              'eventName': 'ObjectCreated:Put',\n",
      "              'eventSource': 'aws:s3',\n",
      "              'eventTime': '2022-07-14T01:31:10.331Z',\n",
      "              'eventVersion': '2.1',\n",
      "              'requestParameters': {'sourceIPAddress': '96.255.111.19'},\n",
      "              'responseElements': {'x-amz-id-2': '5QE0NkwfXjYwYxbHTDrW9h2Xm2VGLRMC8H6CmLiAaxo7JCq+9MvnOhIIYwRPyu2waOn6qnONduOJJI8xP6wUJVX4xN9ADqhK',\n",
      "                                   'x-amz-request-id': 'A0A9CR851DC8JZ96'},\n",
      "              's3': {'bucket': {'arn': 'arn:aws:s3:::kojitechs.click',\n",
      "                                'name': 'kojitechs.click',\n",
      "                                'ownerIdentity': {'principalId': 'A20S8IW57STLID'}},\n",
      "                     'configurationId': 's3LambdaEvent',\n",
      "                     'object': {'eTag': 'ca691a0dccd564538c8708808a719751',\n",
      "                                'key': 'test_philo.sj',\n",
      "                                'sequencer': '0062CF71DE46836B7E',\n",
      "                                'size': 1440},\n",
      "                     's3SchemaVersion': '1.0'},\n",
      "              'userIdentity': {'principalId': 'AWS:AIDASUPUBY6IEUFWZFUDY'}}]}\n"
     ]
    }
   ],
   "source": [
    "fruits = {'Records': [{'eventVersion': '2.1', 'eventSource': 'aws:s3', 'awsRegion': \n",
    "                       'us-east-1', 'eventTime': '2022-07-14T01:31:10.331Z', 'eventName': \n",
    "                       'ObjectCreated:Put', 'userIdentity': {'principalId': 'AWS:AIDASUPUBY6IEUFWZFUDY'}, \n",
    "                       'requestParameters': {'sourceIPAddress': '96.255.111.19'}, 'responseElements':\n",
    "                       {'x-amz-request-id': 'A0A9CR851DC8JZ96', 'x-amz-id-2': \n",
    "                        '5QE0NkwfXjYwYxbHTDrW9h2Xm2VGLRMC8H6CmLiAaxo7JCq+9MvnOhIIYwRPyu2waOn6qnONduOJJI8xP6wUJVX4xN9ADqhK'}, \n",
    "                       's3': {'s3SchemaVersion': '1.0', 'configurationId': 's3LambdaEvent', \n",
    "                              'bucket': {'name': 'kojitechs.click', 'ownerIdentity': {'principalId': 'A20S8IW57STLID'}, \n",
    "                                         'arn': 'arn:aws:s3:::kojitechs.click'}, 'object': {'key': 'test_philo.sj',\n",
    "                                                                                            'size': 1440, \n",
    "'eTag': 'ca691a0dccd564538c8708808a719751', 'sequencer': '0062CF71DE46836B7E'}}}]}\n",
    "\n",
    "    \n",
    "pprint(fruits)"
   ]
  },
  {
   "cell_type": "code",
   "execution_count": 36,
   "id": "317f1296",
   "metadata": {},
   "outputs": [
    {
     "name": "stdout",
     "output_type": "stream",
     "text": [
      "{'awsRegion': 'us-east-1',\n",
      " 'eventName': 'ObjectCreated:Put',\n",
      " 'eventSource': 'aws:s3',\n",
      " 'eventTime': '2022-07-14T01:31:10.331Z',\n",
      " 'eventVersion': '2.1',\n",
      " 'requestParameters': {'sourceIPAddress': '96.255.111.19'},\n",
      " 'responseElements': {'x-amz-id-2': '5QE0NkwfXjYwYxbHTDrW9h2Xm2VGLRMC8H6CmLiAaxo7JCq+9MvnOhIIYwRPyu2waOn6qnONduOJJI8xP6wUJVX4xN9ADqhK',\n",
      "                      'x-amz-request-id': 'A0A9CR851DC8JZ96'},\n",
      " 's3': {'bucket': {'arn': 'arn:aws:s3:::kojitechs.click',\n",
      "                   'name': 'kojitechs.click',\n",
      "                   'ownerIdentity': {'principalId': 'A20S8IW57STLID'}},\n",
      "        'configurationId': 's3LambdaEvent',\n",
      "        'object': {'eTag': 'ca691a0dccd564538c8708808a719751',\n",
      "                   'key': 'test_philo.sj',\n",
      "                   'sequencer': '0062CF71DE46836B7E',\n",
      "                   'size': 1440},\n",
      "        's3SchemaVersion': '1.0'},\n",
      " 'userIdentity': {'principalId': 'AWS:AIDASUPUBY6IEUFWZFUDY'}}\n"
     ]
    }
   ],
   "source": [
    "pprint(fruits.get('Records')[0])"
   ]
  },
  {
   "cell_type": "code",
   "execution_count": 42,
   "id": "2306c2bb",
   "metadata": {},
   "outputs": [
    {
     "name": "stdout",
     "output_type": "stream",
     "text": [
      "I'm working in us-east-1 and the event is ObjectCreated:Put\n"
     ]
    }
   ],
   "source": [
    "print(\"I'm working in {} and the event is {}\".format(fruits.get('Records')[0]['awsRegion'], fruits.get('Records')[0]['eventName']))"
   ]
  },
  {
   "cell_type": "code",
   "execution_count": 41,
   "id": "bf1b906e",
   "metadata": {},
   "outputs": [
    {
     "name": "stdout",
     "output_type": "stream",
     "text": [
      "I'm working in us-east-1 and the event name is ObjectCreated:Put\n"
     ]
    }
   ],
   "source": [
    "print(f\"I'm working in {fruits.get('Records')[0]['awsRegion']} and the event name is {fruits.get('Records')[0]['eventName']}\")"
   ]
  },
  {
   "cell_type": "code",
   "execution_count": 48,
   "id": "a7b0bbab",
   "metadata": {},
   "outputs": [
    {
     "name": "stdout",
     "output_type": "stream",
     "text": [
      "{'bucket': {'arn': 'arn:aws:s3:::kojitechs.click',\n",
      "            'name': 'kojitechs.click',\n",
      "            'ownerIdentity': {'principalId': 'A20S8IW57STLID'}},\n",
      " 'configurationId': 's3LambdaEvent',\n",
      " 'object': {'eTag': 'ca691a0dccd564538c8708808a719751',\n",
      "            'key': 'test_philo.sj',\n",
      "            'sequencer': '0062CF71DE46836B7E',\n",
      "            'size': 1440},\n",
      " 's3SchemaVersion': '1.0'}\n"
     ]
    }
   ],
   "source": [
    "pprint(fruits['Records'][0]['s3'])"
   ]
  },
  {
   "cell_type": "code",
   "execution_count": 46,
   "id": "f38f14ee",
   "metadata": {},
   "outputs": [],
   "source": [
    "bucket_name = fruits['Records'][0]['s3']['bucket']['name']\n",
    "object_name = fruits['Records'][0]['s3']['object']['key']"
   ]
  },
  {
   "cell_type": "code",
   "execution_count": 49,
   "id": "7b26b691",
   "metadata": {},
   "outputs": [
    {
     "name": "stdout",
     "output_type": "stream",
     "text": [
      "dict_keys(['s3SchemaVersion', 'configurationId', 'bucket', 'object'])\n"
     ]
    }
   ],
   "source": [
    "print(fruits['Records'][0]['s3'].keys())"
   ]
  },
  {
   "cell_type": "code",
   "execution_count": 50,
   "id": "daf7fa51",
   "metadata": {},
   "outputs": [
    {
     "name": "stdout",
     "output_type": "stream",
     "text": [
      "s3LambdaEvent\n"
     ]
    }
   ],
   "source": [
    "print(fruits['Records'][0]['s3']['configurationId'])"
   ]
  },
  {
   "cell_type": "code",
   "execution_count": 56,
   "id": "7f3440ef",
   "metadata": {},
   "outputs": [
    {
     "name": "stdout",
     "output_type": "stream",
     "text": [
      "1440\n"
     ]
    }
   ],
   "source": [
    "print(fruits['Records'][0]['s3']['object']['size'])"
   ]
  },
  {
   "cell_type": "code",
   "execution_count": 1,
   "id": "a70f2174",
   "metadata": {},
   "outputs": [],
   "source": [
    "# Lambda\n",
    "import logging\n",
    "from pprint import pprint \n",
    "logger = logging.getLogger()\n",
    "logger.setLevel(logging.INFO)\n",
    "\n",
    "\n",
    "def lambda_handler(event, context):\n",
    "    # TODO implement\n",
    "    logger.info(event)\n",
    "    bucket_name = event['Records'][0]['s3']['bucket']['name']\n",
    "    object_name = event['Records'][0]['s3']['object']['key']\n",
    "    \n",
    "    logger.info(\"My bucket name is {}\".format(bucket_name))\n",
    "    logger.info(\"My bucket object name is {}\".format(object_name))\n",
    "    \n",
    "    # print out the content that was uploaded to s3\n",
    "    \n",
    "    \n",
    "    "
   ]
  },
  {
   "cell_type": "code",
   "execution_count": 11,
   "id": "21b0668f",
   "metadata": {},
   "outputs": [
    {
     "name": "stdout",
     "output_type": "stream",
     "text": [
      "[['ID', 'Address', 'City', 'State', 'Country', 'Name', 'Employees'], ['1', '3666 21st St', 'San Francisco', 'CA 94114', 'USA', 'Madeira', '8'], ['2', '735 Dolores St', 'San Francisco', 'CA 94119', 'USA', 'Bready Shop', '15'], ['3', '332 Hill St', 'San Francisco', 'California 94114', 'USA', 'Super River', '25'], ['4', '3995 23rd St', 'San Francisco', 'CA 94114', 'USA', \"Ben's Shop\", '10'], ['5', '1056 Sanchez St', 'San Francisco', 'California', 'USA', 'Sanchez', '12'], ['6', '551 Alvarado St', 'San Francisco', 'CA 94114', 'USA', 'Richvalley', '20']]\n"
     ]
    }
   ],
   "source": [
    "import pandas as pd\n",
    "import csv\n",
    "path = '/Users/kojibello/Downloads/GitLAP/aws-cdk-learning/Mega-python-course/supermarkets/supermarkets.csv'\n",
    "\n",
    "with open(path, 'r') as file:\n",
    "    rows = csv.reader(file)\n",
    "    read_csv = [i for i in rows]\n",
    "print(read_csv)    \n",
    "        "
   ]
  },
  {
   "cell_type": "code",
   "execution_count": 12,
   "id": "0bd30783",
   "metadata": {},
   "outputs": [
    {
     "data": {
      "text/html": [
       "<div>\n",
       "<style scoped>\n",
       "    .dataframe tbody tr th:only-of-type {\n",
       "        vertical-align: middle;\n",
       "    }\n",
       "\n",
       "    .dataframe tbody tr th {\n",
       "        vertical-align: top;\n",
       "    }\n",
       "\n",
       "    .dataframe thead th {\n",
       "        text-align: right;\n",
       "    }\n",
       "</style>\n",
       "<table border=\"1\" class=\"dataframe\">\n",
       "  <thead>\n",
       "    <tr style=\"text-align: right;\">\n",
       "      <th></th>\n",
       "      <th>ID</th>\n",
       "      <th>Address</th>\n",
       "      <th>City</th>\n",
       "      <th>State</th>\n",
       "      <th>Country</th>\n",
       "      <th>Name</th>\n",
       "      <th>Employees</th>\n",
       "    </tr>\n",
       "  </thead>\n",
       "  <tbody>\n",
       "    <tr>\n",
       "      <th>0</th>\n",
       "      <td>1</td>\n",
       "      <td>3666 21st St</td>\n",
       "      <td>San Francisco</td>\n",
       "      <td>CA 94114</td>\n",
       "      <td>USA</td>\n",
       "      <td>Madeira</td>\n",
       "      <td>8</td>\n",
       "    </tr>\n",
       "    <tr>\n",
       "      <th>1</th>\n",
       "      <td>2</td>\n",
       "      <td>735 Dolores St</td>\n",
       "      <td>San Francisco</td>\n",
       "      <td>CA 94119</td>\n",
       "      <td>USA</td>\n",
       "      <td>Bready Shop</td>\n",
       "      <td>15</td>\n",
       "    </tr>\n",
       "    <tr>\n",
       "      <th>2</th>\n",
       "      <td>3</td>\n",
       "      <td>332 Hill St</td>\n",
       "      <td>San Francisco</td>\n",
       "      <td>California 94114</td>\n",
       "      <td>USA</td>\n",
       "      <td>Super River</td>\n",
       "      <td>25</td>\n",
       "    </tr>\n",
       "    <tr>\n",
       "      <th>3</th>\n",
       "      <td>4</td>\n",
       "      <td>3995 23rd St</td>\n",
       "      <td>San Francisco</td>\n",
       "      <td>CA 94114</td>\n",
       "      <td>USA</td>\n",
       "      <td>Ben's Shop</td>\n",
       "      <td>10</td>\n",
       "    </tr>\n",
       "    <tr>\n",
       "      <th>4</th>\n",
       "      <td>5</td>\n",
       "      <td>1056 Sanchez St</td>\n",
       "      <td>San Francisco</td>\n",
       "      <td>California</td>\n",
       "      <td>USA</td>\n",
       "      <td>Sanchez</td>\n",
       "      <td>12</td>\n",
       "    </tr>\n",
       "    <tr>\n",
       "      <th>5</th>\n",
       "      <td>6</td>\n",
       "      <td>551 Alvarado St</td>\n",
       "      <td>San Francisco</td>\n",
       "      <td>CA 94114</td>\n",
       "      <td>USA</td>\n",
       "      <td>Richvalley</td>\n",
       "      <td>20</td>\n",
       "    </tr>\n",
       "  </tbody>\n",
       "</table>\n",
       "</div>"
      ],
      "text/plain": [
       "   ID          Address           City             State Country         Name  \\\n",
       "0   1     3666 21st St  San Francisco          CA 94114     USA      Madeira   \n",
       "1   2   735 Dolores St  San Francisco          CA 94119     USA  Bready Shop   \n",
       "2   3      332 Hill St  San Francisco  California 94114     USA  Super River   \n",
       "3   4     3995 23rd St  San Francisco          CA 94114     USA   Ben's Shop   \n",
       "4   5  1056 Sanchez St  San Francisco        California     USA      Sanchez   \n",
       "5   6  551 Alvarado St  San Francisco          CA 94114     USA   Richvalley   \n",
       "\n",
       "   Employees  \n",
       "0          8  \n",
       "1         15  \n",
       "2         25  \n",
       "3         10  \n",
       "4         12  \n",
       "5         20  "
      ]
     },
     "execution_count": 12,
     "metadata": {},
     "output_type": "execute_result"
    }
   ],
   "source": [
    "pd.read_csv(path\n",
    "           )"
   ]
  },
  {
   "cell_type": "code",
   "execution_count": null,
   "id": "573a5baf",
   "metadata": {},
   "outputs": [],
   "source": []
  }
 ],
 "metadata": {
  "kernelspec": {
   "display_name": "Python 3 (ipykernel)",
   "language": "python",
   "name": "python3"
  },
  "language_info": {
   "codemirror_mode": {
    "name": "ipython",
    "version": 3
   },
   "file_extension": ".py",
   "mimetype": "text/x-python",
   "name": "python",
   "nbconvert_exporter": "python",
   "pygments_lexer": "ipython3",
   "version": "3.9.12"
  }
 },
 "nbformat": 4,
 "nbformat_minor": 5
}
