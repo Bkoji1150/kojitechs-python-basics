{
 "cells": [
  {
   "cell_type": "markdown",
   "id": "488b02fa",
   "metadata": {},
   "source": [
    "# AWS LAMBDA"
   ]
  },
  {
   "cell_type": "markdown",
   "id": "e8e7db37",
   "metadata": {},
   "source": [
    "### monitoring and feed back loop. visibility (360)"
   ]
  },
  {
   "cell_type": "markdown",
   "id": "9e15e808",
   "metadata": {},
   "source": [
    "### compare, conditional's , stream, call (another aws service) send out a message"
   ]
  },
  {
   "cell_type": "markdown",
   "id": "10a905c7",
   "metadata": {},
   "source": [
    "## 15m\n",
    "### infra provisioning time()"
   ]
  },
  {
   "cell_type": "markdown",
   "id": "a440df80",
   "metadata": {},
   "source": [
    "## serverless, solution provided by aws to road full work load, \n",
    "## it could manual and triggered"
   ]
  },
  {
   "cell_type": "markdown",
   "id": "39df4db3",
   "metadata": {},
   "source": [
    "## aws event( make an api call to lambda), put event, get event, delete"
   ]
  },
  {
   "cell_type": "markdown",
   "id": "10978eb9",
   "metadata": {},
   "source": [
    "## manaully triggered.\n",
    "### specific interval and stop all those instances.(event bridge)\n"
   ]
  },
  {
   "cell_type": "markdown",
   "id": "32d64f78",
   "metadata": {},
   "source": []
  },
  {
   "cell_type": "markdown",
   "id": "b8c98d4c",
   "metadata": {},
   "source": [
    "## what would lambda use to perform any task in aws."
   ]
  },
  {
   "cell_type": "markdown",
   "id": "da3feb1d",
   "metadata": {},
   "source": [
    "### would need service role.\n",
    "### policies. permission( actual   task)\n",
    "### principle of list priviledge"
   ]
  },
  {
   "cell_type": "markdown",
   "id": "f9a892a6",
   "metadata": {},
   "source": [
    "#### serverless( you don't have to worry about any servers. code.)"
   ]
  },
  {
   "cell_type": "code",
   "execution_count": null,
   "id": "520b0445",
   "metadata": {},
   "outputs": [],
   "source": []
  },
  {
   "cell_type": "markdown",
   "id": "1e9535f4",
   "metadata": {},
   "source": [
    "## entry point"
   ]
  },
  {
   "cell_type": "markdown",
   "id": "24c5b89e",
   "metadata": {},
   "source": [
    "api's"
   ]
  },
  {
   "cell_type": "markdown",
   "id": "0fd124e2",
   "metadata": {},
   "source": [
    "## Creating lambda function"
   ]
  },
  {
   "cell_type": "code",
   "execution_count": 2,
   "id": "32ad078b",
   "metadata": {},
   "outputs": [],
   "source": [
    "\n",
    "import boto3\n",
    "\n",
    "resource = boto3.resource(service_name='ec2', region_name='us-east-1')\n",
    "\n",
    "def lambda_handler(event, context):\n",
    "    # calling all our functions\n",
    "    start_instances()\n",
    "    # stop_instances()\n",
    "    list_instances()\n",
    "\n",
    "\n",
    "def list_instances():\n",
    "    response = resource.instances.all()\n",
    "    for each_instance in response:\n",
    "        print(each_instance.instance_id, each_instance.state.get('Name'), each_instance.instance_type)\n",
    "    \n",
    "\n",
    "def stop_instances():\n",
    "    response = resource.instances.all()\n",
    "    for each_instance in response:\n",
    "        print(\"stopping all instances\")\n",
    "        each_instance.stop()\n",
    "        each_instance.wait_until_stopped()\n",
    "        print(\"all instances stopped\")\n",
    "\n",
    "def start_instances():\n",
    "    response = resource.instances.all()\n",
    "    for each_instance in response:\n",
    "        print(\"started all instances\")\n",
    "        each_instance.start()\n",
    "        each_instance.wait_until_running()\n",
    "        print(\"all instances are started\")\n",
    "\n",
    "\n"
   ]
  },
  {
   "cell_type": "code",
   "execution_count": null,
   "id": "60de2e22",
   "metadata": {},
   "outputs": [],
   "source": []
  }
 ],
 "metadata": {
  "kernelspec": {
   "display_name": "Python 3 (ipykernel)",
   "language": "python",
   "name": "python3"
  },
  "language_info": {
   "codemirror_mode": {
    "name": "ipython",
    "version": 3
   },
   "file_extension": ".py",
   "mimetype": "text/x-python",
   "name": "python",
   "nbconvert_exporter": "python",
   "pygments_lexer": "ipython3",
   "version": "3.9.12"
  }
 },
 "nbformat": 4,
 "nbformat_minor": 5
}
