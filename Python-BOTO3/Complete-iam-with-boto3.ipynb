{
 "cells": [
  {
   "cell_type": "code",
   "execution_count": 13,
   "id": "36a9812d",
   "metadata": {},
   "outputs": [],
   "source": [
    "import boto3\n",
    "from botocore.exceptions import ClientError\n",
    "from pprint import pprint\n",
    "import csv\n",
    "from random import choice\n",
    "\n",
    "client = boto3.session.Session(profile_name=\"shared\").client('iam')\n",
    "resource = boto3.session.Session(profile_name=\"shared\").resource('iam')"
   ]
  },
  {
   "cell_type": "code",
   "execution_count": 12,
   "id": "b3c1d66d",
   "metadata": {},
   "outputs": [
    {
     "name": "stdout",
     "output_type": "stream",
     "text": [
      "python None 22/06/22 05:35:16\n"
     ]
    }
   ],
   "source": [
    "\n",
    "def list_users():\n",
    "    \"\"\"Function to list all iam users\n",
    "    \"\"\"\n",
    "    for each_user in resource.users.all():\n",
    "        print(each_user.user_name, each_user.tags, each_user.create_date.strftime(\"%y/%m/%d %H:%M:%S\"))\n",
    "        \n",
    "        \n",
    "list_users()        "
   ]
  },
  {
   "cell_type": "markdown",
   "id": "66dd6066",
   "metadata": {},
   "source": [
    "## Create user with console access."
   ]
  },
  {
   "cell_type": "code",
   "execution_count": 47,
   "id": "18d021c4",
   "metadata": {},
   "outputs": [
    {
     "name": "stdout",
     "output_type": "stream",
     "text": [
      "D41hyDeSDy\n"
     ]
    }
   ],
   "source": [
    "def get_randome_password():\n",
    "    password_len = 10\n",
    "    passwd_li = []\n",
    "    valid_char = 'b1NDDSJDSd3e30f4dcAHSJDJ!@Be4e2a9d4e8b8e3!@5f5219f%$#)9*hwySGSGWHE'\n",
    "    for each_char in range(password_len):\n",
    "        passwd_li.append(choice(valid_char))\n",
    "    return passwd_li\n",
    "    \n",
    "passwd = get_randome_password()\n",
    "random = \"\".join(passwd) \n",
    "print(random)\n"
   ]
  },
  {
   "cell_type": "code",
   "execution_count": null,
   "id": "472dd87f",
   "metadata": {},
   "outputs": [],
   "source": []
  },
  {
   "cell_type": "markdown",
   "id": "c6c9be9d",
   "metadata": {},
   "source": [
    "## reduced version of get_random_password"
   ]
  },
  {
   "cell_type": "code",
   "execution_count": 72,
   "id": "acaa158d",
   "metadata": {},
   "outputs": [
    {
     "name": "stdout",
     "output_type": "stream",
     "text": [
      "94dy*9%J!f\n"
     ]
    }
   ],
   "source": [
    "def get_randome_password_v():\n",
    "    password_len = 10\n",
    "    passwd_li = []\n",
    "    valid_char = 'b1NDDSJDSd3e30f4dcAHSJDJ!@Be4e2a9d4e8b8e3!@5f5219f%$#)9*hwySGSGWHE'\n",
    "    random_passwd =  \"\".join(choice(valid_char) for each_char in range(password_len))\n",
    "    return random_passwd\n",
    "\n",
    "random_password = get_randome_password_v()\n",
    "print(random_password)"
   ]
  },
  {
   "cell_type": "markdown",
   "id": "c8fc84cf",
   "metadata": {},
   "source": [
    "## Let's  create a user with console access"
   ]
  },
  {
   "cell_type": "code",
   "execution_count": 97,
   "id": "b0f39a6f",
   "metadata": {},
   "outputs": [
    {
     "name": "stdout",
     "output_type": "stream",
     "text": [
      "('user_name: python-boto, User_arn: arn:aws:iam::181437319056:user/python-boto '\n",
      " 'User_passwed: )N9ee99!fh')\n"
     ]
    }
   ],
   "source": [
    "# this is jupyter notebook\n",
    "random_password = get_randome_password_v()\n",
    "\n",
    "def create_user(user_name, passwd=None, policy_arn =None, *args):\n",
    "    \"\"\"Creating iam user with console login access\n",
    "    \"\"\"\n",
    "    tag = [{'Key': 'Name','Value': user_name}]\n",
    "    \n",
    "    if passwd is None:\n",
    "        passwd = random_password\n",
    "    if policy_arn is None:\n",
    "        policy_arn = 'arn:aws:iam::aws:policy/AdministratorAccess'\n",
    "    try:\n",
    "        # Create user\n",
    "        user_response = client.create_user(UserName= user_name, Tags= tag) \n",
    "        \n",
    "        # create user login with console access\n",
    "        client.create_login_profile( UserName=user_name,\n",
    "                                    Password=passwd,\n",
    "                                    PasswordResetRequired=False)     \n",
    "        # attach user policy\n",
    "        client.attach_user_policy(UserName=user_name,\n",
    "                                  PolicyArn=policy_arn\n",
    "                                 )\n",
    "    except client.exceptions.EntityAlreadyExistsException:\n",
    "        print(f\"The user {user_name} already exists\\nPlease give another valid name\")\n",
    "    except ClientError as err:\n",
    "        print(err.response)\n",
    "    else:\n",
    "        print(f\"user_name: {user_response['User']['UserName']}, User_arn: {user_response['User']['Arn']} User_passwed: {passwd}\")\n",
    "    \n",
    "    return None    \n",
    "        \n",
    "  \n",
    "\n",
    "        \n",
    "create_user('python-boto') "
   ]
  },
  {
   "cell_type": "code",
   "execution_count": null,
   "id": "8b2970ee",
   "metadata": {},
   "outputs": [],
   "source": []
  },
  {
   "cell_type": "markdown",
   "id": "3a0e23da",
   "metadata": {},
   "source": [
    "## Let's  create a user with console and programatic access and dump info in csv"
   ]
  },
  {
   "cell_type": "code",
   "execution_count": 106,
   "id": "16c587ad",
   "metadata": {},
   "outputs": [
    {
     "name": "stdout",
     "output_type": "stream",
     "text": [
      "The user kojitech already exists\n",
      "Please give another valid name\n"
     ]
    }
   ],
   "source": [
    "random_password = get_randome_password_v()\n",
    "\n",
    "def create_user_access_key(user_name, passwd=None, policy_arn =None, *args):\n",
    "    \"\"\"Creating iam user with console login access\n",
    "    \"\"\"\n",
    "    tag = [{'Key': 'Name','Value': user_name}]\n",
    "    \n",
    "    if passwd is None:\n",
    "        passwd = random_password\n",
    "    if policy_arn is None:\n",
    "        policy_arn = 'arn:aws:iam::aws:policy/AdministratorAccess'\n",
    "    try:\n",
    "        # Create user\n",
    "        user_response = client.create_user(UserName= user_name, Tags= tag) \n",
    "        \n",
    "        # create user login with console access\n",
    "        client.create_login_profile( UserName=user_name,\n",
    "                                    Password=passwd,\n",
    "                                    PasswordResetRequired=False)     \n",
    "        # attach user policy\n",
    "        client.attach_user_policy(UserName=user_name,\n",
    "                                  PolicyArn=policy_arn\n",
    "                                 )\n",
    "        \n",
    "        # create csv hearder\n",
    "        csv_header = [\"UserName\", \"AccessKeys\", \"SecretsKeys\", \"UserArn\", \"Password\"]\n",
    "        # Create access key\n",
    "        accesskey_response = client.create_access_key(UserName= user_name)\n",
    "        \n",
    "        with open(f\"{user_name}.csv\", \"w\",newline='') as file:\n",
    "            csv_writer = csv.writer(file)\n",
    "            # creating my csv hearder\n",
    "            csv_writer.writerow(csv_header)\n",
    "            csv_writer.writerow([user_name,accesskey_response['AccessKey'].get('AccessKeyId'),accesskey_response['AccessKey'].get('SecretAccessKey'),user_response['User']['Arn'],passwd])\n",
    "    \n",
    "    except client.exceptions.EntityAlreadyExistsException:\n",
    "        print(f\"The user {user_name} already exists\\nPlease give another valid name\")\n",
    "    except ClientError as err:\n",
    "        print(err.response)\n",
    "   \n",
    "    return None    \n",
    "        \n",
    "username = \"kojitech\"  \n",
    "\n",
    "create_user_access_key(username)        \n"
   ]
  },
  {
   "cell_type": "code",
   "execution_count": null,
   "id": "c224da88",
   "metadata": {},
   "outputs": [],
   "source": []
  }
 ],
 "metadata": {
  "kernelspec": {
   "display_name": "Python 3 (ipykernel)",
   "language": "python",
   "name": "python3"
  },
  "language_info": {
   "codemirror_mode": {
    "name": "ipython",
    "version": 3
   },
   "file_extension": ".py",
   "mimetype": "text/x-python",
   "name": "python",
   "nbconvert_exporter": "python",
   "pygments_lexer": "ipython3",
   "version": "3.9.12"
  }
 },
 "nbformat": 4,
 "nbformat_minor": 5
}
