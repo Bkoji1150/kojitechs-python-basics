{
 "cells": [
  {
   "cell_type": "code",
   "execution_count": 1,
   "id": "3d0afcce",
   "metadata": {},
   "outputs": [],
   "source": [
    "import boto3\n",
    "from pprint import pprint\n",
    "import time\n",
    "client = boto3.session.Session().client('ec2', 'us-east-1')\n",
    "\n"
   ]
  },
  {
   "cell_type": "code",
   "execution_count": 37,
   "id": "a3bdb55d",
   "metadata": {},
   "outputs": [],
   "source": [
    "\n"
   ]
  },
  {
   "cell_type": "code",
   "execution_count": null,
   "id": "389ab90f",
   "metadata": {},
   "outputs": [],
   "source": [
    "def waiter():\n",
    "    all_id = []\n",
    "    resource = boto3.session.Session(profile_name='sbx').resource('ec2', 'us-east-1')\n",
    "    instances = resource.instances.all()\n",
    "    for instance in instances:\n",
    "        all_id.append(instance.id)   \n",
    "    print(\"start instances...\", all_id)    \n",
    "#     instances.start()\n",
    "#     waiter = client.get_waiter('instance_running')\n",
    "    waiter.wait(InstanceIds= all_id)\n",
    "    print(\"Instances started!!\")         \n",
    "        \n",
    "   \n",
    "\n",
    "waiter()    "
   ]
  },
  {
   "cell_type": "code",
   "execution_count": 11,
   "id": "105e9d9f",
   "metadata": {},
   "outputs": [
    {
     "name": "stdout",
     "output_type": "stream",
     "text": [
      "stopping instances...\n",
      "instance state shows: running\n",
      "instance state shows: running\n",
      "instance state shows: running\n",
      "Instances stopped!!\n"
     ]
    }
   ],
   "source": [
    "def waiter_stop():\n",
    "    resource = boto3.session.Session(profile_name='sbx').resource('ec2', 'us-east-1')\n",
    "    instances = resource.instances.all()\n",
    "    print(\"stopping instances...\")\n",
    "    for instance in instances:\n",
    "        print(f\"instance state shows: {instance.state.get('Name')}\")\n",
    "        instance.stop()\n",
    "        instance.wait_until_stopped()\n",
    "    print(\"Instances stopped!!\")         \n",
    "        \n",
    "   \n",
    "\n",
    "waiter_stop()    \n"
   ]
  },
  {
   "cell_type": "code",
   "execution_count": null,
   "id": "18eb26a2",
   "metadata": {},
   "outputs": [],
   "source": []
  }
 ],
 "metadata": {
  "kernelspec": {
   "display_name": "Python 3 (ipykernel)",
   "language": "python",
   "name": "python3"
  },
  "language_info": {
   "codemirror_mode": {
    "name": "ipython",
    "version": 3
   },
   "file_extension": ".py",
   "mimetype": "text/x-python",
   "name": "python",
   "nbconvert_exporter": "python",
   "pygments_lexer": "ipython3",
   "version": "3.9.12"
  }
 },
 "nbformat": 4,
 "nbformat_minor": 5
}
