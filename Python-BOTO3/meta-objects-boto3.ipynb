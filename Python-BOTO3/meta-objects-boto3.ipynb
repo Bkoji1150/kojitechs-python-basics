{
 "cells": [
  {
   "cell_type": "code",
   "execution_count": 62,
   "id": "0d47323c",
   "metadata": {},
   "outputs": [],
   "source": [
    "import boto3\n",
    "import botocore\n",
    "from pprint import pprint\n",
    "\n",
    "# Create session\n",
    "client = boto3.session.Session(profile_name=\"sbx\").client(service_name='ec2', region_name='us-east-1')\n"
   ]
  },
  {
   "cell_type": "markdown",
   "id": "dbdab702",
   "metadata": {},
   "source": [
    "## We are are looking are meta object in boto3"
   ]
  },
  {
   "cell_type": "raw",
   "id": "c40cc6a1",
   "metadata": {},
   "source": [
    "Using resource object write a function to describe all avaialable regions.\n"
   ]
  },
  {
   "cell_type": "code",
   "execution_count": 15,
   "id": "e77ee83a",
   "metadata": {},
   "outputs": [
    {
     "name": "stdout",
     "output_type": "stream",
     "text": [
      "17 ['eu-north-1', 'ap-south-1', 'eu-west-3', 'eu-west-2', 'eu-west-1', 'ap-northeast-3', 'ap-northeast-2', 'ap-northeast-1', 'sa-east-1', 'ca-central-1', 'ap-southeast-1', 'ap-southeast-2', 'eu-central-1', 'us-east-1', 'us-east-2', 'us-west-1', 'us-west-2']\n"
     ]
    }
   ],
   "source": [
    "def using_meta_boject():\n",
    "    \"\"\"This function is describe all available regions using meta object\n",
    "    Parameter: None\n",
    "    Return: None\n",
    "    \"\"\"\n",
    "    regions = []\n",
    "    resource = boto3.session.Session(profile_name=\"sbx\").resource(service_name='ec2', region_name='us-east-1')\n",
    "    for each_region in resource.meta.client.describe_regions().get('Regions'):\n",
    "        regions.append(each_region['RegionName'])\n",
    "    print(len(regions), regions)  \n",
    "    \n",
    "using_meta_boject()    "
   ]
  },
  {
   "cell_type": "markdown",
   "id": "a37aa5fe",
   "metadata": {},
   "source": [
    "### Working with collections. resource\n"
   ]
  },
  {
   "cell_type": "markdown",
   "id": "e7df3a9d",
   "metadata": {},
   "source": [
    "## using resource object"
   ]
  },
  {
   "cell_type": "code",
   "execution_count": 17,
   "id": "bf1ad326",
   "metadata": {},
   "outputs": [],
   "source": [
    "## we .all(), filter(), limit()\n"
   ]
  },
  {
   "cell_type": "code",
   "execution_count": 59,
   "id": "e25d9ff9",
   "metadata": {},
   "outputs": [
    {
     "name": "stdout",
     "output_type": "stream",
     "text": [
      "['i-051dc527966309583', 'i-02386829b4ff948e7', 'i-06cce8b354391a48e', 'i-0becc932d948071d9', 'i-0944666a8b7b73b54', 'i-00f47179781a6bd19']\n"
     ]
    }
   ],
   "source": [
    "def ec2_instance_id():\n",
    "    ids = []\n",
    "    resource = boto3.session.Session(profile_name=\"shared\").resource(service_name='ec2', region_name='us-east-1')\n",
    "\n",
    "    for all_ids in resource.instances.all():\n",
    "        ids.append(all_ids.id)\n",
    "    return ids    \n",
    "    \n",
    "    \n",
    "ids = ec2_instance_id()  \n",
    "\n",
    "print(ids)"
   ]
  },
  {
   "cell_type": "code",
   "execution_count": 32,
   "id": "833258ff",
   "metadata": {},
   "outputs": [
    {
     "name": "stdout",
     "output_type": "stream",
     "text": [
      "['i-051dc527966309583']\n"
     ]
    }
   ],
   "source": [
    "def ec2_instance_with_limit():\n",
    "    ids = []\n",
    "    resource = boto3.session.Session(profile_name=\"shared\").resource(service_name='ec2', region_name='us-east-1')\n",
    "    for all_ids in resource.instances.limit(1):\n",
    "        ids.append(all_ids.id)\n",
    "    print(ids)    \n",
    "    \n",
    "    \n",
    "    \n",
    "ec2_instance_with_limit()   "
   ]
  },
  {
   "cell_type": "code",
   "execution_count": 38,
   "id": "9349b4c6",
   "metadata": {},
   "outputs": [
    {
     "name": "stdout",
     "output_type": "stream",
     "text": [
      "i-051dc527966309583\n",
      "i-0becc932d948071d9\n"
     ]
    }
   ],
   "source": [
    "def ec2_instance_with_filter():\n",
    "    ids = []\n",
    "    Filter_running = {'Name': 'instance-state-name','Values': ['running']}\n",
    "    resource = boto3.session.Session(profile_name=\"shared\").resource(service_name='ec2', region_name='us-east-1')\n",
    "    for each_instance in resource.instances.filter(Filters=[Filter_running]):\n",
    "        print(each_instance.id)\n",
    "    return None\n",
    "\n",
    "\n",
    "ec2_instance_with_filter()\n",
    "    "
   ]
  },
  {
   "cell_type": "code",
   "execution_count": 41,
   "id": "5a187ca1",
   "metadata": {},
   "outputs": [
    {
     "name": "stdout",
     "output_type": "stream",
     "text": [
      "i-02386829b4ff948e7\n",
      "i-06cce8b354391a48e\n",
      "i-0becc932d948071d9\n"
     ]
    }
   ],
   "source": [
    "def ec2_instance_with_filter_tags():\n",
    "    ids = []\n",
    "    Filter_tags = {'Name': 'tag:Name','Values': ['python-boto3']}\n",
    "    resource = boto3.session.Session(profile_name=\"shared\").resource(service_name='ec2', region_name='us-east-1')\n",
    "    for each_instance in resource.instances.filter(Filters=[Filter_tags]):\n",
    "        print(each_instance.id)\n",
    "    \n",
    "    return None\n",
    "\n",
    "\n",
    "ec2_instance_with_filter_tags()"
   ]
  },
  {
   "cell_type": "markdown",
   "id": "67b4fa4f",
   "metadata": {},
   "source": [
    "## Using Waiters  to stop all instance  "
   ]
  },
  {
   "cell_type": "code",
   "execution_count": 52,
   "id": "309e1335",
   "metadata": {},
   "outputs": [
    {
     "name": "stdout",
     "output_type": "stream",
     "text": [
      "stopping all instances....\n",
      "all instances stopped!!...\n"
     ]
    }
   ],
   "source": [
    "def stop_all_instance():\n",
    "    \"\"\"Using resource object to stop all instances. \n",
    "    Parameter: None\n",
    "    Return: None\n",
    "    \"\"\"\n",
    "    client = boto3.session.Session(profile_name=\"shared\").client(service_name='ec2', region_name='us-east-1')\n",
    "    \n",
    "    # creating waiter\n",
    "    waiter = client.get_waiter('instance_stopped')\n",
    "    resource = boto3.session.Session(profile_name=\"shared\").resource(service_name='ec2', region_name='us-east-1')\n",
    "    print(\"stopping all instances....\")\n",
    "    resource.instances.stop()\n",
    "    waiter.wait(InstanceIds=ids)\n",
    "    print(\"all instances stopped!!...\")\n",
    "  \n",
    "stop_all_instance()\n",
    "    \n",
    "    \n",
    "    "
   ]
  },
  {
   "cell_type": "markdown",
   "id": "e4842796",
   "metadata": {},
   "source": [
    "## Using Waiters to start all instance"
   ]
  },
  {
   "cell_type": "code",
   "execution_count": 55,
   "id": "1351d8e5",
   "metadata": {},
   "outputs": [
    {
     "name": "stdout",
     "output_type": "stream",
     "text": [
      "starting all instances....\n",
      "all instances running!!...\n"
     ]
    }
   ],
   "source": [
    " def start_all_instance():\n",
    "   \"\"\"Using resource object to start all instances. \n",
    "    Parameter: None\n",
    "    Return: None\n",
    "    \"\"\"\n",
    "    client = boto3.session.Session(profile_name=\"shared\").client(service_name='ec2', region_name='us-east-1')\n",
    "    \n",
    "    # creating waiter\n",
    "    waiter = client.get_waiter('instance_running')\n",
    "    resource = boto3.session.Session(profile_name=\"shared\").resource(service_name='ec2', region_name='us-east-1')\n",
    "    print(\"starting all instances....\")\n",
    "    resource.instances.start()\n",
    "    waiter.wait(InstanceIds=ids)\n",
    "    print(\"all instances running!!...\")\n",
    "  \n",
    "start_all_instance()"
   ]
  },
  {
   "cell_type": "markdown",
   "id": "02243e92",
   "metadata": {},
   "source": [
    "### Using Waiters to terminate all instance"
   ]
  },
  {
   "cell_type": "code",
   "execution_count": 58,
   "id": "3bee99d4",
   "metadata": {},
   "outputs": [],
   "source": [
    "def terminate_all_instances():\n",
    "    \"\"\"Using resource object to terminate all instances. \n",
    "    Parameter: None\n",
    "    Return: None\n",
    "    \"\"\"\n",
    "    client = boto3.session.Session(profile_name=\"shared\").client(service_name='ec2', region_name='us-east-1')\n",
    "    \n",
    "    # creating waiter\n",
    "    waiter = client.get_waiter('instance_terminated')\n",
    "    resource = boto3.session.Session(profile_name=\"shared\").resource(service_name='ec2', region_name='us-east-1')\n",
    "    print(\"terminating all instances....\")\n",
    "    resource.instances.terminate()\n",
    "    waiter.wait(InstanceIds=ids)\n",
    "    print(\"all instances terminated\")\n",
    "  \n"
   ]
  },
  {
   "cell_type": "code",
   "execution_count": 60,
   "id": "69b67e54",
   "metadata": {},
   "outputs": [
    {
     "name": "stdout",
     "output_type": "stream",
     "text": [
      "stopping all instances....\n"
     ]
    },
    {
     "ename": "ClientError",
     "evalue": "An error occurred (IncorrectInstanceState) when calling the StopInstances operation: This instance 'i-0becc932d948071d9' is not in a state from which it can be stopped.",
     "output_type": "error",
     "traceback": [
      "\u001b[0;31m---------------------------------------------------------------------------\u001b[0m",
      "\u001b[0;31mClientError\u001b[0m                               Traceback (most recent call last)",
      "Input \u001b[0;32mIn [60]\u001b[0m, in \u001b[0;36m<cell line: 1>\u001b[0;34m()\u001b[0m\n\u001b[0;32m----> 1\u001b[0m \u001b[43mstop_all_instance\u001b[49m\u001b[43m(\u001b[49m\u001b[43m)\u001b[49m\n",
      "Input \u001b[0;32mIn [52]\u001b[0m, in \u001b[0;36mstop_all_instance\u001b[0;34m()\u001b[0m\n\u001b[1;32m     10\u001b[0m resource \u001b[38;5;241m=\u001b[39m boto3\u001b[38;5;241m.\u001b[39msession\u001b[38;5;241m.\u001b[39mSession(profile_name\u001b[38;5;241m=\u001b[39m\u001b[38;5;124m\"\u001b[39m\u001b[38;5;124mshared\u001b[39m\u001b[38;5;124m\"\u001b[39m)\u001b[38;5;241m.\u001b[39mresource(service_name\u001b[38;5;241m=\u001b[39m\u001b[38;5;124m'\u001b[39m\u001b[38;5;124mec2\u001b[39m\u001b[38;5;124m'\u001b[39m, region_name\u001b[38;5;241m=\u001b[39m\u001b[38;5;124m'\u001b[39m\u001b[38;5;124mus-east-1\u001b[39m\u001b[38;5;124m'\u001b[39m)\n\u001b[1;32m     11\u001b[0m \u001b[38;5;28mprint\u001b[39m(\u001b[38;5;124m\"\u001b[39m\u001b[38;5;124mstopping all instances....\u001b[39m\u001b[38;5;124m\"\u001b[39m)\n\u001b[0;32m---> 12\u001b[0m \u001b[43mresource\u001b[49m\u001b[38;5;241;43m.\u001b[39;49m\u001b[43minstances\u001b[49m\u001b[38;5;241;43m.\u001b[39;49m\u001b[43mstop\u001b[49m\u001b[43m(\u001b[49m\u001b[43m)\u001b[49m\n\u001b[1;32m     13\u001b[0m waiter\u001b[38;5;241m.\u001b[39mwait(InstanceIds\u001b[38;5;241m=\u001b[39mids)\n\u001b[1;32m     14\u001b[0m \u001b[38;5;28mprint\u001b[39m(\u001b[38;5;124m\"\u001b[39m\u001b[38;5;124mall instances stopped!!...\u001b[39m\u001b[38;5;124m\"\u001b[39m)\n",
      "File \u001b[0;32m~/opt/anaconda3/lib/python3.9/site-packages/boto3/resources/collection.py:561\u001b[0m, in \u001b[0;36mCollectionFactory._create_batch_action.<locals>.batch_action\u001b[0;34m(self, *args, **kwargs)\u001b[0m\n\u001b[1;32m    560\u001b[0m \u001b[38;5;28;01mdef\u001b[39;00m \u001b[38;5;21mbatch_action\u001b[39m(\u001b[38;5;28mself\u001b[39m, \u001b[38;5;241m*\u001b[39margs, \u001b[38;5;241m*\u001b[39m\u001b[38;5;241m*\u001b[39mkwargs):\n\u001b[0;32m--> 561\u001b[0m     \u001b[38;5;28;01mreturn\u001b[39;00m \u001b[43maction\u001b[49m\u001b[43m(\u001b[49m\u001b[38;5;28;43mself\u001b[39;49m\u001b[43m,\u001b[49m\u001b[43m \u001b[49m\u001b[38;5;241;43m*\u001b[39;49m\u001b[43margs\u001b[49m\u001b[43m,\u001b[49m\u001b[43m \u001b[49m\u001b[38;5;241;43m*\u001b[39;49m\u001b[38;5;241;43m*\u001b[39;49m\u001b[43mkwargs\u001b[49m\u001b[43m)\u001b[49m\n",
      "File \u001b[0;32m~/opt/anaconda3/lib/python3.9/site-packages/boto3/resources/action.py:162\u001b[0m, in \u001b[0;36mBatchAction.__call__\u001b[0;34m(self, parent, *args, **kwargs)\u001b[0m\n\u001b[1;32m    156\u001b[0m params\u001b[38;5;241m.\u001b[39mupdate(kwargs)\n\u001b[1;32m    158\u001b[0m logger\u001b[38;5;241m.\u001b[39mdebug(\n\u001b[1;32m    159\u001b[0m     \u001b[38;5;124m'\u001b[39m\u001b[38;5;124mCalling \u001b[39m\u001b[38;5;132;01m%s\u001b[39;00m\u001b[38;5;124m:\u001b[39m\u001b[38;5;132;01m%s\u001b[39;00m\u001b[38;5;124m with \u001b[39m\u001b[38;5;132;01m%r\u001b[39;00m\u001b[38;5;124m'\u001b[39m, service_name, operation_name, params\n\u001b[1;32m    160\u001b[0m )\n\u001b[0;32m--> 162\u001b[0m response \u001b[38;5;241m=\u001b[39m \u001b[38;5;28;43mgetattr\u001b[39;49m\u001b[43m(\u001b[49m\u001b[43mclient\u001b[49m\u001b[43m,\u001b[49m\u001b[43m \u001b[49m\u001b[43moperation_name\u001b[49m\u001b[43m)\u001b[49m\u001b[43m(\u001b[49m\u001b[38;5;241;43m*\u001b[39;49m\u001b[43margs\u001b[49m\u001b[43m,\u001b[49m\u001b[43m \u001b[49m\u001b[38;5;241;43m*\u001b[39;49m\u001b[38;5;241;43m*\u001b[39;49m\u001b[43mparams\u001b[49m\u001b[43m)\u001b[49m\n\u001b[1;32m    164\u001b[0m logger\u001b[38;5;241m.\u001b[39mdebug(\u001b[38;5;124m'\u001b[39m\u001b[38;5;124mResponse: \u001b[39m\u001b[38;5;132;01m%r\u001b[39;00m\u001b[38;5;124m'\u001b[39m, response)\n\u001b[1;32m    166\u001b[0m responses\u001b[38;5;241m.\u001b[39mappend(\u001b[38;5;28mself\u001b[39m\u001b[38;5;241m.\u001b[39m_response_handler(parent, params, response))\n",
      "File \u001b[0;32m~/opt/anaconda3/lib/python3.9/site-packages/botocore/client.py:401\u001b[0m, in \u001b[0;36mClientCreator._create_api_method.<locals>._api_call\u001b[0;34m(self, *args, **kwargs)\u001b[0m\n\u001b[1;32m    398\u001b[0m     \u001b[38;5;28;01mraise\u001b[39;00m \u001b[38;5;167;01mTypeError\u001b[39;00m(\n\u001b[1;32m    399\u001b[0m         \u001b[38;5;124m\"\u001b[39m\u001b[38;5;132;01m%s\u001b[39;00m\u001b[38;5;124m() only accepts keyword arguments.\u001b[39m\u001b[38;5;124m\"\u001b[39m \u001b[38;5;241m%\u001b[39m py_operation_name)\n\u001b[1;32m    400\u001b[0m \u001b[38;5;66;03m# The \"self\" in this scope is referring to the BaseClient.\u001b[39;00m\n\u001b[0;32m--> 401\u001b[0m \u001b[38;5;28;01mreturn\u001b[39;00m \u001b[38;5;28;43mself\u001b[39;49m\u001b[38;5;241;43m.\u001b[39;49m\u001b[43m_make_api_call\u001b[49m\u001b[43m(\u001b[49m\u001b[43moperation_name\u001b[49m\u001b[43m,\u001b[49m\u001b[43m \u001b[49m\u001b[43mkwargs\u001b[49m\u001b[43m)\u001b[49m\n",
      "File \u001b[0;32m~/opt/anaconda3/lib/python3.9/site-packages/botocore/client.py:731\u001b[0m, in \u001b[0;36mBaseClient._make_api_call\u001b[0;34m(self, operation_name, api_params)\u001b[0m\n\u001b[1;32m    729\u001b[0m     error_code \u001b[38;5;241m=\u001b[39m parsed_response\u001b[38;5;241m.\u001b[39mget(\u001b[38;5;124m\"\u001b[39m\u001b[38;5;124mError\u001b[39m\u001b[38;5;124m\"\u001b[39m, {})\u001b[38;5;241m.\u001b[39mget(\u001b[38;5;124m\"\u001b[39m\u001b[38;5;124mCode\u001b[39m\u001b[38;5;124m\"\u001b[39m)\n\u001b[1;32m    730\u001b[0m     error_class \u001b[38;5;241m=\u001b[39m \u001b[38;5;28mself\u001b[39m\u001b[38;5;241m.\u001b[39mexceptions\u001b[38;5;241m.\u001b[39mfrom_code(error_code)\n\u001b[0;32m--> 731\u001b[0m     \u001b[38;5;28;01mraise\u001b[39;00m error_class(parsed_response, operation_name)\n\u001b[1;32m    732\u001b[0m \u001b[38;5;28;01melse\u001b[39;00m:\n\u001b[1;32m    733\u001b[0m     \u001b[38;5;28;01mreturn\u001b[39;00m parsed_response\n",
      "\u001b[0;31mClientError\u001b[0m: An error occurred (IncorrectInstanceState) when calling the StopInstances operation: This instance 'i-0becc932d948071d9' is not in a state from which it can be stopped."
     ]
    }
   ],
   "source": [
    "stop_all_instance()"
   ]
  },
  {
   "cell_type": "markdown",
   "id": "c7fea419",
   "metadata": {},
   "source": [
    "## To resolve the above wahala we need to use try and and except block( botocore)\n"
   ]
  },
  {
   "cell_type": "code",
   "execution_count": 91,
   "id": "7ad6427c",
   "metadata": {},
   "outputs": [
    {
     "name": "stdout",
     "output_type": "stream",
     "text": [
      "stopping all instances....\n",
      "Ooops, could not be stopped at this time\n"
     ]
    }
   ],
   "source": [
    "def botocore_exceptions():\n",
    "    \"\"\"Using resource object to stop all instances. \n",
    "    Parameter: None\n",
    "    Return: None\n",
    "    \"\"\"\n",
    "    try:\n",
    "        client = boto3.session.Session(profile_name=\"shared\").client(service_name='ec2', region_name='us-east-1')\n",
    "        waiter = client.get_waiter('instance_stopped')\n",
    "        resource = boto3.session.Session(profile_name=\"shared\").resource(service_name='ec2', region_name='us-east-1')\n",
    "        print(\"stopping all instances....\")\n",
    "        resource.instances.stop()\n",
    "        waiter.wait(InstanceIds=ids)\n",
    "        print(\"all instances stopped!!...\")\n",
    "    except botocore.exceptions.ClientError as err:\n",
    "        if err.response['Error']['Code'] == 'IncorrectInstanceState':\n",
    "            print(\"Ooops, could not be stopped at this time\")\n",
    "        else:\n",
    "            print(err.response['Error']['Code'])\n",
    "    except botocore.exceptions.UnknownServiceError as err:\n",
    "        print(\"Sorry invalid service\")\n",
    "    except Exception as e:\n",
    "        print(e)\n",
    "  \n",
    "botocore_exceptions()\n",
    "    "
   ]
  },
  {
   "cell_type": "code",
   "execution_count": null,
   "id": "657717e7",
   "metadata": {},
   "outputs": [],
   "source": []
  },
  {
   "cell_type": "code",
   "execution_count": null,
   "id": "e31cac5e",
   "metadata": {},
   "outputs": [],
   "source": []
  },
  {
   "cell_type": "code",
   "execution_count": null,
   "id": "1231ae5b",
   "metadata": {},
   "outputs": [],
   "source": []
  }
 ],
 "metadata": {
  "kernelspec": {
   "display_name": "Python 3 (ipykernel)",
   "language": "python",
   "name": "python3"
  },
  "language_info": {
   "codemirror_mode": {
    "name": "ipython",
    "version": 3
   },
   "file_extension": ".py",
   "mimetype": "text/x-python",
   "name": "python",
   "nbconvert_exporter": "python",
   "pygments_lexer": "ipython3",
   "version": "3.9.12"
  }
 },
 "nbformat": 4,
 "nbformat_minor": 5
}
