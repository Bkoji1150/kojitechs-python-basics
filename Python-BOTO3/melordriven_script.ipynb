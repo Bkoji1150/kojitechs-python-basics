{
 "cells": [
  {
   "cell_type": "code",
   "execution_count": 28,
   "id": "e22e30d6",
   "metadata": {},
   "outputs": [],
   "source": [
    "import boto3\n",
    "import sys\n",
    "import time\n",
    "\n",
    "session = boto3.session.Session()\n",
    "client = session.client('ec2', 'us-east-1')\n",
    "resource = session.resource('ec2', 'us-east-1')"
   ]
  },
  {
   "cell_type": "code",
   "execution_count": 22,
   "id": "721ffaaf",
   "metadata": {},
   "outputs": [],
   "source": [
    "\n",
    "def describe_instance_re():\n",
    "    \"\"\"This function list All instance using Resource object. \n",
    "    Parameter: None\n",
    "    Return: None\n",
    "    \"\"\"\n",
    "    instance_ids = []\n",
    "    reource = session.resource('ec2', region_name='us-east-1')\n",
    "    instances = reource.instances.all()\n",
    "    for instance in instances:\n",
    "        instance_ids.append(instance.id)\n",
    "    return instance_ids    \n",
    "        \n",
    "instance_id = describe_instance_re()  \n",
    "   "
   ]
  },
  {
   "cell_type": "code",
   "execution_count": null,
   "id": "f49b8db1",
   "metadata": {},
   "outputs": [
    {
     "name": "stdout",
     "output_type": "stream",
     "text": [
      "This script peforms the following actions on ec2 instance.\n",
      "\n",
      "        1. start\n",
      "        2. stop\n",
      "        3. terminate\n",
      "        4. Exit\n",
      "    \n",
      "Enter your option3\n",
      "Terminating instance\n"
     ]
    }
   ],
   "source": [
    "\n",
    "def melo_driven_script():\n",
    "    \"\"\"This function is to perform actions like terminate, stop, start, and exit bases on user's request\n",
    "    Paremeter: opt(int)\n",
    "    return: None\n",
    "    \"\"\"\n",
    "    client = session.client('ec2', 'us-east-1')\n",
    "    print(\"This script peforms the following actions on ec2 instance.\")\n",
    "    print(\"\"\"\n",
    "        1. start\n",
    "        2. stop\n",
    "        3. terminate\n",
    "        4. Exit\n",
    "    \"\"\")\n",
    "    opt = int(input(\"Enter your option\"))\n",
    "    if opt == 1:\n",
    "        print(\"Starting ec2 instance.....\")\n",
    "        client.start_instances(InstanceIds=instance_id)\n",
    "        time.sleep(20)\n",
    "        print(\"instances started!!\")\n",
    "    elif opt == 2:\n",
    "        print(\"stopping ec2 instance...\")\n",
    "        client.stop_instances(InstanceIds=instance_id)\n",
    "        time.sleep(20)\n",
    "        print(\"instances stopped!\")\n",
    "    elif opt == 3:\n",
    "        print(\"Terminating instance...\")\n",
    "        client.terminate_instances(InstanceIds=instance_id)\n",
    "        time.sleep(60)\n",
    "        print(\"Instance terminated\")\n",
    "    elif opt == 4:\n",
    "        print(\"exiting your script\")\n",
    "        #sys.exit()      \n",
    "    else:\n",
    "        print(f\"{opt} is invalid. please a valid option and try once again.\")\n",
    "    return None           \n",
    "    \n",
    "    \n",
    "melo_driven_script()\n",
    "    "
   ]
  },
  {
   "cell_type": "code",
   "execution_count": null,
   "id": "8e78802b",
   "metadata": {},
   "outputs": [],
   "source": []
  },
  {
   "cell_type": "code",
   "execution_count": null,
   "id": "5602692c",
   "metadata": {},
   "outputs": [],
   "source": []
  },
  {
   "cell_type": "code",
   "execution_count": null,
   "id": "6a18a067",
   "metadata": {},
   "outputs": [],
   "source": []
  },
  {
   "cell_type": "code",
   "execution_count": null,
   "id": "5989a2b0",
   "metadata": {},
   "outputs": [],
   "source": []
  }
 ],
 "metadata": {
  "kernelspec": {
   "display_name": "Python 3 (ipykernel)",
   "language": "python",
   "name": "python3"
  },
  "language_info": {
   "codemirror_mode": {
    "name": "ipython",
    "version": 3
   },
   "file_extension": ".py",
   "mimetype": "text/x-python",
   "name": "python",
   "nbconvert_exporter": "python",
   "pygments_lexer": "ipython3",
   "version": "3.9.12"
  }
 },
 "nbformat": 4,
 "nbformat_minor": 5
}
