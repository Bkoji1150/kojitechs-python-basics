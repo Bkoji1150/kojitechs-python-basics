{
 "cells": [
  {
   "cell_type": "markdown",
   "id": "937fd429",
   "metadata": {},
   "source": [
    "## Python boto3"
   ]
  },
  {
   "cell_type": "markdown",
   "id": "b6de38e7",
   "metadata": {},
   "source": [
    "#### install boto3\n",
    "### pip install boto3\n",
    "### import boto3"
   ]
  },
  {
   "cell_type": "code",
   "execution_count": 78,
   "id": "b91650b0",
   "metadata": {},
   "outputs": [],
   "source": [
    "import boto3\n",
    "\n",
    "from botocore.exceptions import ClientError\n",
    "from pprint import pprint"
   ]
  },
  {
   "cell_type": "markdown",
   "id": "8135684c",
   "metadata": {},
   "source": [
    "## How to create a session with boto3"
   ]
  },
  {
   "cell_type": "code",
   "execution_count": 5,
   "id": "4f75eb86",
   "metadata": {},
   "outputs": [],
   "source": [
    "# Creating a session\n",
    "session = boto3.session.Session()\n",
    "# if you are using a default profile. keep Session parathesis empty. \n",
    "\n"
   ]
  },
  {
   "cell_type": "markdown",
   "id": "36d245f3",
   "metadata": {},
   "source": [
    "## How to create client object"
   ]
  },
  {
   "cell_type": "code",
   "execution_count": 82,
   "id": "d0d0ccf1",
   "metadata": {
    "scrolled": true
   },
   "outputs": [
    {
     "name": "stdout",
     "output_type": "stream",
     "text": [
      "dynamo-to-lambda-csv\n",
      "ecs.terraform.cluster.terraform\n",
      "ecs.terraform.hsyetgeghduej\n",
      "ecs.working.cluster.terraform\n",
      "elasticbeanstalk-us-east-1-735972722491\n",
      "hap23bdv-bucket\n",
      "hqr.common.database.module.kojitechs.tf\n",
      "kojibello.com\n",
      "kojitechs.python.buckets\n",
      "operational.vpc.tf.kojitechs\n",
      "perfect-ec2-kojitechs-registrationapps-tf\n",
      "perfect-operational-environment-network-tf\n",
      "perfectobabe.com\n",
      "registration-app-with-end-end-tf\n",
      "s3.bucket.dynamo.kojitechs\n",
      "state.buckects.contents\n",
      "state.tf.aws.ec2cluster.instance\n",
      "state.tf.aws.rdscluster.kojitechs\n",
      "state.tf.aws.rdscluster.mysqlaurora.kojitechs\n",
      "state.tf.data-pipeline.migration.kojitechs\n",
      "vpc.peering.tf.kojitechs\n"
     ]
    }
   ],
   "source": [
    "client = session.client(service_name='s3', region_name='us-east-1')\n",
    "\n",
    "def list_buckets_using_client():\n",
    "    try:\n",
    "        response = client.list_buckets()['Buckets']\n",
    "        for bucket in response:\n",
    "            print(bucket.get('Name'))\n",
    "    except ClientError as e:\n",
    "        print(e)\n",
    " \n",
    "list_buckets_using_client()\n",
    "\n"
   ]
  },
  {
   "cell_type": "markdown",
   "id": "d545fc34",
   "metadata": {},
   "source": [
    "### Create resource object using boto3"
   ]
  },
  {
   "cell_type": "code",
   "execution_count": 76,
   "id": "50814598",
   "metadata": {},
   "outputs": [],
   "source": [
    "resource = session.resource('s3')\n",
    "\n"
   ]
  },
  {
   "cell_type": "markdown",
   "id": "24783fa1",
   "metadata": {},
   "source": [
    "## Using client object to list buckets "
   ]
  },
  {
   "cell_type": "code",
   "execution_count": 74,
   "id": "8dcdbb1e",
   "metadata": {},
   "outputs": [
    {
     "name": "stdout",
     "output_type": "stream",
     "text": [
      "dynamo-to-lambda-csv\n",
      "ecs.terraform.cluster.terraform\n",
      "ecs.terraform.hsyetgeghduej\n",
      "ecs.working.cluster.terraform\n",
      "elasticbeanstalk-us-east-1-735972722491\n",
      "hap23bdv-bucket\n",
      "hqr.common.database.module.kojitechs.tf\n",
      "kojibello.com\n",
      "kojitechs.python.buckets\n",
      "operational.vpc.tf.kojitechs\n",
      "perfect-ec2-kojitechs-registrationapps-tf\n",
      "perfect-operational-environment-network-tf\n",
      "perfectobabe.com\n",
      "registration-app-with-end-end-tf\n",
      "s3.bucket.dynamo.kojitechs\n",
      "state.buckects.contents\n",
      "state.tf.aws.ec2cluster.instance\n",
      "state.tf.aws.rdscluster.kojitechs\n",
      "state.tf.aws.rdscluster.mysqlaurora.kojitechs\n",
      "state.tf.data-pipeline.migration.kojitechs\n",
      "vpc.peering.tf.kojitechs\n"
     ]
    }
   ],
   "source": [
    "def list_bucket_with_resource():\n",
    "    s3 = boto3.resource('s3')\n",
    "    buckets = s3.buckets.all()\n",
    "    for bucket in buckets:\n",
    "        print(bucket.name)\n",
    "    \n",
    "list_bucket_with_resource()    "
   ]
  },
  {
   "cell_type": "markdown",
   "id": "03525770",
   "metadata": {},
   "source": [
    "#### We are writing a function that would create s3 bucket using client object and resource object."
   ]
  },
  {
   "cell_type": "code",
   "execution_count": 52,
   "id": "3a8308b3",
   "metadata": {},
   "outputs": [],
   "source": [
    "def create_bucket_client(bucket_name):\n",
    "    \"\"\"Using client object to create an s3 bucket. \n",
    "    Parameter: bucket_name\n",
    "    Return: \n",
    "    None\n",
    "    \"\"\"\n",
    "    try:\n",
    "        response = client.create_bucket(\n",
    "        ACL='private',\n",
    "        Bucket=bucket_name\n",
    "        )\n",
    "    except Exception as e:\n",
    "        print(e)\n",
    "\n",
    "       \n",
    "create_bucket_client(\"ecs.terraform.hsyetgeghduej\")    \n",
    "    \n",
    "    \n",
    "    "
   ]
  },
  {
   "cell_type": "markdown",
   "id": "edcacf71",
   "metadata": {},
   "source": [
    "### We are now creating a bucket using resource object. "
   ]
  },
  {
   "cell_type": "code",
   "execution_count": null,
   "id": "26bd2928",
   "metadata": {},
   "outputs": [],
   "source": [
    "def create_bucket_resource():\n",
    "    \"\"\"Using client object to create an s3 bucket. \n",
    "    Parameter: bucket_name\n",
    "    Return: \n",
    "    None\n",
    "    \"\"\"\n",
    "    try:\n",
    "        resource.create_bucket(\n",
    "        Bucket='dynamo-to-lambda-csv'\n",
    "        )   \n",
    "    except resource.meta.client.exceptions.BucketAlreadyExists as err:\n",
    "        print(\"Bucket {} already exists!\".format(err.response['Error']['BucketName']))\n",
    "        raise err\n",
    "\n",
    "        \n",
    "create_bucket_resource()        \n",
    "        \n",
    "    "
   ]
  },
  {
   "cell_type": "markdown",
   "id": "96be07c4",
   "metadata": {},
   "source": [
    "## Using resource to list buckets"
   ]
  },
  {
   "cell_type": "code",
   "execution_count": null,
   "id": "756d891c",
   "metadata": {},
   "outputs": [],
   "source": []
  }
 ],
 "metadata": {
  "kernelspec": {
   "display_name": "Python 3 (ipykernel)",
   "language": "python",
   "name": "python3"
  },
  "language_info": {
   "codemirror_mode": {
    "name": "ipython",
    "version": 3
   },
   "file_extension": ".py",
   "mimetype": "text/x-python",
   "name": "python",
   "nbconvert_exporter": "python",
   "pygments_lexer": "ipython3",
   "version": "3.9.12"
  }
 },
 "nbformat": 4,
 "nbformat_minor": 5
}
