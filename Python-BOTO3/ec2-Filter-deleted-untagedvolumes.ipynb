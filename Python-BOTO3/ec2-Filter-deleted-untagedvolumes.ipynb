{
 "cells": [
  {
   "cell_type": "code",
   "execution_count": 1,
   "id": "7465295b",
   "metadata": {},
   "outputs": [],
   "source": [
    "import boto3\n",
    "from botocore.exceptions import ClientError\n",
    "from pprint import pprint\n",
    "\n",
    "\n",
    "client = boto3.session.Session().client(service_name='ec2', region_name='us-east-1')\n",
    "ec2 = boto3.session.Session().resource(service_name='ec2', region_name='us-east-1')"
   ]
  },
  {
   "cell_type": "markdown",
   "id": "0eaee6a3",
   "metadata": {},
   "source": [
    "## all(), filter(), limit().\n"
   ]
  },
  {
   "cell_type": "code",
   "execution_count": 40,
   "id": "5a00d859",
   "metadata": {},
   "outputs": [
    {
     "name": "stdout",
     "output_type": "stream",
     "text": [
      "['i-00e7be8a1d6c3cef5', 'i-02c205679c1a557e0', 'i-08804f2522f76b79f']\n"
     ]
    }
   ],
   "source": [
    "def list_all_ec2_ids():\n",
    "    \"\"\"This function list all instance ids\n",
    "    \"\"\"\n",
    "#     ids = []\n",
    "#     for each_inst in ec2.instances.all():\n",
    "#         ids.append(each_inst.instance_id)  \n",
    "#     print(ids)\n",
    "         \n",
    "    each_int = [each_int.instance_id for each_int in ec2.instances.all()]\n",
    "    return each_int    \n",
    "    \n",
    "    \n",
    "instances_ids = list_all_ec2_ids()   \n",
    "print(instances_ids)    \n",
    "    \n",
    "    "
   ]
  },
  {
   "cell_type": "markdown",
   "id": "d34e756c",
   "metadata": {},
   "source": [
    "## Using filter method without resource"
   ]
  },
  {
   "cell_type": "code",
   "execution_count": 34,
   "id": "943d4e17",
   "metadata": {},
   "outputs": [
    {
     "name": "stdout",
     "output_type": "stream",
     "text": [
      "python-boto3 running i-08fd4c5f95560e57a\n",
      "python-boto3 running i-00e64ff81b325efb6\n"
     ]
    }
   ],
   "source": [
    "def ec2_instance_with_filter_state():\n",
    "    \"\"\"Get just instances that are running\n",
    "    \"\"\"\n",
    "    filter_running = {\"Name\": \"instance-state-name\", \"Values\": [\"running\"]}\n",
    "    response = ec2.instances.filter(\n",
    "        Filters=[filter_running]\n",
    "    )\n",
    "    for each_int in response:\n",
    "        for each_tags in each_int.tags:\n",
    "            print(each_tags['Value'], each_int.state.get('Name'), each_int.instance_id)\n",
    "    return None\n",
    "    \n",
    "ec2_instance_with_filter_state()\n"
   ]
  },
  {
   "cell_type": "markdown",
   "id": "a2f75532",
   "metadata": {},
   "source": [
    "## Filter based on tags"
   ]
  },
  {
   "cell_type": "code",
   "execution_count": 49,
   "id": "8e1a8850",
   "metadata": {},
   "outputs": [
    {
     "name": "stdout",
     "output_type": "stream",
     "text": [
      "i-08fd4c5f95560e57a running\n",
      "i-00e64ff81b325efb6 running\n"
     ]
    }
   ],
   "source": [
    "\n",
    "def get_instance_in_prod():\n",
    "    \"\"\"Get just instances based on env\n",
    "    \"\"\"\n",
    "    filter_prod = {'Name': 'tag:Name','Values': ['prod']}\n",
    "#     filter_i = {'Name': 'tag:ado','Values': ['ec2']}\n",
    "    response = ec2.instances.filter(Filters=[filter_prod])\n",
    "    for each_instance in response:\n",
    "        print(each_instance.instance_id, each_instance.state.get('Name'))\n",
    "    \n",
    "    return None\n",
    "\n",
    "get_instance_in_prod()\n",
    "    \n",
    "    "
   ]
  },
  {
   "cell_type": "markdown",
   "id": "5fad5049",
   "metadata": {},
   "source": [
    "## Using waiter object"
   ]
  },
  {
   "cell_type": "code",
   "execution_count": 57,
   "id": "301aed79",
   "metadata": {},
   "outputs": [
    {
     "name": "stdout",
     "output_type": "stream",
     "text": [
      "stopping all instances...!\n",
      "all instances stopped!\n"
     ]
    }
   ],
   "source": [
    "def stop_all_instances():\n",
    "    \"\"\"Using rescource to stop all instances\n",
    "    \"\"\"\n",
    "    print(\"stopping all instances...!\")\n",
    "    ec2.instances.stop()\n",
    "    print(\"all instances stopped!\")\n",
    "    \n",
    "       \n",
    "stop_all_instances()    "
   ]
  },
  {
   "cell_type": "markdown",
   "id": "1afba819",
   "metadata": {},
   "source": [
    "## To provent the behaviour above let's look at waiter object in boto3"
   ]
  },
  {
   "cell_type": "code",
   "execution_count": 70,
   "id": "894408bf",
   "metadata": {},
   "outputs": [
    {
     "name": "stdout",
     "output_type": "stream",
     "text": [
      "stopping all instances...!\n",
      "all instances stopped!\n"
     ]
    }
   ],
   "source": [
    "def stop_all_instances_waiter():\n",
    "    \"\"\"Using rescource to stop all instances with waiter\n",
    "    \"\"\"\n",
    "    # Creating waiter\n",
    "    waiter = client.get_waiter('instance_stopped')\n",
    "    print(\"stopping all instances...!\")\n",
    "    ec2.instances.stop()\n",
    "    waiter.wait(InstanceIds=instances_ids)\n",
    "    print(\"all instances stopped!\")\n",
    "    \n",
    "       \n",
    "stop_all_instances_waiter()   "
   ]
  },
  {
   "cell_type": "markdown",
   "id": "62daedf0",
   "metadata": {},
   "source": [
    "## Using waiter object to start instances"
   ]
  },
  {
   "cell_type": "code",
   "execution_count": null,
   "id": "b22a7126",
   "metadata": {},
   "outputs": [],
   "source": [
    "def start_all_instances_waiter():\n",
    "    \"\"\"Using rescource to start all instances with waiter\n",
    "    \"\"\"\n",
    "    # Creating waiter\n",
    "    waiter = client.get_waiter('instance_running')\n",
    "    print(\"starting all instances...!\")\n",
    "    ec2.instances.start()\n",
    "    waiter.wait(InstanceIds=instances_ids)\n",
    "    print(\"all instances started!\")\n",
    "    \n",
    "       \n",
    "start_all_instances_waiter()\n"
   ]
  },
  {
   "cell_type": "code",
   "execution_count": null,
   "id": "6b84e18e",
   "metadata": {},
   "outputs": [
    {
     "name": "stdout",
     "output_type": "stream",
     "text": [
      "This script peforms the following actions on ec2 instance.\n",
      "\n",
      "        1. start\n",
      "        2. stop\n",
      "        3. terminate\n",
      "        4. Exit\n",
      "    \n"
     ]
    }
   ],
   "source": [
    "def melo_driven_script():\n",
    "    \"\"\"This function is to perform actions like terminate, stop, start, and exit bases on user's request\n",
    "    Paremeter: opt(int)\n",
    "    return: None\n",
    "    \"\"\"\n",
    "    waiter_stop = client.get_waiter('instance_stopped')\n",
    "    waiter_running = client.get_waiter('instance_running')\n",
    "    waiter_terminate = client.get_waiter('instance_terminated')    \n",
    "    print(\"This script peforms the following actions on ec2 instance.\")\n",
    "    print(\"\"\"\n",
    "        1. start\n",
    "        2. stop\n",
    "        3. terminate\n",
    "        4. Exit\n",
    "    \"\"\")\n",
    "    opt = int(input(\"Enter your option\"))\n",
    "    if opt == 1:\n",
    "        print(\"Starting ec2 instances.....\")\n",
    "        client.start_instances(InstanceIds=instances_ids)\n",
    "        waiter_running.wait(InstanceIds=instances_ids)\n",
    "        print(\"instances started!!😊\")\n",
    "    elif opt == 2:\n",
    "        print(\"stopping ec2 instance...\")\n",
    "        client.stop_instances(InstanceIds=instances_ids)\n",
    "        waiter_stop.wait(InstanceIds=instances_ids)\n",
    "        print(\"instances stopped!😭\")\n",
    "    elif opt == 3:\n",
    "        print(\"Terminating instance...\")\n",
    "        client.terminate_instances(InstanceIds=instances_ids)\n",
    "        waiter_terminate.wait(InstanceIds=instances_ids)\n",
    "        print(\"Instance terminated!🙆‍♀️\")\n",
    "    elif opt == 4:\n",
    "        print(\"exiting your script\")\n",
    "        #sys.exit()      \n",
    "    else:\n",
    "        print(f\"{opt} is invalid. please a valid option and try once again.\")\n",
    "    return None           \n",
    "    \n",
    "    \n",
    "melo_driven_script()"
   ]
  },
  {
   "cell_type": "markdown",
   "id": "9c2eee39",
   "metadata": {},
   "source": [
    "### Now that we have some  instances that are terminated let's try either stop or start instances"
   ]
  },
  {
   "cell_type": "code",
   "execution_count": 45,
   "id": "3280d0bc",
   "metadata": {},
   "outputs": [],
   "source": [
    "try:\n",
    "    instance_running = {'Name': 'instance-state-name', 'Values': ['running', 'stopped']}\n",
    "    for each_inst in ec2.instances.filter(Filters=[instance_running]):\n",
    "        each_inst.stop()\n",
    "\n",
    "except ClientError as err:\n",
    "    if err.response['Error']['Code'] == 'IncorrectInstanceState':\n",
    "        print(\"Ooops, instances could not be stopped at this time\")\n",
    "    else:\n",
    "        raise err.response['Error']['Code']"
   ]
  },
  {
   "cell_type": "markdown",
   "id": "464b5382",
   "metadata": {},
   "source": [
    "## create function to delete on untaged and unused volumes with resource object"
   ]
  },
  {
   "cell_type": "code",
   "execution_count": 44,
   "id": "c21f6360",
   "metadata": {},
   "outputs": [],
   "source": [
    "def delete_volumes_with_resource():\n",
    "    \"\"\"Delete All Unused, Untaged volumes using resource\n",
    "    This delete_volume_withRecource describe all volume ids and identified those untaged and usued and delete\n",
    "    \n",
    "    Args: \n",
    "        None\n",
    "    Raise:\n",
    "        None\n",
    "    return None    \n",
    "    \"\"\"\n",
    "    volume_status = {'Name': 'status', 'Values': ['available']}\n",
    "    for each_volume in ec2.volumes.filter(Filters=[volume_status]):\n",
    "        if not each_volume.tags:\n",
    "            print(\"Deleting untaged and and not in use volumes...\")\n",
    "            each_volume.delete()\n",
    "        print(\"Done\")\n",
    "    return None    \n",
    "        \n",
    "        \n",
    "delete_volumes_with_resource()    "
   ]
  },
  {
   "cell_type": "code",
   "execution_count": null,
   "id": "1c908895",
   "metadata": {},
   "outputs": [],
   "source": []
  },
  {
   "cell_type": "code",
   "execution_count": null,
   "id": "18f02304",
   "metadata": {},
   "outputs": [],
   "source": []
  },
  {
   "cell_type": "markdown",
   "id": "8b803483",
   "metadata": {},
   "source": [
    "## create function to delete on untaged and unused volumes with client object"
   ]
  },
  {
   "cell_type": "code",
   "execution_count": null,
   "id": "b1548ed7",
   "metadata": {},
   "outputs": [],
   "source": []
  },
  {
   "cell_type": "code",
   "execution_count": 54,
   "id": "656d5a18",
   "metadata": {},
   "outputs": [],
   "source": [
    "def delete_untaged_volumes():\n",
    "    \"\"\"This volume delete untaged and unused ebs volumes using client\n",
    "    \"\"\"\n",
    "    client = boto3.session.Session(profile_name=\"shared\").client(service_name='ec2', region_name='us-east-1')\n",
    "    \n",
    "    for each_vlume in client.describe_volumes().get('Volumes'):\n",
    "        if each_vlume.get('State') != 'in-use' and not 'Tags' in each_vlume:\n",
    "            print(\"Deleting untaged and un used volumes\")\n",
    "            client.delete_volume(VolumeId= each_vlume['VolumeId'])\n",
    "\n",
    "    print(\"Deleted untaged and un used volumes\")    \n",
    "    return None        \n"
   ]
  },
  {
   "cell_type": "markdown",
   "id": "4902bc13",
   "metadata": {},
   "source": [
    "## Now we have all the volume id whose state are not in-use and not taged"
   ]
  },
  {
   "cell_type": "code",
   "execution_count": 55,
   "id": "e9f4708d",
   "metadata": {},
   "outputs": [
    {
     "name": "stdout",
     "output_type": "stream",
     "text": [
      "Deleting untaged and un used volumes\n",
      "Deleting untaged and un used volumes\n",
      "Deleted untaged and un used volumes\n"
     ]
    }
   ],
   "source": [
    "delete_untaged_volumes()    "
   ]
  },
  {
   "cell_type": "code",
   "execution_count": null,
   "id": "bb3240e2",
   "metadata": {},
   "outputs": [],
   "source": []
  }
 ],
 "metadata": {
  "kernelspec": {
   "display_name": "Python 3 (ipykernel)",
   "language": "python",
   "name": "python3"
  },
  "language_info": {
   "codemirror_mode": {
    "name": "ipython",
    "version": 3
   },
   "file_extension": ".py",
   "mimetype": "text/x-python",
   "name": "python",
   "nbconvert_exporter": "python",
   "pygments_lexer": "ipython3",
   "version": "3.9.12"
  }
 },
 "nbformat": 4,
 "nbformat_minor": 5
}
