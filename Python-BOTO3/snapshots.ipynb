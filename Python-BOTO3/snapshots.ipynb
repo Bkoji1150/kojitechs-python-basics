{
 "cells": [
  {
   "cell_type": "code",
   "execution_count": 6,
   "id": "8e98bc7c",
   "metadata": {},
   "outputs": [],
   "source": [
    "import boto3\n",
    "from pprint import pprint\n",
    "from botocore.exceptions import ClientError\n",
    "import botocore\n",
    "from datetime import datetime\n",
    "import time\n",
    "\n",
    "ec2 = boto3.session.Session(profile_name='shared').resource(service_name='ec2', region_name='us-east-1')\n",
    "client = boto3.session.Session(profile_name='shared').client(service_name='ec2', region_name='us-east-1')"
   ]
  },
  {
   "cell_type": "code",
   "execution_count": 46,
   "id": "ffe846dd",
   "metadata": {},
   "outputs": [
    {
     "name": "stdout",
     "output_type": "stream",
     "text": [
      "Snap_id: snap-0234bef90cbfb1fc6 snap_szie: 10 snap_tags: None snap_time: 2022-06-30 20:26:31\n",
      "Snap_id: snap-03f9c8191761b4031 snap_szie: 10 snap_tags: [{'Key': 'Name', 'Value': 'python-boto3'}] snap_time: 2022-06-30 20:27:47\n"
     ]
    }
   ],
   "source": [
    "def get_accoun_id():\n",
    "    client = boto3.session.Session(profile_name='shared').client('sts')\n",
    "    return client.get_caller_identity()['Account']\n",
    "\n",
    "accoun_id = get_accoun_id()\n",
    "\n",
    "def list_snapshots_respurce():\n",
    "    \"\"\"List all available snapshot\n",
    "    \"\"\"\n",
    "    response = ec2.snapshots.filter(OwnerIds=[accoun_id])\n",
    "    for each_snap in response:\n",
    "        print(f\"Snap_id: {each_snap.snapshot_id} snap_szie: {each_snap.volume_size} snap_tags: {each_snap.tags} snap_time: {each_snap.start_time.strftime('%Y-%m-%d %H:%M:%S')}\")\n",
    "        \n",
    "start_time = time.time()        \n",
    "list_snapshots_respurce() \n",
    "end_time = time.time()\n",
    "duration = end_time - start_time\n"
   ]
  },
  {
   "cell_type": "code",
   "execution_count": null,
   "id": "bc619d8f",
   "metadata": {},
   "outputs": [],
   "source": []
  },
  {
   "cell_type": "code",
   "execution_count": null,
   "id": "66a63e49",
   "metadata": {},
   "outputs": [],
   "source": []
  }
 ],
 "metadata": {
  "kernelspec": {
   "display_name": "Python 3 (ipykernel)",
   "language": "python",
   "name": "python3"
  },
  "language_info": {
   "codemirror_mode": {
    "name": "ipython",
    "version": 3
   },
   "file_extension": ".py",
   "mimetype": "text/x-python",
   "name": "python",
   "nbconvert_exporter": "python",
   "pygments_lexer": "ipython3",
   "version": "3.9.12"
  }
 },
 "nbformat": 4,
 "nbformat_minor": 5
}
