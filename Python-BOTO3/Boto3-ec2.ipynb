{
 "cells": [
  {
   "cell_type": "markdown",
   "id": "2575a65d",
   "metadata": {},
   "source": [
    "## Working with ec2 using boto3 client"
   ]
  },
  {
   "cell_type": "code",
   "execution_count": 7,
   "id": "5d300245",
   "metadata": {},
   "outputs": [],
   "source": [
    "import boto3\n",
    "from pprint import pprint\n",
    "\n",
    "\n",
    "session = boto3.session.Session()\n"
   ]
  },
  {
   "cell_type": "code",
   "execution_count": 61,
   "id": "2aaaa793",
   "metadata": {},
   "outputs": [],
   "source": [
    "def describe_instances():\n",
    "    \"\"\"This function list All instance using client object. \n",
    "    Parameter: None\n",
    "    Return: None\n",
    "    \"\"\"\n",
    "    client = session.client('ec2', region_name='us-east-1')\n",
    "    response = client.describe_instances().get('Reservations')\n",
    "    for each_instance in response:\n",
    "        for instance in each_instance.get('Instances'):\n",
    "            print(\"========================\")\n",
    "            print(f\"Instance iD: {instance.get('InstanceId')}\\nThe launch Time is: {instance.get('LaunchTime').strftime('%Y-%m-%d')}\\nInstance State: {instance.get('State').get('Name')}\")\n",
    "    return None\n",
    "\n",
    "def describe_instance_re():\n",
    "    \"\"\"This function list All instance using Resource object. \n",
    "    Parameter: None\n",
    "    Return: None\n",
    "    \"\"\"\n",
    "    reource = session.resource('ec2', region_name='us-east-1')\n",
    "    instances = reource.instances.all()\n",
    "    for instance in instances:\n",
    "        print(instance.id)\n",
    "    \n",
    "    \n",
    "        \n",
    "    "
   ]
  },
  {
   "cell_type": "markdown",
   "id": "14e5f6ac",
   "metadata": {},
   "source": [
    "## Working with ebs volumes using boto3      "
   ]
  },
  {
   "cell_type": "code",
   "execution_count": 101,
   "id": "8bb08e2a",
   "metadata": {},
   "outputs": [],
   "source": [
    "def describe_volumes():\n",
    "    \"\"\"This function list All ebs using client object. \n",
    "    Parameter: None\n",
    "    Return: None\n",
    "    \"\"\"\n",
    "    client = session.client('ec2', region_name='us-east-1')\n",
    "    response = client.describe_volumes().get('Volumes')\n",
    "    for each_volume in response:\n",
    "        for volume in each_volume.get('Attachments'):\n",
    "            print(\"=======================\")\n",
    "            print(f\"Volume Id: {volume.get('VolumeId')}\\nAttached time: {volume.get('AttachTime').strftime('%Y-%m-%d')}\\nInstance state: {volume.get('State')}\")\n",
    "    return "
   ]
  },
  {
   "cell_type": "code",
   "execution_count": null,
   "id": "3b0a386b",
   "metadata": {},
   "outputs": [],
   "source": []
  },
  {
   "cell_type": "code",
   "execution_count": null,
   "id": "8307b7ee",
   "metadata": {},
   "outputs": [],
   "source": []
  },
  {
   "cell_type": "code",
   "execution_count": null,
   "id": "ced0498a",
   "metadata": {},
   "outputs": [],
   "source": []
  },
  {
   "cell_type": "code",
   "execution_count": null,
   "id": "10afcff6",
   "metadata": {},
   "outputs": [],
   "source": []
  },
  {
   "cell_type": "code",
   "execution_count": 102,
   "id": "51d2a55a",
   "metadata": {},
   "outputs": [
    {
     "name": "stdout",
     "output_type": "stream",
     "text": [
      "=======================\n",
      "Volume Id: vol-0f56059f86de12d37\n",
      "Attached time: 2022-06-21\n",
      "Instance state: attached\n",
      "=======================\n",
      "Volume Id: vol-0940465f018b30798\n",
      "Attached time: 2022-06-21\n",
      "Instance state: attached\n",
      "=======================\n",
      "Volume Id: vol-00cdef384d53fd4d1\n",
      "Attached time: 2022-06-21\n",
      "Instance state: attached\n"
     ]
    }
   ],
   "source": [
    "\n",
    "def lanbda_handler():\n",
    "    #describe_instances()\n",
    "    #describe_instance_re()\n",
    "    describe_volumes()\n",
    "    \n",
    "\n",
    "lanbda_handler() "
   ]
  },
  {
   "cell_type": "code",
   "execution_count": null,
   "id": "9e37e14b",
   "metadata": {},
   "outputs": [],
   "source": []
  }
 ],
 "metadata": {
  "kernelspec": {
   "display_name": "Python 3 (ipykernel)",
   "language": "python",
   "name": "python3"
  },
  "language_info": {
   "codemirror_mode": {
    "name": "ipython",
    "version": 3
   },
   "file_extension": ".py",
   "mimetype": "text/x-python",
   "name": "python",
   "nbconvert_exporter": "python",
   "pygments_lexer": "ipython3",
   "version": "3.9.12"
  }
 },
 "nbformat": 4,
 "nbformat_minor": 5
}
