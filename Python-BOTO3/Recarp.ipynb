{
 "cells": [
  {
   "cell_type": "code",
   "execution_count": 4,
   "id": "877b33d5",
   "metadata": {},
   "outputs": [],
   "source": [
    "import boto3\n",
    "from pprint import pprint\n",
    "\n",
    "\n",
    "session = boto3.session.Session() # creating a session\n",
    "\n",
    "client = session.client('s3')  # Creating a client object \n",
    "\n",
    "resource = session.resource('s3') # creating a resource object \n"
   ]
  },
  {
   "cell_type": "markdown",
   "id": "c4fd8e5d",
   "metadata": {},
   "source": [
    "### List all s3 bucket using both client and resource object. "
   ]
  },
  {
   "cell_type": "code",
   "execution_count": 14,
   "id": "91da5e20",
   "metadata": {},
   "outputs": [
    {
     "name": "stdout",
     "output_type": "stream",
     "text": [
      "['dynamo-to-lambda-csv', 'ecs.terraform.cluster.terraform', 'ecs.working.cluster.terraform', 'elasticbeanstalk-us-east-1-735972722491', 'hap23bdv-bucket', 'hqr.common.database.module.kojitechs.tf', 'kojibello.com', 'kojitechs.python.bucket', 'kojitechs.python.buckets', 'operational.vpc.tf.kojitechs', 'perfect-ec2-kojitechs-registrationapps-tf', 'perfect-operational-environment-network-tf', 'perfectobabe.com', 'registration-app-with-end-end-tf', 's3.bucket.dynamo.kojitechs', 'state.buckects.contents', 'state.tf.aws.ec2cluster.instance', 'state.tf.aws.rdscluster.kojitechs', 'state.tf.aws.rdscluster.mysqlaurora.kojitechs', 'state.tf.data-pipeline.migration.kojitechs', 'vpc.peering.tf.kojitechs']\n"
     ]
    }
   ],
   "source": [
    "\"\"\"\n",
    "Using client object to list all s3 buckets. \n",
    "\"\"\"\n",
    "\n",
    "def list_bucketsWith_client():\n",
    "    \"\"\"List all buckets using client object\n",
    "    Parameter: None\n",
    "    Return: None\n",
    "    \"\"\"\n",
    "    try:\n",
    "        all_buckets = []\n",
    "        response = client.list_buckets()['Buckets']\n",
    "        for bucket in response:\n",
    "            all_buckets.append(bucket.get('Name'))\n",
    "        print(all_buckets)\n",
    "        \n",
    "    except Exception as err:\n",
    "        print(err)\n",
    "        \n",
    "list_bucketsWith_client()        "
   ]
  },
  {
   "cell_type": "code",
   "execution_count": 23,
   "id": "fb2b4752",
   "metadata": {},
   "outputs": [
    {
     "name": "stdout",
     "output_type": "stream",
     "text": [
      "dynamo-to-lambda-csv\n",
      "ecs.terraform.cluster.terraform\n",
      "ecs.working.cluster.terraform\n",
      "elasticbeanstalk-us-east-1-735972722491\n",
      "hap23bdv-bucket\n",
      "hqr.common.database.module.kojitechs.tf\n",
      "kojibello.com\n",
      "kojitechs.python.bucket\n",
      "kojitechs.python.buckets\n",
      "operational.vpc.tf.kojitechs\n",
      "perfect-ec2-kojitechs-registrationapps-tf\n",
      "perfect-operational-environment-network-tf\n",
      "perfectobabe.com\n",
      "registration-app-with-end-end-tf\n",
      "s3.bucket.dynamo.kojitechs\n",
      "state.buckects.contents\n",
      "state.tf.aws.ec2cluster.instance\n",
      "state.tf.aws.rdscluster.kojitechs\n",
      "state.tf.aws.rdscluster.mysqlaurora.kojitechs\n",
      "state.tf.data-pipeline.migration.kojitechs\n",
      "vpc.peering.tf.kojitechs\n"
     ]
    }
   ],
   "source": [
    "\"\"\"\n",
    "Using resource object to list all s3 buckets. \n",
    "It have method call\n",
    ".all() # lIST EVERY THING COLLECTION\n",
    ".limit() # YOU CAN LIMIT THE OUTPUT TO A SPIFIC NUMBER\n",
    ".filter() # YOU FILTER A RESOURCE BASED ON A SPECIFIC TAG \n",
    ".page_size() # GET MORE THAT 50 BUCKETS DISPLAYED. \n",
    "\"\"\"\n",
    "\n",
    "def list_bucketsWithResource():\n",
    "    \"\"\"List all buckets using resource object\n",
    "    Parameter: None\n",
    "    Return: None\n",
    "    \"\"\"\n",
    "    try:\n",
    "        bukects = resource.buckets.all()\n",
    "        for bukect in bukects:\n",
    "            print(bukect.name)\n",
    "    except Exception as err:\n",
    "        print(err)\n",
    "        \n",
    "list_bucketsWithResource()        "
   ]
  },
  {
   "cell_type": "code",
   "execution_count": null,
   "id": "3e74117f",
   "metadata": {},
   "outputs": [],
   "source": []
  }
 ],
 "metadata": {
  "kernelspec": {
   "display_name": "Python 3 (ipykernel)",
   "language": "python",
   "name": "python3"
  },
  "language_info": {
   "codemirror_mode": {
    "name": "ipython",
    "version": 3
   },
   "file_extension": ".py",
   "mimetype": "text/x-python",
   "name": "python",
   "nbconvert_exporter": "python",
   "pygments_lexer": "ipython3",
   "version": "3.9.12"
  }
 },
 "nbformat": 4,
 "nbformat_minor": 5
}
