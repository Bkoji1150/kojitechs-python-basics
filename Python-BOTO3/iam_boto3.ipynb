{
 "cells": [
  {
   "cell_type": "code",
   "execution_count": 8,
   "id": "089f5543",
   "metadata": {},
   "outputs": [],
   "source": [
    "import boto3\n",
    "import botocore\n",
    "import sys\n",
    "from pprint import pprint\n",
    "\n",
    "session = boto3.session.Session()\n",
    "\n"
   ]
  },
  {
   "cell_type": "code",
   "execution_count": 12,
   "id": "f2f147ee",
   "metadata": {},
   "outputs": [
    {
     "name": "stdout",
     "output_type": "stream",
     "text": [
      "{'Path': '/', 'UserName': 'Automation', 'UserId': 'AIDA2WW3EQ455PXIW3OFH', 'Arn': 'arn:aws:iam::735972722491:user/Automation', 'CreateDate': datetime.datetime(2022, 3, 22, 17, 21, 55, tzinfo=tzutc())}\n"
     ]
    }
   ],
   "source": [
    "def list_users_client():\n",
    "    client = session.client('iam')\n",
    "    users = client.list_users()['Users']\n",
    "    for user in users: \n",
    "        print(user)\n",
    "    \n",
    "list_users_client()    "
   ]
  },
  {
   "cell_type": "code",
   "execution_count": 17,
   "id": "4efe020c",
   "metadata": {},
   "outputs": [
    {
     "name": "stdout",
     "output_type": "stream",
     "text": [
      "Automation\n"
     ]
    }
   ],
   "source": [
    "def list_users_withResource():\n",
    "    resource = session.resource('iam')\n",
    "    users = resource.users.all()\n",
    "    for user in users:\n",
    "        print(user.name)\n",
    "        \n",
    "    \n",
    "    \n",
    "list_users_withResource()    "
   ]
  },
  {
   "cell_type": "markdown",
   "id": "ccb3ec29",
   "metadata": {},
   "source": [
    "## Working with STS( To get account ID)"
   ]
  },
  {
   "cell_type": "code",
   "execution_count": 24,
   "id": "efc9e965",
   "metadata": {},
   "outputs": [
    {
     "name": "stdout",
     "output_type": "stream",
     "text": [
      "accounId: 735972722491, Account_arn: arn:aws:iam::735972722491:user/Automation\n"
     ]
    }
   ],
   "source": [
    "def get_accountID():\n",
    "    client = session.client(service_name='sts', region_name='us-east-1')\n",
    "    response = client.get_caller_identity()\n",
    "   \n",
    "    print(f\"accounId: {response.get('Account')}, Account_arn: {response.get('Arn')}\")\n",
    "    \n",
    "get_accountID()    "
   ]
  },
  {
   "cell_type": "code",
   "execution_count": 27,
   "id": "521b415e",
   "metadata": {},
   "outputs": [
    {
     "name": "stdout",
     "output_type": "stream",
     "text": [
      "['__class__', '__delattr__', '__dict__', '__dir__', '__doc__', '__eq__', '__format__', '__ge__', '__getattribute__', '__gt__', '__hash__', '__init__', '__init_subclass__', '__le__', '__lt__', '__module__', '__ne__', '__new__', '__reduce__', '__reduce_ex__', '__repr__', '__setattr__', '__sizeof__', '__str__', '__subclasshook__', '__weakref__', '_client_config', '_endpoint_url', '_method_to_api_mapping', '_partition', '_service_model', 'config', 'endpoint_url', 'events', 'method_to_api_mapping', 'partition', 'region_name', 'service_model']\n"
     ]
    }
   ],
   "source": [
    "def get_accountID_using_resource():\n",
    "    client = session.client(service_name='sts', region_name='us-east-1')\n",
    "    print(dir(client.meta))\n",
    "    \n",
    "get_accountID_using_resource()  "
   ]
  },
  {
   "cell_type": "markdown",
   "id": "b1560b99",
   "metadata": {},
   "source": [
    "### Exception in boto3"
   ]
  },
  {
   "cell_type": "code",
   "execution_count": 39,
   "id": "e8bd11b0",
   "metadata": {},
   "outputs": [],
   "source": [
    "def create_bucket_client(bucket_name):\n",
    "    \"\"\"Using client object to create an s3 bucket. \n",
    "    Parameter: bucket_name\n",
    "    Return: \n",
    "    None\n",
    "    \"\"\"\n",
    "    try:\n",
    "        client = session.client('s3')\n",
    "        client.create_bucket(Bucket=bucket_name)\n",
    "    except Exception as e:\n",
    "        print(e)\n",
    "   \n",
    "create_bucket_client('dynamo-to-lambda-csv')    \n",
    "    "
   ]
  },
  {
   "cell_type": "code",
   "execution_count": null,
   "id": "f8b363eb",
   "metadata": {},
   "outputs": [],
   "source": [
    "def create_"
   ]
  },
  {
   "cell_type": "code",
   "execution_count": 1,
   "id": "b08adf3a",
   "metadata": {},
   "outputs": [],
   "source": [
    "import glob"
   ]
  },
  {
   "cell_type": "raw",
   "id": "81ea5bad",
   "metadata": {},
   "source": [
    "try:\n",
    "    import boto3\n",
    "except Exception as e:\n",
    "    print(e)"
   ]
  },
  {
   "cell_type": "code",
   "execution_count": 6,
   "id": "c3981d7b",
   "metadata": {},
   "outputs": [
    {
     "data": {
      "text/plain": [
       "['AliasConflictParameterError',\n",
       " 'ApiVersionNotFoundError',\n",
       " 'AwsChunkedWrapperError',\n",
       " 'BaseEndpointResolverError',\n",
       " 'BotoCoreError',\n",
       " 'CapacityNotAvailableError',\n",
       " 'ChecksumError',\n",
       " 'ClientError',\n",
       " 'ConfigNotFound',\n",
       " 'ConfigParseError',\n",
       " 'ConnectTimeoutError',\n",
       " 'ConnectionClosedError',\n",
       " 'ConnectionError',\n",
       " 'CredentialRetrievalError',\n",
       " 'DataNotFoundError',\n",
       " 'EndpointConnectionError',\n",
       " 'EndpointVariantError',\n",
       " 'EventStreamError',\n",
       " 'FlexibleChecksumError',\n",
       " 'HTTPClientError',\n",
       " 'ImminentRemovalWarning',\n",
       " 'IncompleteReadError',\n",
       " 'InfiniteLoopConfigError',\n",
       " 'InvalidConfigError',\n",
       " 'InvalidDNSNameError',\n",
       " 'InvalidDefaultsMode',\n",
       " 'InvalidEndpointDiscoveryConfigurationError',\n",
       " 'InvalidExpressionError',\n",
       " 'InvalidHostLabelError',\n",
       " 'InvalidIMDSEndpointError',\n",
       " 'InvalidIMDSEndpointModeError',\n",
       " 'InvalidMaxRetryAttemptsError',\n",
       " 'InvalidProxiesConfigError',\n",
       " 'InvalidRegionError',\n",
       " 'InvalidRetryConfigurationError',\n",
       " 'InvalidRetryModeError',\n",
       " 'InvalidS3AddressingStyleError',\n",
       " 'InvalidS3UsEast1RegionalEndpointConfigError',\n",
       " 'InvalidSTSRegionalEndpointsConfigError',\n",
       " 'MD5UnavailableError',\n",
       " 'MetadataRetrievalError',\n",
       " 'MissingDependencyException',\n",
       " 'MissingParametersError',\n",
       " 'MissingServiceIdError',\n",
       " 'NoCredentialsError',\n",
       " 'NoRegionError',\n",
       " 'OperationNotPageableError',\n",
       " 'PaginationError',\n",
       " 'ParamValidationError',\n",
       " 'PartialCredentialsError',\n",
       " 'ProfileNotFound',\n",
       " 'ProxyConnectionError',\n",
       " 'RangeError',\n",
       " 'ReadTimeoutError',\n",
       " 'RefreshWithMFAUnsupportedError',\n",
       " 'ResponseStreamingError',\n",
       " 'SSLError',\n",
       " 'SSOError',\n",
       " 'SSOTokenLoadError',\n",
       " 'ServiceNotInRegionError',\n",
       " 'StubAssertionError',\n",
       " 'StubResponseError',\n",
       " 'UnStubbedResponseError',\n",
       " 'UnauthorizedSSOTokenError',\n",
       " 'UndefinedModelAttributeError',\n",
       " 'UnknownClientMethodError',\n",
       " 'UnknownCredentialError',\n",
       " 'UnknownEndpointError',\n",
       " 'UnknownFIPSEndpointError',\n",
       " 'UnknownKeyError',\n",
       " 'UnknownParameterError',\n",
       " 'UnknownRegionError',\n",
       " 'UnknownServiceError',\n",
       " 'UnknownServiceStyle',\n",
       " 'UnknownSignatureVersionError',\n",
       " 'UnseekableStreamError',\n",
       " 'UnsupportedOutpostResourceError',\n",
       " 'UnsupportedS3AccesspointConfigurationError',\n",
       " 'UnsupportedS3ArnError',\n",
       " 'UnsupportedS3ConfigurationError',\n",
       " 'UnsupportedS3ControlArnError',\n",
       " 'UnsupportedS3ControlConfigurationError',\n",
       " 'UnsupportedSignatureVersionError',\n",
       " 'UnsupportedTLSVersionWarning',\n",
       " 'ValidationError',\n",
       " 'WaiterConfigError',\n",
       " 'WaiterError',\n",
       " '__builtins__',\n",
       " '__cached__',\n",
       " '__doc__',\n",
       " '__file__',\n",
       " '__loader__',\n",
       " '__name__',\n",
       " '__package__',\n",
       " '__spec__',\n",
       " '_exception_from_packed_args',\n",
       " 'requests',\n",
       " 'unicode_literals',\n",
       " 'urllib3']"
      ]
     },
     "execution_count": 6,
     "metadata": {},
     "output_type": "execute_result"
    }
   ],
   "source": [
    "dir(boto3.exceptions.botocore.exceptions)"
   ]
  },
  {
   "cell_type": "code",
   "execution_count": 38,
   "id": "ec5440ad",
   "metadata": {},
   "outputs": [
    {
     "name": "stdout",
     "output_type": "stream",
     "text": [
      "Automation\n",
      "python-boto3\n"
     ]
    }
   ],
   "source": [
    "try:\n",
    "    session = boto3.session.Session(profile_name=\"dev\")\n",
    "except botocore.exceptions.ProfileNotFound:\n",
    "    print(\"dev profile not found.\")\n",
    "\n",
    "try:\n",
    "    session = boto3.session.Session(profile_name='default')\n",
    "    resource = session.resource(service_name='iam')\n",
    "    for user in resource.users.all():\n",
    "        print(user.name)\n",
    "except botocore.exceptions.ClientError as err:\n",
    "    if err.response.get('Error').get('Code') == 'AccessDenied':\n",
    "        print(\"Your profile doesn't have access to list all iam users\")\n",
    "    else:\n",
    "        print(err.response.get('Error').get('Code'))\n",
    "except Exception as err:\n",
    "    print(err)"
   ]
  },
  {
   "cell_type": "code",
   "execution_count": 47,
   "id": "c55aa4a8",
   "metadata": {},
   "outputs": [
    {
     "name": "stdout",
     "output_type": "stream",
     "text": [
      "InvalidAccessKeyId\n"
     ]
    }
   ],
   "source": [
    "def list_s3Resource():\n",
    "    try:\n",
    "        session = boto3.session.Session(profile_name=\"dev\")\n",
    "        resource = session.resource(service_name='s3')\n",
    "        for each_bucket in resource.buckets.all():\n",
    "            print(each_bucket)\n",
    "    except botocore.exceptions.ClientError as err:\n",
    "        if err.response.get('Error').get('Code') == 'AccessDenied':\n",
    "            print(\"You don't have access to list all s3 buckets\")\n",
    "        else:\n",
    "            print(err.response.get('Error').get('Code'))\n",
    "    return None \n",
    "\n",
    "            \n",
    "  \n",
    "list_s3Resource()"
   ]
  },
  {
   "cell_type": "code",
   "execution_count": 64,
   "id": "613a19bf",
   "metadata": {},
   "outputs": [
    {
     "name": "stdout",
     "output_type": "stream",
     "text": [
      "{'ResponseMetadata': {'RequestId': 'MVGK5300VKCGMC8A', 'HostId': '2j2VWyLtT305RzTRU1WFd2qxuGjZRQa2axSSMN/80n5v/+t3XwXhvLEHfF4FDCfhzrtaZYPrO+E=', 'HTTPStatusCode': 200, 'HTTPHeaders': {'x-amz-id-2': '2j2VWyLtT305RzTRU1WFd2qxuGjZRQa2axSSMN/80n5v/+t3XwXhvLEHfF4FDCfhzrtaZYPrO+E=', 'x-amz-request-id': 'MVGK5300VKCGMC8A', 'date': 'Sun, 19 Jun 2022 18:41:50 GMT', 'location': '/kojitechs.python.bucket', 'server': 'AmazonS3', 'content-length': '0'}, 'RetryAttempts': 0}, 'Location': '/kojitechs.python.bucket'}\n"
     ]
    }
   ],
   "source": [
    "def create_bucket_client(bucket_name):\n",
    "    try:\n",
    "        session = boto3.session.Session()\n",
    "        client  = session.client(service_name='s3')\n",
    "        s3 = client.create_bucket(\n",
    "        Bucket=bucket_name)\n",
    "        print(s3)\n",
    "    except botocore.exceptions.ClientError as err:\n",
    "        print(err)\n",
    "    return None\n",
    "\n",
    "create_bucket_client('kojitechs.python.bucket')"
   ]
  },
  {
   "cell_type": "code",
   "execution_count": null,
   "id": "8d86ff88",
   "metadata": {},
   "outputs": [],
   "source": []
  },
  {
   "cell_type": "code",
   "execution_count": null,
   "id": "18aa603e",
   "metadata": {},
   "outputs": [],
   "source": []
  }
 ],
 "metadata": {
  "kernelspec": {
   "display_name": "Python 3 (ipykernel)",
   "language": "python",
   "name": "python3"
  },
  "language_info": {
   "codemirror_mode": {
    "name": "ipython",
    "version": 3
   },
   "file_extension": ".py",
   "mimetype": "text/x-python",
   "name": "python",
   "nbconvert_exporter": "python",
   "pygments_lexer": "ipython3",
   "version": "3.9.12"
  }
 },
 "nbformat": 4,
 "nbformat_minor": 5
}
