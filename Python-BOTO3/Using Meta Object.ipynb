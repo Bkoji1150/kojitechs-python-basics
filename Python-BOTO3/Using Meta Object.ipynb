{
 "cells": [
  {
   "cell_type": "code",
   "execution_count": 111,
   "id": "01edac7e",
   "metadata": {},
   "outputs": [],
   "source": [
    "import boto3\n",
    "import base64\n",
    "from botocore.exceptions import ClientError\n",
    "\n",
    "\n",
    "import re\n",
    "import json\n",
    "import logging\n",
    "import os\n",
    "import pg\n",
    "import pgdb\n",
    "\n",
    "logger = logging.getLogger()\n",
    "logger.setLevel(logging.INFO)\n",
    "from pprint import pprint\n"
   ]
  },
  {
   "cell_type": "code",
   "execution_count": 26,
   "id": "a08bbd31",
   "metadata": {},
   "outputs": [
    {
     "name": "stdout",
     "output_type": "stream",
     "text": [
      "eu-north-1\n",
      "ap-south-1\n",
      "eu-west-3\n",
      "eu-west-2\n",
      "eu-west-1\n",
      "ap-northeast-3\n",
      "ap-northeast-2\n",
      "ap-northeast-1\n",
      "sa-east-1\n",
      "ca-central-1\n",
      "ap-southeast-1\n",
      "ap-southeast-2\n",
      "eu-central-1\n",
      "us-east-1\n",
      "us-east-2\n",
      "us-west-1\n",
      "us-west-2\n"
     ]
    }
   ],
   "source": [
    "def using_meta():\n",
    "    \"\"\"How to get to resource object through client object\n",
    "    Paremeter: opt(int)\n",
    "    return: None\n",
    "    \"\"\"\n",
    "    resource = boto3.session.Session().resource('ec2', 'us-east-1')\n",
    "    for each_region in resource.meta.client.describe_regions()['Regions']:\n",
    "        print(each_region.get('RegionName'))\n",
    "    return None\n",
    "\n",
    "using_meta()"
   ]
  },
  {
   "cell_type": "markdown",
   "id": "1b220750",
   "metadata": {},
   "source": [
    "## Colection object "
   ]
  },
  {
   "cell_type": "code",
   "execution_count": 37,
   "id": "f13bb539",
   "metadata": {},
   "outputs": [
    {
     "name": "stdout",
     "output_type": "stream",
     "text": [
      "['__class__',\n",
      " '__delattr__',\n",
      " '__dict__',\n",
      " '__dir__',\n",
      " '__doc__',\n",
      " '__eq__',\n",
      " '__format__',\n",
      " '__ge__',\n",
      " '__getattribute__',\n",
      " '__gt__',\n",
      " '__hash__',\n",
      " '__init__',\n",
      " '__init_subclass__',\n",
      " '__le__',\n",
      " '__lt__',\n",
      " '__module__',\n",
      " '__ne__',\n",
      " '__new__',\n",
      " '__reduce__',\n",
      " '__reduce_ex__',\n",
      " '__repr__',\n",
      " '__setattr__',\n",
      " '__sizeof__',\n",
      " '__str__',\n",
      " '__subclasshook__',\n",
      " '__weakref__',\n",
      " '_collection_cls',\n",
      " '_handler',\n",
      " '_model',\n",
      " '_parent',\n",
      " 'all',\n",
      " 'create_tags',\n",
      " 'filter',\n",
      " 'iterator',\n",
      " 'limit',\n",
      " 'monitor',\n",
      " 'page_size',\n",
      " 'pages',\n",
      " 'reboot',\n",
      " 'start',\n",
      " 'stop',\n",
      " 'terminate',\n",
      " 'unmonitor']\n"
     ]
    }
   ],
   "source": [
    "def collection_objects():\n",
    "    \"\"\"How to get to resource object through client object\n",
    "    Paremeter: opt(int)\n",
    "    return: None\n",
    "    \"\"\"\n",
    "    resource = boto3.session.Session().resource(service_name='ec2', region_name='us-east-1')\n",
    "    pprint(dir(resource.instances))\n",
    "    \n",
    "    \n",
    "collection_objects()    "
   ]
  },
  {
   "cell_type": "markdown",
   "id": "123c31c4",
   "metadata": {},
   "source": [
    "## If you look from the above method \n",
    "#### there's Filter, all and limit\n",
    "### These are your collection object "
   ]
  },
  {
   "cell_type": "markdown",
   "id": "9f8e3b87",
   "metadata": {},
   "source": [
    "## Here we are creating a function to using colllection method of all()"
   ]
  },
  {
   "cell_type": "code",
   "execution_count": 40,
   "id": "1c518f6b",
   "metadata": {},
   "outputs": [
    {
     "name": "stdout",
     "output_type": "stream",
     "text": [
      "ec2.Instance(id='i-0402675382b992f7a')\n",
      "ec2.Instance(id='i-089999e2cced39b86')\n",
      "ec2.Instance(id='i-09135aa74c2e472d7')\n"
     ]
    }
   ],
   "source": [
    "def collection_objects():\n",
    "    \"\"\"How to get to resource object through client object\n",
    "    Paremeter: opt(int)\n",
    "    return: None\n",
    "    \"\"\"\n",
    "    resource = boto3.session.Session().resource(service_name='ec2', region_name='us-east-1')\n",
    "    for each_instance in resource.instances.all():\n",
    "        print(each_instance)\n",
    "    \n",
    "    \n",
    "collection_objects() "
   ]
  },
  {
   "cell_type": "markdown",
   "id": "446aed82",
   "metadata": {},
   "source": [
    "### Let's using limit() collection method"
   ]
  },
  {
   "cell_type": "code",
   "execution_count": 41,
   "id": "281a91b3",
   "metadata": {},
   "outputs": [
    {
     "name": "stdout",
     "output_type": "stream",
     "text": [
      "ec2.Instance(id='i-0402675382b992f7a')\n",
      "ec2.Instance(id='i-089999e2cced39b86')\n"
     ]
    }
   ],
   "source": [
    "def collection_objects():\n",
    "    \"\"\"How to get to resource object through client object\n",
    "    Paremeter: opt(int)\n",
    "    return: None\n",
    "    \"\"\"\n",
    "    resource = boto3.session.Session().resource(service_name='ec2', region_name='us-east-1')\n",
    "    for each_instance in resource.instances.limit(2):\n",
    "        print(each_instance)\n",
    "    \n",
    "    \n",
    "collection_objects() "
   ]
  },
  {
   "cell_type": "markdown",
   "id": "e5e04fd9",
   "metadata": {},
   "source": [
    "### Now let's see Filter()"
   ]
  },
  {
   "cell_type": "code",
   "execution_count": 42,
   "id": "491fcdcf",
   "metadata": {},
   "outputs": [
    {
     "name": "stdout",
     "output_type": "stream",
     "text": [
      "ec2.Instance(id='i-0402675382b992f7a')\n",
      "ec2.Instance(id='i-089999e2cced39b86')\n",
      "ec2.Instance(id='i-09135aa74c2e472d7')\n"
     ]
    }
   ],
   "source": [
    "def collection_objects():\n",
    "    \"\"\"How to get to resource object through client object\n",
    "    Paremeter: opt(int)\n",
    "    return: None\n",
    "    \"\"\"\n",
    "    resource = boto3.session.Session().resource(service_name='ec2', region_name='us-east-1')\n",
    "    for each_instance in resource.instances.filter(Filters=[]):\n",
    "        print(each_instance)\n",
    "    \n",
    "    \n",
    "collection_objects() "
   ]
  },
  {
   "cell_type": "markdown",
   "id": "46e0e5fb",
   "metadata": {},
   "source": [
    "### Filter have one parameter which is a list. and in that list we have a dictionary"
   ]
  },
  {
   "cell_type": "markdown",
   "id": "19535ff5",
   "metadata": {},
   "source": [
    "let's create a filer block. to get all running instances"
   ]
  },
  {
   "cell_type": "code",
   "execution_count": 46,
   "id": "d5a7f5e6",
   "metadata": {},
   "outputs": [
    {
     "name": "stdout",
     "output_type": "stream",
     "text": [
      "ec2.Instance(id='i-0402675382b992f7a')\n",
      "ec2.Instance(id='i-089999e2cced39b86')\n",
      "ec2.Instance(id='i-09135aa74c2e472d7')\n"
     ]
    }
   ],
   "source": [
    "filter_1 = {\"Name\": \"instance-state-name\", \"Values\": ['terminated']}\n",
    "\n",
    "def collection_objects():\n",
    "    \"\"\"How to get to resource object through client object\n",
    "    Paremeter: opt(int)\n",
    "    return: None\n",
    "    \"\"\"\n",
    "    resource = boto3.session.Session().resource(service_name='ec2', region_name='us-east-1')\n",
    "    for each_instance in resource.instances.filter(Filters=[filter_1]):\n",
    "        print(each_instance)\n",
    "    \n",
    "    \n",
    "collection_objects()"
   ]
  },
  {
   "cell_type": "markdown",
   "id": "187f7194",
   "metadata": {},
   "source": [
    "We can filter on list"
   ]
  },
  {
   "cell_type": "markdown",
   "id": "4bb79823",
   "metadata": {},
   "source": [
    "## Boto3 Collection Concept to start, stop, terminate, monito all instances with a single shut"
   ]
  },
  {
   "cell_type": "code",
   "execution_count": 38,
   "id": "62808780",
   "metadata": {},
   "outputs": [
    {
     "name": "stdout",
     "output_type": "stream",
     "text": [
      "['i-09c94869e20bb9d3b', 'i-09b52b6883f6b122a', 'i-0349cb744bae81bc8', 'i-0be42db74bc1e74a7']\n",
      "starting all instances....\n",
      "Oooops, could not be started at this time\n"
     ]
    }
   ],
   "source": [
    "def ec2_instance_ids():\n",
    "    ids = []\n",
    "    running_instance = {\"Name\": \"instance-state-name\", \"Values\":[\"running\"]}\n",
    "    resource = boto3.session.Session(profile_name=\"sbx\").resource(service_name='ec2', region_name='us-east-1')\n",
    "    for each_id in resource.instances.all():\n",
    "        ids.append(each_id.id)\n",
    "    return ids \n",
    "\n",
    "ids = ec2_instance_ids()\n",
    "\n",
    "\n",
    "def start_instances_waiter():\n",
    "    \"\"\"How to get to resource object through client object\n",
    "    Paremeter: opt(int)\n",
    "    return: None\n",
    "    \"\"\"\n",
    "    resource = boto3.session.Session(profile_name=\"sbx\").resource(service_name='ec2', region_name='us-east-1')\n",
    "    client = boto3.session.Session(profile_name=\"sbx\").client(service_name='ec2', region_name='us-east-1')\n",
    "    try:\n",
    "        waiter = client.get_waiter('instance_running') \n",
    "        print(\"starting all instances....\")\n",
    "        resource.instances.start()\n",
    "        waiter.wait(InstanceIds=ids)\n",
    "        print(\"starting all instances!!...\")\n",
    "    except botocore.exceptions.ClientError as err:\n",
    "        if err.response.get('Error')['Code'] == 'IncorrectInstanceState':\n",
    "            print(\"Oooops, could not be started at this time\")\n",
    "        else:\n",
    "            print(err.response.get('Error')['Code'])\n",
    "    except Exception as err:\n",
    "        print(\"Oooops, could not be started at this time\")\n",
    "    \n",
    "start_instances_waiter()"
   ]
  },
  {
   "cell_type": "markdown",
   "id": "c019f110",
   "metadata": {},
   "source": [
    "## It is always better to use a client waiters"
   ]
  },
  {
   "cell_type": "code",
   "execution_count": 41,
   "id": "f0810ccd",
   "metadata": {},
   "outputs": [
    {
     "name": "stdout",
     "output_type": "stream",
     "text": [
      "stopping all instances....\n",
      "Oooops, could not be started at this time\n"
     ]
    }
   ],
   "source": [
    "def stop_instances_waiter():\n",
    "    \"\"\"How to get to resource object through client object\n",
    "    Paremeter: opt(int)\n",
    "    return: None\n",
    "    \"\"\"\n",
    "    resource = boto3.session.Session(profile_name=\"sbx\").resource(service_name='ec2', region_name='us-east-1')\n",
    "    client = boto3.session.Session(profile_name=\"sbx\").client(service_name='ec2', region_name='us-east-1')\n",
    "    try:\n",
    "        waiter = client.get_waiter('instance_stopped') \n",
    "        print(\"stopping all instances....\")\n",
    "        resource.instances.stop()\n",
    "        waiter.wait(InstanceIds=ids)\n",
    "        print(\"stopping all instances!!...\")\n",
    "    except botocore.exceptions.ClientError as err:\n",
    "        if err.response.get('Error')['Code'] == 'IncorrectInstanceState':\n",
    "            print(\"Oooops, could not be started at this time\")\n",
    "        else:\n",
    "            raise err.response.get('Error')['Code']\n",
    "    except Exception as err:\n",
    "        print(\"Oooops, could not be started at this time\")    \n",
    "    \n",
    "stop_instances_waiter()"
   ]
  },
  {
   "cell_type": "code",
   "execution_count": 42,
   "id": "60caac67",
   "metadata": {},
   "outputs": [
    {
     "name": "stdout",
     "output_type": "stream",
     "text": [
      "stopping all instances....\n",
      "stopping all instances!!...\n"
     ]
    }
   ],
   "source": [
    "def terminate_instances_waiter():\n",
    "    \"\"\"How to get to resource object through client object\n",
    "    Paremeter: opt(int)\n",
    "    return: None\n",
    "    \"\"\"\n",
    "    resource = boto3.session.Session(profile_name=\"sbx\").resource(service_name='ec2', region_name='us-east-1')\n",
    "    client = boto3.session.Session(profile_name=\"sbx\").client(service_name='ec2', region_name='us-east-1')\n",
    "    waiter = client.get_waiter('instance_terminated') \n",
    "    print(\"stopping all instances....\")\n",
    "    resource.instances.terminate()\n",
    "    waiter.wait(InstanceIds=ids)\n",
    "    print(\"stopping all instances!!...\")\n",
    "    \n",
    "terminate_instances_waiter()    "
   ]
  },
  {
   "cell_type": "code",
   "execution_count": 25,
   "id": "1207f5b7",
   "metadata": {},
   "outputs": [
    {
     "name": "stdout",
     "output_type": "stream",
     "text": [
      "['MSG_TEMPLATE', '__cause__', '__class__', '__context__', '__delattr__', '__dict__', '__dir__', '__doc__', '__eq__', '__format__', '__ge__', '__getattribute__', '__gt__', '__hash__', '__init__', '__init_subclass__', '__le__', '__lt__', '__module__', '__ne__', '__new__', '__reduce__', '__reduce_ex__', '__repr__', '__setattr__', '__setstate__', '__sizeof__', '__str__', '__subclasshook__', '__suppress_context__', '__traceback__', '__weakref__', '_get_retry_info', 'args', 'with_traceback']\n"
     ]
    }
   ],
   "source": [
    "print(dir(botocore.exceptions.ClientError))"
   ]
  },
  {
   "cell_type": "code",
   "execution_count": 44,
   "id": "71506c93",
   "metadata": {},
   "outputs": [
    {
     "name": "stdout",
     "output_type": "stream",
     "text": [
      "['i-09c94869e20bb9d3b', 'i-09b52b6883f6b122a', 'i-0349cb744bae81bc8', 'i-0be42db74bc1e74a7']\n"
     ]
    }
   ],
   "source": [
    "print(ec2_instance_ids())"
   ]
  },
  {
   "cell_type": "code",
   "execution_count": 72,
   "id": "1e319ed6",
   "metadata": {},
   "outputs": [
    {
     "name": "stdout",
     "output_type": "stream",
     "text": [
      "Ending exception\n"
     ]
    }
   ],
   "source": [
    "def delete_untaged_ebs():\n",
    "    \"\"\"This function is used to delete untaged volumes\n",
    "    Parameter: None\n",
    "    return\n",
    "    \"\"\"\n",
    "    try:\n",
    "        client = boto3.session.Session(profile_name=\"sbx\").client(service_name='ec2', region_name='us-east-1')\n",
    "    except botocore.exceptions.ProfileNotFound as err:\n",
    "        print(\"profile not found\")\n",
    "    except botocore.exceptions.UnknownServiceError:\n",
    "        print(\"unkown service\")\n",
    "    except botocore.exceptions.InvalidRegionError:\n",
    "        print(\"Region not found. please check your region and try and again\")\n",
    "    else:\n",
    "        print(\"No exception found\")\n",
    "   \n",
    "        \n",
    "\n",
    "    \n",
    "        \n",
    "\n",
    "    \n",
    "    \n",
    "delete_untaged_ebs()    \n",
    "        \n",
    "    "
   ]
  },
  {
   "cell_type": "code",
   "execution_count": 139,
   "id": "7e65af2b",
   "metadata": {},
   "outputs": [
    {
     "name": "stdout",
     "output_type": "stream",
     "text": [
      "P@ssword\n"
     ]
    }
   ],
   "source": [
    "\n",
    "\n",
    "def working_with_secrets():\n",
    "    secrets_name = \"python-boto3\"\n",
    "    client = boto3.session.Session(profile_name=\"shared\").client(service_name=\"secretsmanager\", region_name=\"us-east-1\")\n",
    "    \n",
    "    try:\n",
    "        secrets_response = client.get_secret_value(SecretId=secrets_name)\n",
    "    except ClientError as e:\n",
    "        if e.response['Error']['Code'] == 'DecryptionFailureException':\n",
    "            # Secrets Manager can't decrypt the protected secret text using the provided KMS key.\n",
    "            # Deal with the exception here, and/or rethrow at your discretion.\n",
    "            raise e\n",
    "        elif e.response['Error']['Code'] == 'InternalServiceErrorException':\n",
    "            # An error occurred on the server side.\n",
    "            # Deal with the exception here, and/or rethrow at your discretion.\n",
    "            raise e\n",
    "        elif e.response['Error']['Code'] == 'InvalidParameterException':\n",
    "            # You provided an invalid value for a parameter.\n",
    "            # Deal with the exception here, and/or rethrow at your discretion.\n",
    "            raise e\n",
    "        elif e.response['Error']['Code'] == 'InvalidRequestException':\n",
    "            # You provided a parameter value that is not valid for the current state of the resource.\n",
    "            # Deal with the exception here, and/or rethrow at your discretion.\n",
    "            raise e\n",
    "        elif e.response['Error']['Code'] == 'ResourceNotFoundException':\n",
    "            # We can't find the resource that you asked for.\n",
    "            # Deal with the exception here, and/or rethrow at your discretion.\n",
    "            raise e\n",
    "    else:\n",
    "        if 'SecretString' in secrets_response:\n",
    "            plaintext = secrets_response['SecretString']\n",
    "            secret_dict = json.loads(plaintext)\n",
    "        else:\n",
    "            decoded_binary_secret = base64.b64decode(get_secret_value_response['SecretBinary'])\n",
    "    \n",
    "    return secret_dict\n",
    "    \n",
    "\n",
    "    \n",
    "secrets = working_with_secrets()    \n",
    "\n",
    "print(secrets['password'])\n",
    "    "
   ]
  },
  {
   "cell_type": "markdown",
   "id": "b00f0d1c",
   "metadata": {},
   "source": [
    "## describe secrets."
   ]
  },
  {
   "cell_type": "code",
   "execution_count": 120,
   "id": "b6454055",
   "metadata": {},
   "outputs": [
    {
     "name": "stdout",
     "output_type": "stream",
     "text": [
      "{'ARN': 'arn:aws:secretsmanager:us-east-1:181437319056:secret:python-boto3-lUMM6t',\n",
      " 'CreatedDate': datetime.datetime(2022, 6, 26, 17, 21, 56, 456000, tzinfo=tzlocal()),\n",
      " 'Description': 'This secrets is use to test python boto3',\n",
      " 'LastAccessedDate': datetime.datetime(2022, 6, 26, 17, 0, tzinfo=tzlocal()),\n",
      " 'LastChangedDate': datetime.datetime(2022, 6, 26, 17, 21, 56, 502000, tzinfo=tzlocal()),\n",
      " 'Name': 'python-boto3',\n",
      " 'ResponseMetadata': {'HTTPHeaders': {'content-length': '344',\n",
      "                                      'content-type': 'application/x-amz-json-1.1',\n",
      "                                      'date': 'Mon, 27 Jun 2022 04:19:17 GMT',\n",
      "                                      'x-amzn-requestid': 'aea3bb88-5875-4786-bec5-c5d6a4188f1c'},\n",
      "                      'HTTPStatusCode': 200,\n",
      "                      'RequestId': 'aea3bb88-5875-4786-bec5-c5d6a4188f1c',\n",
      "                      'RetryAttempts': 0},\n",
      " 'Tags': [],\n",
      " 'VersionIdsToStages': {'e4677bb4-fdfe-48f0-96db-29f25bf9aff3': ['AWSCURRENT']}}\n",
      "{'e4677bb4-fdfe-48f0-96db-29f25bf9aff3': ['AWSCURRENT']}\n"
     ]
    }
   ],
   "source": [
    "def describe_secrets():\n",
    "    client = boto3.session.Session(profile_name=\"shared\").client(service_name=\"secretsmanager\", region_name=\"us-east-1\")\n",
    "    secret_arn = 'arn:aws:secretsmanager:us-east-1:181437319056:secret:python-boto3-lUMM6t'\n",
    "    metadata = client.describe_secret(SecretId=secret_arn)\n",
    "    pprint(metadata)\n",
    "    if 'RotationEnabled' in metadata and not metadata['RotationEnabled']:\n",
    "        logger.error(\"Secrets rotation is not enabled\",secret_arn )\n",
    "        raise ValueError(\"Secrets rotation is not enabled\",secret_arn)\n",
    "    version = metadata['VersionIdsToStages']\n",
    "    print(version)\n",
    "    if token not in versions:\n",
    "        logger.error(\"Secret version %s has no stage for rotation of secret %s.\" % (token, arn))\n",
    "        raise ValueError(\"Secret version %s has no stage for rotation of secret %s.\" % (token, arn)) \n",
    "    \n",
    "    \n",
    "describe_secrets()    \n"
   ]
  },
  {
   "cell_type": "code",
   "execution_count": 143,
   "id": "f8749c21",
   "metadata": {},
   "outputs": [
    {
     "data": {
      "text/plain": [
       "['__cause__',\n",
       " '__class__',\n",
       " '__context__',\n",
       " '__delattr__',\n",
       " '__dict__',\n",
       " '__dir__',\n",
       " '__doc__',\n",
       " '__eq__',\n",
       " '__format__',\n",
       " '__ge__',\n",
       " '__getattribute__',\n",
       " '__gt__',\n",
       " '__hash__',\n",
       " '__init__',\n",
       " '__init_subclass__',\n",
       " '__le__',\n",
       " '__lt__',\n",
       " '__module__',\n",
       " '__ne__',\n",
       " '__new__',\n",
       " '__reduce__',\n",
       " '__reduce_ex__',\n",
       " '__repr__',\n",
       " '__setattr__',\n",
       " '__setstate__',\n",
       " '__sizeof__',\n",
       " '__str__',\n",
       " '__subclasshook__',\n",
       " '__suppress_context__',\n",
       " '__traceback__',\n",
       " '__weakref__',\n",
       " 'args',\n",
       " 'fmt',\n",
       " 'with_traceback']"
      ]
     },
     "execution_count": 143,
     "metadata": {},
     "output_type": "execute_result"
    }
   ],
   "source": [
    "dir(botocore.exceptions.ValidationError)"
   ]
  },
  {
   "cell_type": "code",
   "execution_count": null,
   "id": "81ae5f03",
   "metadata": {},
   "outputs": [],
   "source": []
  }
 ],
 "metadata": {
  "kernelspec": {
   "display_name": "Python 3 (ipykernel)",
   "language": "python",
   "name": "python3"
  },
  "language_info": {
   "codemirror_mode": {
    "name": "ipython",
    "version": 3
   },
   "file_extension": ".py",
   "mimetype": "text/x-python",
   "name": "python",
   "nbconvert_exporter": "python",
   "pygments_lexer": "ipython3",
   "version": "3.9.12"
  }
 },
 "nbformat": 4,
 "nbformat_minor": 5
}
