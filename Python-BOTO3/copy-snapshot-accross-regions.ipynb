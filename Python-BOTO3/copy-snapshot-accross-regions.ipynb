{
 "cells": [
  {
   "cell_type": "markdown",
   "id": "5a72b83d",
   "metadata": {},
   "source": [
    "## 4.pm Est \n",
    "## 1.00pm  copy snapshotid from us-east-1 to us-east-1"
   ]
  },
  {
   "cell_type": "markdown",
   "id": "a59bf133",
   "metadata": {},
   "source": [
    "### Working with snapshots."
   ]
  },
  {
   "cell_type": "markdown",
   "id": "affa4283",
   "metadata": {},
   "source": [
    "## listing all snaps "
   ]
  },
  {
   "cell_type": "code",
   "execution_count": 49,
   "id": "d1bb0d06",
   "metadata": {},
   "outputs": [],
   "source": [
    "import boto3\n",
    "from botocore.exceptions import ClientError\n",
    "import time\n",
    "from pprint import pprint\n",
    "from datetime import datetime\n",
    "ec2 = boto3.session.Session(profile_name=\"shared\").resource('ec2', region_name='us-east-1')\n",
    "sts = boto3.session.Session(profile_name=\"shared\").client('sts')\n",
    "AccounId = sts.get_caller_identity()['Account']"
   ]
  },
  {
   "cell_type": "code",
   "execution_count": 37,
   "id": "d8d7ae39",
   "metadata": {},
   "outputs": [
    {
     "name": "stdout",
     "output_type": "stream",
     "text": [
      "snap-0c6a97f6bed20031a 2022-07-03 20:05:56\n"
     ]
    }
   ],
   "source": [
    "# at 06:00:00\n",
    "# getting account id\n",
    "# 2022/07/03 \n",
    "\n",
    "\n",
    "def list_snapshots():\n",
    "    \"\"\"This function list all snapshot taken at 5.05\n",
    "    \"\"\"\n",
    "    today = datetime.now()\n",
    "    start_time = str(datetime(today.year, today.month, today.day, 20,5,56))\n",
    "    filter_snap_size = {'Name': 'volume-size', 'Values': ['40']}\n",
    "    snapshots = ec2.snapshots.filter(Filters=[filter_snap_size],OwnerIds=[AccounId])\n",
    "    for each_snaps in snapshots:\n",
    "        if each_snaps.start_time.strftime('%Y-%m-%d %H:%M:%S') == start_time:\n",
    "            print(each_snaps.snapshot_id, each_snaps.start_time.strftime('%Y-%m-%d %H:%M:%S'))\n",
    "    \n",
    "list_snapshots()  \n"
   ]
  },
  {
   "cell_type": "code",
   "execution_count": 60,
   "id": "1faef58f",
   "metadata": {},
   "outputs": [
    {
     "name": "stdout",
     "output_type": "stream",
     "text": [
      "copying snapshots from us-east-1 to us-west-2\n",
      "dsnapshot copied successfully!!\n"
     ]
    }
   ],
   "source": [
    "\n",
    "def copy_snapshot_from_source_target(target_region, account_id=None, source_rgion= None):\n",
    "    \"\"\"Copy snapshots from us-east-1, us-weast-1\n",
    "    \"\"\"\n",
    "    # client object in the source region\n",
    "    client = boto3.session.Session(profile_name=\"shared\").client('ec2', region_name='us-east-1')\n",
    "    \n",
    "    if source_rgion is None:\n",
    "        source_rgion = \"us-east-1\"\n",
    "    if account_id is None:\n",
    "        account_id = AccounId   \n",
    "    response = client.describe_snapshots(OwnerIds=[account_id])['Snapshots']\n",
    "\n",
    "    snapshot_id = [snap['SnapshotId'] for snap in response]\n",
    "    \n",
    "    # copy snapshot from us-east-1 to us-west-2\n",
    "    target_client = boto3.session.Session(profile_name=\"shared\").client('ec2', region_name=target_region)\n",
    "    print(f\"copying snapshots from {source_rgion} to {target_region}\")\n",
    "    for each_snap in snapshot_id:\n",
    "        target_client.copy_snapshot(\n",
    "            Description= 'For DR reason',\n",
    "            SourceRegion= source_rgion,\n",
    "            SourceSnapshotId= each_snap\n",
    "        )\n",
    "    print(\"dsnapshot copied successfully!!\")    \n",
    "\n",
    "target_region = 'us-west-2'    \n",
    "copy_snapshot_from_source_target(target_region, None, None)    \n",
    "    "
   ]
  },
  {
   "cell_type": "code",
   "execution_count": 58,
   "id": "f8886d3b",
   "metadata": {},
   "outputs": [
    {
     "name": "stdout",
     "output_type": "stream",
     "text": [
      "snap-0234bef90cbfb1fc6\n",
      "snap-03f9c8191761b4031\n",
      "snap-0c6a97f6bed20031a\n"
     ]
    }
   ],
   "source": []
  },
  {
   "cell_type": "code",
   "execution_count": 61,
   "id": "b1be1efa",
   "metadata": {},
   "outputs": [
    {
     "name": "stdout",
     "output_type": "stream",
     "text": [
      "copying snapshots from us-east-1 to us-east-2\n",
      "dsnapshot copied successfully!!\n"
     ]
    }
   ],
   "source": [
    "copy_snapshot_from_source_target(\"us-east-2\", None, None)  "
   ]
  },
  {
   "cell_type": "code",
   "execution_count": null,
   "id": "2d0bd172",
   "metadata": {},
   "outputs": [],
   "source": []
  }
 ],
 "metadata": {
  "kernelspec": {
   "display_name": "Python 3 (ipykernel)",
   "language": "python",
   "name": "python3"
  },
  "language_info": {
   "codemirror_mode": {
    "name": "ipython",
    "version": 3
   },
   "file_extension": ".py",
   "mimetype": "text/x-python",
   "name": "python",
   "nbconvert_exporter": "python",
   "pygments_lexer": "ipython3",
   "version": "3.9.12"
  }
 },
 "nbformat": 4,
 "nbformat_minor": 5
}
