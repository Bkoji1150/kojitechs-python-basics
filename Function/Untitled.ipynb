{
 "cells": [
  {
   "cell_type": "markdown",
   "id": "6c56b5ad",
   "metadata": {},
   "source": [
    "# Python Function"
   ]
  },
  {
   "cell_type": "markdown",
   "id": "f0a9c01e",
   "metadata": {},
   "source": [
    "## python has a DRY principle"
   ]
  },
  {
   "cell_type": "code",
   "execution_count": 4,
   "id": "c13423d2",
   "metadata": {},
   "outputs": [],
   "source": [
    "# syntax of creating a function.\n",
    "\n",
    "def function_name(parameter1, paramater2):\n",
    "    # function body\n",
    "    # writer some action\n",
    "    \n",
    "function_name(value(argument))    \n",
    "    \n",
    "    \n",
    "\n",
    "    "
   ]
  },
  {
   "cell_type": "code",
   "execution_count": 5,
   "id": "9500d45b",
   "metadata": {},
   "outputs": [
    {
     "name": "stdout",
     "output_type": "stream",
     "text": [
      "Hello, my name is koji\n",
      "i'm a python developer!\n"
     ]
    }
   ],
   "source": [
    "def hello_world():\n",
    "    print(\"Hello, my name is koji\")\n",
    "    print(\"i'm a python developer!\")\n",
    "    \n",
    "    \n",
    "hello_world()    "
   ]
  },
  {
   "cell_type": "code",
   "execution_count": 6,
   "id": "88e93f64",
   "metadata": {},
   "outputs": [
    {
     "name": "stdout",
     "output_type": "stream",
     "text": [
      "Hello, my name is koji\n",
      "i'm a python developer!\n"
     ]
    }
   ],
   "source": [
    "hello_world()"
   ]
  },
  {
   "cell_type": "code",
   "execution_count": 7,
   "id": "4bfc481b",
   "metadata": {},
   "outputs": [
    {
     "name": "stdout",
     "output_type": "stream",
     "text": [
      "hello koji Bello welcome to kojitechs\n",
      "I'm 24 years old\n"
     ]
    }
   ],
   "source": [
    "def say_hello(name, age):\n",
    "    print(f\"hello {name}, welcome to kojitechs\")\n",
    "    print(f\"I'm {age} years old\")\n",
    "    \n",
    "say_hello(\"koji Bello\", 24)    \n",
    "    \n",
    "# say_hello = is the name of the function\n",
    "# name = that is a parameter in say_hello function\n",
    "# age = that is a parameter in say_hello function\n",
    "# print = is the function body\n",
    "# koji bello = is an argument\n",
    "# 24 = is an argument"
   ]
  },
  {
   "cell_type": "code",
   "execution_count": 8,
   "id": "cc737a83",
   "metadata": {},
   "outputs": [
    {
     "name": "stdout",
     "output_type": "stream",
     "text": [
      "hello john welcome to kojitechs\n",
      "I'm 30 years old\n"
     ]
    }
   ],
   "source": [
    "say_hello(\"john\", 30)"
   ]
  },
  {
   "cell_type": "code",
   "execution_count": 9,
   "id": "151a771c",
   "metadata": {},
   "outputs": [
    {
     "name": "stdout",
     "output_type": "stream",
     "text": [
      "hello Grand Baca welcome to kojitechs\n",
      "I'm 31 years old\n"
     ]
    }
   ],
   "source": [
    "say_hello(\"Grand Baca\", 31)"
   ]
  },
  {
   "cell_type": "code",
   "execution_count": 12,
   "id": "a3db98ba",
   "metadata": {},
   "outputs": [
    {
     "name": "stdout",
     "output_type": "stream",
     "text": [
      "hello koji, welcome to kojitechs\n"
     ]
    }
   ],
   "source": [
    "def say_hello_2(name):\n",
    "    print(f\"hello {name}, welcome to kojitechs\")\n",
    "   \n",
    "say_hello_2(\"koji\")"
   ]
  },
  {
   "cell_type": "markdown",
   "id": "d942e892",
   "metadata": {},
   "source": [
    "## Write function to add numbers"
   ]
  },
  {
   "cell_type": "code",
   "execution_count": 16,
   "id": "f335d3ac",
   "metadata": {},
   "outputs": [
    {
     "name": "stdout",
     "output_type": "stream",
     "text": [
      "the result of a and b is : helloworld\n"
     ]
    }
   ],
   "source": [
    "def add(a, b):\n",
    "    result = a + b\n",
    "    print(f\"the result of a and b is : {result}\")\n",
    "    \n",
    "    \n",
    "add(\"hello\", \"world\")    \n",
    "    \n",
    "    \n",
    "    \n"
   ]
  },
  {
   "cell_type": "code",
   "execution_count": 20,
   "id": "029da414",
   "metadata": {},
   "outputs": [
    {
     "name": "stdout",
     "output_type": "stream",
     "text": [
      "the result of a and b is : helloworld\n"
     ]
    }
   ],
   "source": [
    "def add(a: int, b: int) -> int:\n",
    "    result = a + b\n",
    "    print(f\"the result of a and b is : {result}\")\n",
    "    \n",
    "    \n",
    "add(\"hello\", \"world\")    \n",
    "    "
   ]
  },
  {
   "cell_type": "code",
   "execution_count": 21,
   "id": "5105862a",
   "metadata": {},
   "outputs": [
    {
     "name": "stdout",
     "output_type": "stream",
     "text": [
      "the result of a and b is : helloworld\n"
     ]
    }
   ],
   "source": [
    "def add(a: int, b: int) -> int:\n",
    "    result = a + b\n",
    "    print(f\"the result of a and b is : {result}\")\n",
    "    \n",
    "    \n",
    "add(\"hello\", \"world\")    \n",
    "    "
   ]
  },
  {
   "cell_type": "code",
   "execution_count": 24,
   "id": "1ddb7254",
   "metadata": {},
   "outputs": [
    {
     "name": "stdout",
     "output_type": "stream",
     "text": [
      "1 is an odd number\n",
      "2 is an even number\n",
      "3 is an odd number\n",
      "4 is an even number\n",
      "5 is an odd number\n",
      "6 is an even number\n",
      "7 is an odd number\n",
      "8 is an even number\n",
      "9 is an odd number\n",
      "10 is an even number\n",
      "11 is an odd number\n",
      "12 is an even number\n",
      "13 is an odd number\n",
      "14 is an even number\n",
      "15 is an odd number\n",
      "16 is an even number\n",
      "17 is an odd number\n",
      "18 is an even number\n",
      "19 is an odd number\n",
      "20 is an even number\n",
      "21 is an odd number\n",
      "22 is an even number\n",
      "23 is an odd number\n",
      "24 is an even number\n",
      "25 is an odd number\n",
      "26 is an even number\n",
      "27 is an odd number\n",
      "28 is an even number\n",
      "29 is an odd number\n",
      "30 is an even number\n",
      "31 is an odd number\n",
      "32 is an even number\n",
      "33 is an odd number\n",
      "34 is an even number\n",
      "35 is an odd number\n",
      "36 is an even number\n",
      "37 is an odd number\n",
      "38 is an even number\n",
      "39 is an odd number\n",
      "40 is an even number\n",
      "41 is an odd number\n",
      "42 is an even number\n",
      "43 is an odd number\n",
      "44 is an even number\n",
      "45 is an odd number\n",
      "46 is an even number\n",
      "47 is an odd number\n",
      "48 is an even number\n",
      "49 is an odd number\n"
     ]
    }
   ],
   "source": [
    "def even_numbers():\n",
    "    for i in range(1,100):\n",
    "        if i % 2 == 0:\n",
    "            print(i, \"is an even number\")\n",
    "        else:\n",
    "            print(i, \"is an odd number\")\n",
    "            \n",
    "            \n",
    "even_numbers()            "
   ]
  },
  {
   "cell_type": "code",
   "execution_count": 27,
   "id": "258d324a",
   "metadata": {},
   "outputs": [
    {
     "name": "stdout",
     "output_type": "stream",
     "text": [
      "1 is an odd number\n",
      "2 is an even number\n",
      "3 is an odd number\n",
      "4 is an even number\n",
      "5 is an odd number\n",
      "6 is an even number\n",
      "7 is an odd number\n",
      "8 is an even number\n",
      "9 is an odd number\n",
      "10 is an even number\n",
      "11 is an odd number\n"
     ]
    }
   ],
   "source": [
    "def even_numbers(n):\n",
    "    for i in range(1,n):\n",
    "        if i % 2 == 0:\n",
    "            print(i, \"is an even number\")\n",
    "        else:\n",
    "            print(i, \"is an odd number\")\n",
    "            \n",
    "            \n",
    "even_numbers(12)   "
   ]
  },
  {
   "cell_type": "code",
   "execution_count": null,
   "id": "e6ee9e02",
   "metadata": {},
   "outputs": [],
   "source": []
  }
 ],
 "metadata": {
  "kernelspec": {
   "display_name": "Python 3 (ipykernel)",
   "language": "python",
   "name": "python3"
  },
  "language_info": {
   "codemirror_mode": {
    "name": "ipython",
    "version": 3
   },
   "file_extension": ".py",
   "mimetype": "text/x-python",
   "name": "python",
   "nbconvert_exporter": "python",
   "pygments_lexer": "ipython3",
   "version": "3.9.12"
  }
 },
 "nbformat": 4,
 "nbformat_minor": 5
}
