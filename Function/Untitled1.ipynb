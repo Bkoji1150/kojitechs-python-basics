{
 "cells": [
  {
   "cell_type": "markdown",
   "id": "856af5a5",
   "metadata": {},
   "source": [
    "# Types of functions"
   ]
  },
  {
   "cell_type": "markdown",
   "id": "b5793df7",
   "metadata": {},
   "source": [
    "### We have a print function\n",
    "### a return function"
   ]
  },
  {
   "cell_type": "code",
   "execution_count": 4,
   "id": "d4c191a1",
   "metadata": {},
   "outputs": [
    {
     "name": "stdout",
     "output_type": "stream",
     "text": [
      "hello Baca You payment is due\n"
     ]
    }
   ],
   "source": [
    "def send_email(name):\n",
    "    print(f\"hello {name} You payment is due\")\n",
    "    \n",
    "    return None\n",
    "    \n",
    "send_email(\"Baca\")  "
   ]
  },
  {
   "cell_type": "markdown",
   "id": "28b16929",
   "metadata": {},
   "source": [
    "## Return send emails"
   ]
  },
  {
   "cell_type": "code",
   "execution_count": null,
   "id": "1c4f24b4",
   "metadata": {},
   "outputs": [],
   "source": [
    "def notify(name):\n",
    "    return f\"hello {name} You payment is due\""
   ]
  }
 ],
 "metadata": {
  "kernelspec": {
   "display_name": "Python 3 (ipykernel)",
   "language": "python",
   "name": "python3"
  },
  "language_info": {
   "codemirror_mode": {
    "name": "ipython",
    "version": 3
   },
   "file_extension": ".py",
   "mimetype": "text/x-python",
   "name": "python",
   "nbconvert_exporter": "python",
   "pygments_lexer": "ipython3",
   "version": "3.9.12"
  }
 },
 "nbformat": 4,
 "nbformat_minor": 5
}
