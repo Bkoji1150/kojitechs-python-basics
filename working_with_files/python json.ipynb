{
 "cells": [
  {
   "cell_type": "markdown",
   "id": "ba771a60",
   "metadata": {},
   "source": [
    "### What is JSON"
   ]
  },
  {
   "cell_type": "markdown",
   "id": "20901997",
   "metadata": {},
   "source": [
    "JSON (an acronym for JavaScript Object Notation) is a data-interchange format and is most commonly used for client-server communication. Refer"
   ]
  },
  {
   "cell_type": "code",
   "execution_count": 6,
   "id": "8ee2ac53",
   "metadata": {},
   "outputs": [],
   "source": [
    "import json\n",
    "\n",
    "\n",
    "\n",
    "hello = {\"name\": \"jane doe\", \"salary\": 9000, \"email\": \"JaneDoe@pynative.com\", \"male\":True}"
   ]
  },
  {
   "cell_type": "markdown",
   "id": "07ecc320",
   "metadata": {},
   "source": [
    "## To encode python object into json format"
   ]
  },
  {
   "cell_type": "markdown",
   "id": "b04f7d15",
   "metadata": {},
   "source": [
    "The json.dump() method (without “s” in “dump”) used to write Python serialized object as JSON formatted data into a file."
   ]
  },
  {
   "cell_type": "markdown",
   "id": "7bf8a91a",
   "metadata": {},
   "source": [
    "\n",
    "\n",
    "The json.dumps() method encodes any Python object into JSON formatted String."
   ]
  },
  {
   "cell_type": "code",
   "execution_count": 7,
   "id": "073c1638",
   "metadata": {},
   "outputs": [
    {
     "name": "stdout",
     "output_type": "stream",
     "text": [
      "{\"name\": \"jane doe\", \"salary\": 9000, \"email\": \"JaneDoe@pynative.com\", \"male\": true}\n"
     ]
    }
   ],
   "source": [
    "print(json.dumps(hello))"
   ]
  },
  {
   "cell_type": "code",
   "execution_count": 9,
   "id": "a78c483b",
   "metadata": {},
   "outputs": [
    {
     "name": "stdout",
     "output_type": "stream",
     "text": [
      "Converting Python dictionary into JSON formatted String\n",
      "{\"name\": \"Jane Doe\", \"salary\": 9000, \"skills\": [\"Python\", \"Machine Learning\", \"Web Development\"], \"email\": \"jane.doe@pynative.com\"}\n"
     ]
    }
   ],
   "source": [
    "def SendJsonResponse(resultDict):\n",
    "    print(\"Converting Python dictionary into JSON formatted String\")\n",
    "    json_object = json.dumps(resultDict)\n",
    "    print(json_object)\n",
    "    \n",
    "developer_Dict = {\n",
    "    \"name\": \"Jane Doe\",\n",
    "    \"salary\": 9000,\n",
    "    \"skills\": [\"Python\", \"Machine Learning\", \"Web Development\"],\n",
    "    \"email\": \"jane.doe@pynative.com\"\n",
    "}\n",
    "SendJsonResponse(developer_Dict)"
   ]
  },
  {
   "cell_type": "code",
   "execution_count": 10,
   "id": "1281867f",
   "metadata": {},
   "outputs": [
    {
     "name": "stdout",
     "output_type": "stream",
     "text": [
      "Converting Python primitive types into JSON\n",
      "Done converting Python primitive types into JSON\n",
      "{\"colorList\": [\"Red\", \"Green\", \"Blue\"], \"carTuple\": [\"BMW\", \"Audi\", \"range rover\"], \"sampleString\": \"pynative.com\", \"sampleInteger\": 457, \"sampleFloat\": 225.48, \"booleantrue\": true, \"booleanfalse\": false, \"nonevalue\": null}\n"
     ]
    }
   ],
   "source": [
    "import json\n",
    "\n",
    "sampleDict = {\n",
    "    \"colorList\": [\"Red\", \"Green\", \"Blue\"],\n",
    "    \"carTuple\": (\"BMW\", \"Audi\", \"range rover\"),\n",
    "    \"sampleString\": \"pynative.com\",\n",
    "    \"sampleInteger\": 457,\n",
    "    \"sampleFloat\": 225.48,\n",
    "    \"booleantrue\": True,\n",
    "    \"booleanfalse\": False,\n",
    "    \"nonevalue\": None\n",
    "}\n",
    "print(\"Converting Python primitive types into JSON\")\n",
    "resultJSON = json.dumps(sampleDict)\n",
    "print(\"Done converting Python primitive types into JSON\")\n",
    "print(resultJSON)"
   ]
  },
  {
   "cell_type": "markdown",
   "id": "05a815e0",
   "metadata": {},
   "source": [
    "## json.dump()"
   ]
  },
  {
   "cell_type": "markdown",
   "id": "17362f5e",
   "metadata": {},
   "source": [
    "To encode and write JSON data to a file"
   ]
  },
  {
   "cell_type": "markdown",
   "id": "fe31260b",
   "metadata": {},
   "source": [
    "To write the JSON response in a file: Most of the time, when you execute a GET request, you receive a response in JSON format, and you can store JSON response in a file for future use or for an underlying system to use."
   ]
  },
  {
   "cell_type": "code",
   "execution_count": 26,
   "id": "98c775bb",
   "metadata": {},
   "outputs": [
    {
     "name": "stdout",
     "output_type": "stream",
     "text": [
      "Started writing JSON data into a file\n",
      "Done writing JSON data into .json file\n"
     ]
    }
   ],
   "source": [
    "def Dumpuser_info(objec):\n",
    "    print(\"Started writing JSON data into a file\")\n",
    "    with open(\"developer.json\", \"w\") as f:\n",
    "        json.dump(objec, f, indent=4, sort_keys=True) # encode dict into JSON\n",
    "    print(\"Done writing JSON data into .json file\")   \n",
    "developer = {\n",
    "    \"name\": \"jane doe\",\n",
    "    \"salary\": 9000,\n",
    "    \"skills\": [\"Raspberry pi\", \"Machine Learning\", \"Web Development\"],\n",
    "    \"email\": \"JaneDoe@pynative.com\"\n",
    "}    \n",
    "Dumpuser_info(developer)    "
   ]
  },
  {
   "cell_type": "code",
   "execution_count": 28,
   "id": "0d2a8e25",
   "metadata": {},
   "outputs": [
    {
     "name": "stdout",
     "output_type": "stream",
     "text": [
      "Reading JSON data into a file\n",
      "{\n",
      "    \"email\": \"JaneDoe@pynative.com\",\n",
      "    \"name\": \"jane doe\",\n",
      "    \"salary\": 9000,\n",
      "    \"skills\": [\n",
      "        \"Raspberry pi\",\n",
      "        \"Machine Learning\",\n",
      "        \"Web Development\"\n",
      "    ]\n",
      "}\n",
      "Done reading JSON data into .json file\n"
     ]
    }
   ],
   "source": [
    "def ReadJsonfile():\n",
    "    print(\"Reading JSON data into a file\")\n",
    "    with open(\"developer.json\", \"r\") as f:\n",
    "        object = f.read() # encode dict into JSON\n",
    "    print(object)    \n",
    "    print(\"Done reading JSON data into .json file\") \n",
    "    \n",
    "ReadJsonfile()    "
   ]
  },
  {
   "cell_type": "code",
   "execution_count": null,
   "id": "1becf154",
   "metadata": {},
   "outputs": [],
   "source": []
  }
 ],
 "metadata": {
  "kernelspec": {
   "display_name": "Python 3 (ipykernel)",
   "language": "python",
   "name": "python3"
  },
  "language_info": {
   "codemirror_mode": {
    "name": "ipython",
    "version": 3
   },
   "file_extension": ".py",
   "mimetype": "text/x-python",
   "name": "python",
   "nbconvert_exporter": "python",
   "pygments_lexer": "ipython3",
   "version": "3.9.12"
  }
 },
 "nbformat": 4,
 "nbformat_minor": 5
}
